{
  "nbformat": 4,
  "nbformat_minor": 0,
  "metadata": {
    "colab": {
      "provenance": [],
      "toc_visible": true,
      "include_colab_link": true
    },
    "kernelspec": {
      "name": "python3",
      "display_name": "Python 3"
    },
    "language_info": {
      "name": "python"
    }
  },
  "cells": [
    {
      "cell_type": "markdown",
      "metadata": {
        "id": "view-in-github",
        "colab_type": "text"
      },
      "source": [
        "<a href=\"https://colab.research.google.com/github/hoanqphann/DataAnalyst/blob/main/Bitly_Data_from_1_USA_gov.ipynb\" target=\"_parent\"><img src=\"https://colab.research.google.com/assets/colab-badge.svg\" alt=\"Open In Colab\"/></a>"
      ]
    },
    {
      "cell_type": "markdown",
      "source": [
        "#**PHÂN TÍCH DỮ LIỆU thông tin truy cập URL rút gọn (short URL)**"
      ],
      "metadata": {
        "id": "RIXwPWD9jniR"
      }
    },
    {
      "cell_type": "markdown",
      "source": [
        "##**1.Định nghĩa vấn đề**\n",
        "+ **Mô tả**:\n",
        "   + Phạm vi: Dữ liệu gồm các bản ghi truy cập (click logs) được thu thập từ các liên kết rút gọn trên nền tảng bit.ly / 1.usa.gov.\n",
        "   + Đặc điểm: Bao gồm hàng nghìn bản ghi (mẫu), mỗi bản ghi là một đối tượng JSON chứa thông tin chi tiết của một sự kiện click.\n",
        "+ **Dữ liệu vào**:\n",
        "   + a: Chuỗi User-Agent – thông tin về trình duyệt, hệ điều hành hoặc ứng dụng người dùng. (Object)\n",
        "   + al: Ngôn ngữ người dùng (accept-language). (Object)\n",
        "   + c: Mã quốc gia (ISO). (Object)\n",
        "   + cy: Thành phố người truy cập (Object)\n",
        "   + gr: Bang hoặc tỉnh. (Object)\n",
        "   + ll: Tọa độ địa lý . (Object)\n",
        "   + tz: Múi giờ của người dùng (Object)\n",
        "   + nk: Số lượng click (thường là 0 hoặc 1). (float64)\n",
        "   + g: mã rút gọn toàn cục của liên kết Bitly. (Object)\n",
        "   + h: mã rút gọn riêng do người dùng cụ thể tạo ra. (Object)\n",
        "   + l: tên tài khoản (username) của người dùng Bitly đã tạo link. (Object)\n",
        "   + hh: domain rút gọn mà liên kết thuộc về. (Object)\n",
        "   + r: Referrer – nguồn truy cập (Facebook, Twitter, direct,...). (Object)\n",
        "   + u: URL gốc (đích đến thật). (Object)\n",
        "   + t: Thời gian click (Unix timestamp). (float64)\n",
        "   + hc: Thời gian tạo link rút gọn (float64)\n",
        "   + kw: Từ khóa (nếu có).(Object)\n",
        "   + heartbeat: Bản ghi kỹ thuật của hệ thống (dùng theo dõi trạng thái).(float64)\n",
        "+ **Mục tiêu**:\n",
        "   + Phân tích số lượng người dùng truy cập ở những múi giờ khác nhau.\n",
        "   + Phân tích số lượng app/website truy cập vào bit.ly.\n",
        "   + Phân tích số lượng truy cập theo từng múi giờ, được phân loại theo hệ điều hành."
      ],
      "metadata": {
        "id": "XQ8LI9m4lCyg"
      }
    },
    {
      "cell_type": "markdown",
      "source": [
        "##**2.Chuẩn bị vấn đề**"
      ],
      "metadata": {
        "id": "IOXbwne57KlK"
      }
    },
    {
      "cell_type": "markdown",
      "source": [
        "###**2.1.Khai báo thư viện**"
      ],
      "metadata": {
        "id": "L90U7vlB7LiL"
      }
    },
    {
      "cell_type": "code",
      "execution_count": null,
      "metadata": {
        "id": "g4FXc6g9ypBt"
      },
      "outputs": [],
      "source": [
        "from numpy.random import randn\n",
        "import numpy as np\n",
        "np.random.seed(123)\n",
        "import os\n",
        "import matplotlib.pyplot as plt\n",
        "import pandas as pd\n",
        "plt.rc(\"figure\", figsize=(10, 6))\n",
        "np.set_printoptions(precision=4)\n",
        "pd.options.display.max_columns = 20\n",
        "pd.options.display.max_rows = 20\n",
        "pd.options.display.max_colwidth = 80"
      ]
    },
    {
      "cell_type": "markdown",
      "source": [
        "###**2.2.Nạp dữ liệu**"
      ],
      "metadata": {
        "id": "qUCoivXp7PNf"
      }
    },
    {
      "cell_type": "code",
      "source": [
        "path = \"example.txt\"\n",
        "import json\n",
        "path = \"example.txt\"\n",
        "with open(path) as f:\n",
        "    records = [json.loads(line) for line in f]\n",
        "time_zones = [rec[\"tz\"] for rec in records if \"tz\" in rec]"
      ],
      "metadata": {
        "id": "mBHILL2fzBEq"
      },
      "execution_count": null,
      "outputs": []
    },
    {
      "cell_type": "markdown",
      "source": [
        "##**3.Mô tả thống kê**"
      ],
      "metadata": {
        "id": "dGwze_lN7VVg"
      }
    },
    {
      "cell_type": "markdown",
      "source": [
        "#### **3.1.Hiển thị một số thông tin về dữ liệu**"
      ],
      "metadata": {
        "id": "s5sQKkrc8p2J"
      }
    },
    {
      "cell_type": "code",
      "source": [
        "frame = pd.DataFrame(records)"
      ],
      "metadata": {
        "id": "kgu6wmiP0DGq"
      },
      "execution_count": null,
      "outputs": []
    },
    {
      "cell_type": "code",
      "source": [
        "frame.info()"
      ],
      "metadata": {
        "colab": {
          "base_uri": "https://localhost:8080/"
        },
        "id": "flYR9y150FBZ",
        "outputId": "8bc3610d-18bf-4667-8e6c-bc06e2ebbdcb"
      },
      "execution_count": null,
      "outputs": [
        {
          "output_type": "stream",
          "name": "stdout",
          "text": [
            "<class 'pandas.core.frame.DataFrame'>\n",
            "RangeIndex: 3560 entries, 0 to 3559\n",
            "Data columns (total 18 columns):\n",
            " #   Column       Non-Null Count  Dtype  \n",
            "---  ------       --------------  -----  \n",
            " 0   a            3440 non-null   object \n",
            " 1   c            2919 non-null   object \n",
            " 2   nk           3440 non-null   float64\n",
            " 3   tz           3440 non-null   object \n",
            " 4   gr           2919 non-null   object \n",
            " 5   g            3440 non-null   object \n",
            " 6   h            3440 non-null   object \n",
            " 7   l            3440 non-null   object \n",
            " 8   al           3094 non-null   object \n",
            " 9   hh           3440 non-null   object \n",
            " 10  r            3440 non-null   object \n",
            " 11  u            3440 non-null   object \n",
            " 12  t            3440 non-null   float64\n",
            " 13  hc           3440 non-null   float64\n",
            " 14  cy           2919 non-null   object \n",
            " 15  ll           2919 non-null   object \n",
            " 16  _heartbeat_  120 non-null    float64\n",
            " 17  kw           93 non-null     object \n",
            "dtypes: float64(4), object(14)\n",
            "memory usage: 500.8+ KB\n"
          ]
        }
      ]
    },
    {
      "cell_type": "markdown",
      "source": [
        "**Thông tin cơ bản của bộ dữ liêu**\n",
        "*   Dữ liệu có 18 tính chất (cột) để phân tích, bao gồm: a, c, nk, tz, gr, g, h, l, al, hh, r, u, t, hc, cy, ll, heartbeat, kw\n",
        "*   Các giá trị thuộc đa số thuộc kiểu object (chuỗi/text), 4 kiểu (float64).\n",
        "*   Tổng số dòng dữ liệu là 3560 bản ghi (tổng số lần click).\n"
      ],
      "metadata": {
        "id": "uD7FF-uz7jeA"
      }
    },
    {
      "cell_type": "code",
      "source": [
        "from collections import Counter\n",
        "counts = Counter(time_zones)\n",
        "counts.most_common(10)"
      ],
      "metadata": {
        "colab": {
          "base_uri": "https://localhost:8080/"
        },
        "id": "PtfS8mBJz3dV",
        "outputId": "3b855865-0558-4224-dbb5-800c0babda21"
      },
      "execution_count": null,
      "outputs": [
        {
          "output_type": "execute_result",
          "data": {
            "text/plain": [
              "[('America/New_York', 1251),\n",
              " ('', 521),\n",
              " ('America/Chicago', 400),\n",
              " ('America/Los_Angeles', 382),\n",
              " ('America/Denver', 191),\n",
              " ('Europe/London', 74),\n",
              " ('Asia/Tokyo', 37),\n",
              " ('Pacific/Honolulu', 36),\n",
              " ('Europe/Madrid', 35),\n",
              " ('America/Sao_Paulo', 33)]"
            ]
          },
          "metadata": {},
          "execution_count": 49
        }
      ]
    },
    {
      "cell_type": "markdown",
      "source": [
        "**Dữ liệu ở trên là top 10 múi giờ truy cập nhiều nhất .Ở dòng thứ 2 bị trống là do không thể ghi nhận được múi giờ.**"
      ],
      "metadata": {
        "id": "nu9NIydO9PQy"
      }
    },
    {
      "cell_type": "markdown",
      "source": [
        "#### **3.2. Xử lí dữ liệu bị trống**"
      ],
      "metadata": {
        "id": "AY7kQu6e9gDe"
      }
    },
    {
      "cell_type": "code",
      "source": [
        "def get_counts(sequence):\n",
        "    counts = {}\n",
        "    for x in sequence:\n",
        "        if x in counts:\n",
        "            counts[x] += 1\n",
        "        else:\n",
        "            counts[x] = 1\n",
        "    return counts\n",
        "counts = get_counts(time_zones)\n",
        "len(time_zones)"
      ],
      "metadata": {
        "colab": {
          "base_uri": "https://localhost:8080/"
        },
        "id": "q8xKDSOgzUhB",
        "outputId": "a3eda704-53f8-4c78-c9d9-db162360103b"
      },
      "execution_count": null,
      "outputs": [
        {
          "output_type": "execute_result",
          "data": {
            "text/plain": [
              "3440"
            ]
          },
          "metadata": {},
          "execution_count": 70
        }
      ]
    },
    {
      "cell_type": "markdown",
      "source": [
        "**Dựa vào dữ liệu trên có thể thấy có tất cả 3440 dữ liệu có ghi được múi giờ.**"
      ],
      "metadata": {
        "id": "inntz15m-Gbp"
      }
    },
    {
      "cell_type": "code",
      "source": [
        "tz_counts = frame[\"tz\"].value_counts()\n",
        "tz_counts.head()\n"
      ],
      "metadata": {
        "colab": {
          "base_uri": "https://localhost:8080/",
          "height": 272
        },
        "id": "1N9ozr2d0PpP",
        "outputId": "4d8bfdbb-8286-4865-b8e8-2314eef0ae96"
      },
      "execution_count": null,
      "outputs": [
        {
          "output_type": "execute_result",
          "data": {
            "text/plain": [
              "tz\n",
              "America/New_York       1251\n",
              "                        521\n",
              "America/Chicago         400\n",
              "America/Los_Angeles     382\n",
              "America/Denver          191\n",
              "Name: count, dtype: int64"
            ],
            "text/html": [
              "<div>\n",
              "<style scoped>\n",
              "    .dataframe tbody tr th:only-of-type {\n",
              "        vertical-align: middle;\n",
              "    }\n",
              "\n",
              "    .dataframe tbody tr th {\n",
              "        vertical-align: top;\n",
              "    }\n",
              "\n",
              "    .dataframe thead th {\n",
              "        text-align: right;\n",
              "    }\n",
              "</style>\n",
              "<table border=\"1\" class=\"dataframe\">\n",
              "  <thead>\n",
              "    <tr style=\"text-align: right;\">\n",
              "      <th></th>\n",
              "      <th>count</th>\n",
              "    </tr>\n",
              "    <tr>\n",
              "      <th>tz</th>\n",
              "      <th></th>\n",
              "    </tr>\n",
              "  </thead>\n",
              "  <tbody>\n",
              "    <tr>\n",
              "      <th>America/New_York</th>\n",
              "      <td>1251</td>\n",
              "    </tr>\n",
              "    <tr>\n",
              "      <th></th>\n",
              "      <td>521</td>\n",
              "    </tr>\n",
              "    <tr>\n",
              "      <th>America/Chicago</th>\n",
              "      <td>400</td>\n",
              "    </tr>\n",
              "    <tr>\n",
              "      <th>America/Los_Angeles</th>\n",
              "      <td>382</td>\n",
              "    </tr>\n",
              "    <tr>\n",
              "      <th>America/Denver</th>\n",
              "      <td>191</td>\n",
              "    </tr>\n",
              "  </tbody>\n",
              "</table>\n",
              "</div><br><label><b>dtype:</b> int64</label>"
            ]
          },
          "metadata": {},
          "execution_count": 87
        }
      ]
    },
    {
      "cell_type": "markdown",
      "source": [
        "**Dòng thứ 2 có 521 dữ liệu bị trống phần múi giờ**"
      ],
      "metadata": {
        "id": "Ajy8GY04_Fij"
      }
    },
    {
      "cell_type": "code",
      "source": [
        "clean_tz = frame[\"tz\"].fillna(\"Missing\")\n",
        "clean_tz[clean_tz == \"\"] = \"Unknown\"\n",
        "tz_counts = clean_tz.value_counts()\n",
        "tz_counts.head()"
      ],
      "metadata": {
        "colab": {
          "base_uri": "https://localhost:8080/",
          "height": 272
        },
        "id": "UvjE7Y2m0VHt",
        "outputId": "1e365edc-2a8d-48dd-eac0-748c9e5a2ef5"
      },
      "execution_count": null,
      "outputs": [
        {
          "output_type": "execute_result",
          "data": {
            "text/plain": [
              "tz\n",
              "America/New_York       1251\n",
              "Unknown                 521\n",
              "America/Chicago         400\n",
              "America/Los_Angeles     382\n",
              "America/Denver          191\n",
              "Name: count, dtype: int64"
            ],
            "text/html": [
              "<div>\n",
              "<style scoped>\n",
              "    .dataframe tbody tr th:only-of-type {\n",
              "        vertical-align: middle;\n",
              "    }\n",
              "\n",
              "    .dataframe tbody tr th {\n",
              "        vertical-align: top;\n",
              "    }\n",
              "\n",
              "    .dataframe thead th {\n",
              "        text-align: right;\n",
              "    }\n",
              "</style>\n",
              "<table border=\"1\" class=\"dataframe\">\n",
              "  <thead>\n",
              "    <tr style=\"text-align: right;\">\n",
              "      <th></th>\n",
              "      <th>count</th>\n",
              "    </tr>\n",
              "    <tr>\n",
              "      <th>tz</th>\n",
              "      <th></th>\n",
              "    </tr>\n",
              "  </thead>\n",
              "  <tbody>\n",
              "    <tr>\n",
              "      <th>America/New_York</th>\n",
              "      <td>1251</td>\n",
              "    </tr>\n",
              "    <tr>\n",
              "      <th>Unknown</th>\n",
              "      <td>521</td>\n",
              "    </tr>\n",
              "    <tr>\n",
              "      <th>America/Chicago</th>\n",
              "      <td>400</td>\n",
              "    </tr>\n",
              "    <tr>\n",
              "      <th>America/Los_Angeles</th>\n",
              "      <td>382</td>\n",
              "    </tr>\n",
              "    <tr>\n",
              "      <th>America/Denver</th>\n",
              "      <td>191</td>\n",
              "    </tr>\n",
              "  </tbody>\n",
              "</table>\n",
              "</div><br><label><b>dtype:</b> int64</label>"
            ]
          },
          "metadata": {},
          "execution_count": 92
        }
      ]
    },
    {
      "cell_type": "markdown",
      "source": [
        "**Cách xử lí là những nơi không biết múi giờ sẽ để thành \"unknown\".**"
      ],
      "metadata": {
        "id": "gXJhzp1l_S3y"
      }
    },
    {
      "cell_type": "markdown",
      "source": [
        "##**4.EDA và trực quan hóa dữ liệu**"
      ],
      "metadata": {
        "id": "A6NNoGHl_bwe"
      }
    },
    {
      "cell_type": "markdown",
      "source": [
        "###**4.1.Phân tích đơn biến(Univariate Analysis)**"
      ],
      "metadata": {
        "id": "EfSBlEsc_hCZ"
      }
    },
    {
      "cell_type": "markdown",
      "source": [
        "***Câu hỏi 1:*** Múi giờ nào có số lượt truy cập cao nhất trong dữ liệu? Các múi giờ khác có mức độ truy cập ra sao?"
      ],
      "metadata": {
        "id": "LrKKumSMAEL6"
      }
    },
    {
      "cell_type": "code",
      "source": [
        "import seaborn as sns\n",
        "subset = tz_counts.head()\n",
        "sns.barplot(y=subset.index, x=subset.to_numpy())"
      ],
      "metadata": {
        "colab": {
          "base_uri": "https://localhost:8080/",
          "height": 539
        },
        "id": "rmgAlhmK0mNE",
        "outputId": "dcd6d8b5-d696-49ba-9c4f-93ceec47923b"
      },
      "execution_count": null,
      "outputs": [
        {
          "output_type": "execute_result",
          "data": {
            "text/plain": [
              "<Axes: ylabel='tz'>"
            ]
          },
          "metadata": {},
          "execution_count": 94
        },
        {
          "output_type": "display_data",
          "data": {
            "text/plain": [
              "<Figure size 1000x600 with 1 Axes>"
            ],
            "image/png": "[encoded data removed]"
          },
          "metadata": {}
        }
      ]
    },
    {
      "cell_type": "markdown",
      "source": [
        "**Kết quả phân tích:**\n",
        "  + America/New_York có số lượt truy cập cao nhất, với khoảng 1250 click.\n",
        "  + America/Chicago (khoảng 400 click) và America/Los_Angeles (khoảng 300 click) theo sau.\n",
        "  + Các múi giờ ở châu Âu (Europe/London) và Thái Bình Dương (Pacific/Honolulu) có lượng truy cập thấp hơn nhiều.\n",
        "\n",
        "**Nhận xét:**\n",
        "  + Người dùng ở miền Đông Hoa Kỳ (EST) chiếm phần lớn lưu lượng truy cập. Điều này hợp lý vì đây là khu vực dân cư đông, bao gồm New York, Washington D.C., Philadelphia…\n",
        "  + Dữ liệu thể hiện rõ mức độ tập trung người dùng ở Bắc Mỹ, đặc biệt là Hoa Kỳ.\n",
        "  + Rất ít người truy cập từ múi giờ ngoài nước Mỹ.\n",
        "  \n"
      ],
      "metadata": {
        "id": "A5nUTNeBAVsX"
      }
    },
    {
      "cell_type": "markdown",
      "source": [
        "***Câu hỏi 2:*** Trình duyệt / ứng dụng nào được sử dụng nhiều nhất để truy cập các link Bitly? Điều này giúp ích gì cho nhà phân tích / doanh nghiệp?"
      ],
      "metadata": {
        "id": "-JWmT0MJEFw1"
      }
    },
    {
      "cell_type": "code",
      "source": [
        "results = pd.Series([x.split()[0] for x in frame[\"a\"].dropna()])\n",
        "results.head(5)\n",
        "results.value_counts().head(8)"
      ],
      "metadata": {
        "colab": {
          "base_uri": "https://localhost:8080/",
          "height": 335
        },
        "id": "PzzI-MzyB6Iu",
        "outputId": "e81f8802-92e1-479e-ff59-52cc173720d7"
      },
      "execution_count": null,
      "outputs": [
        {
          "output_type": "execute_result",
          "data": {
            "text/plain": [
              "Mozilla/5.0                 2594\n",
              "Mozilla/4.0                  601\n",
              "GoogleMaps/RochesterNY       121\n",
              "Opera/9.80                    34\n",
              "TEST_INTERNET_AGENT           24\n",
              "GoogleProducer                21\n",
              "Mozilla/6.0                    5\n",
              "BlackBerry8520/5.0.0.681       4\n",
              "Name: count, dtype: int64"
            ],
            "text/html": [
              "<div>\n",
              "<style scoped>\n",
              "    .dataframe tbody tr th:only-of-type {\n",
              "        vertical-align: middle;\n",
              "    }\n",
              "\n",
              "    .dataframe tbody tr th {\n",
              "        vertical-align: top;\n",
              "    }\n",
              "\n",
              "    .dataframe thead th {\n",
              "        text-align: right;\n",
              "    }\n",
              "</style>\n",
              "<table border=\"1\" class=\"dataframe\">\n",
              "  <thead>\n",
              "    <tr style=\"text-align: right;\">\n",
              "      <th></th>\n",
              "      <th>count</th>\n",
              "    </tr>\n",
              "  </thead>\n",
              "  <tbody>\n",
              "    <tr>\n",
              "      <th>Mozilla/5.0</th>\n",
              "      <td>2594</td>\n",
              "    </tr>\n",
              "    <tr>\n",
              "      <th>Mozilla/4.0</th>\n",
              "      <td>601</td>\n",
              "    </tr>\n",
              "    <tr>\n",
              "      <th>GoogleMaps/RochesterNY</th>\n",
              "      <td>121</td>\n",
              "    </tr>\n",
              "    <tr>\n",
              "      <th>Opera/9.80</th>\n",
              "      <td>34</td>\n",
              "    </tr>\n",
              "    <tr>\n",
              "      <th>TEST_INTERNET_AGENT</th>\n",
              "      <td>24</td>\n",
              "    </tr>\n",
              "    <tr>\n",
              "      <th>GoogleProducer</th>\n",
              "      <td>21</td>\n",
              "    </tr>\n",
              "    <tr>\n",
              "      <th>Mozilla/6.0</th>\n",
              "      <td>5</td>\n",
              "    </tr>\n",
              "    <tr>\n",
              "      <th>BlackBerry8520/5.0.0.681</th>\n",
              "      <td>4</td>\n",
              "    </tr>\n",
              "  </tbody>\n",
              "</table>\n",
              "</div><br><label><b>dtype:</b> int64</label>"
            ]
          },
          "metadata": {},
          "execution_count": 104
        }
      ]
    },
    {
      "cell_type": "code",
      "source": [
        "frame[\"a\"][1]\n",
        "frame[\"a\"][50]\n",
        "frame[\"a\"][51][:50]\n",
        "results = pd.Series([x.split()[0] for x in frame[\"a\"].dropna()])\n",
        "browser_counts = results.value_counts().head(10)\n",
        "plt.figure(figsize=(10, 5))\n",
        "sns.barplot(y=browser_counts.index, x=browser_counts.values)\n",
        "plt.title(\"Top 10 Trình duyệt / Ứng dụng phổ biến nhất\", fontsize=14)\n",
        "plt.xlabel(\"Số lượt truy cập (Count)\")\n",
        "plt.ylabel(\"Tên trình duyệt / Ứng dụng\")\n",
        "plt.show()"
      ],
      "metadata": {
        "colab": {
          "base_uri": "https://localhost:8080/",
          "height": 493
        },
        "id": "XTUs2cBw0xPI",
        "outputId": "92ca6e09-6127-4144-b207-24b4bd04861e"
      },
      "execution_count": null,
      "outputs": [
        {
          "output_type": "display_data",
          "data": {
            "text/plain": [
              "<Figure size 1000x500 with 1 Axes>"
            ],
            "image/png": "[encoded data removed]"
          },
          "metadata": {}
        }
      ]
    },
    {
      "cell_type": "markdown",
      "source": [
        "**Kết quả phân tích:**\n",
        "  + Biểu đồ trên thể hiện 10 trình duyệt và ứng dụng được sử dụng nhiều nhất để truy cập các đường dẫn rút gọn của Bitly. Kết quả cho thấy Mozilla/5.0 chiếm tỷ lệ vượt trội, với số lượt truy cập cao gấp nhiều lần so với các nhóm còn lại. Điều này phản ánh rằng phần lớn người dùng Bitly truy cập thông qua các trình duyệt web hiện đại (như Chrome, Firefox, Safari, Edge…), bởi hầu hết các trình duyệt này đều khai báo chuỗi nhận dạng bắt đầu bằng \"Mozilla/5.0\" trong user-agent.\n",
        "  + Dựa vào biểu đồ và số liệu ở trên các nhà phân tích / doanh nghiệp biết được nền tảng truy cập phổ biến nhất từ đó giúp tối ưu trải nghiệm người dùng (UX). Nếu phần lớn người dùng đến từ “Mozilla/5.0” (trình duyệt hiện đại), ta có thể ưu tiên hỗ trợ các trình duyệt đó.\n"
      ],
      "metadata": {
        "id": "AxHS13z-EYsb"
      }
    },
    {
      "cell_type": "markdown",
      "source": [
        "###**4.2.Phân tích đa biến(Multivariate Analysis)**"
      ],
      "metadata": {
        "id": "t5RBk57wGhzk"
      }
    },
    {
      "cell_type": "code",
      "source": [
        "cframe = frame[frame[\"a\"].notna()].copy()"
      ],
      "metadata": {
        "id": "07-sqMgq03r4"
      },
      "execution_count": null,
      "outputs": []
    },
    {
      "cell_type": "markdown",
      "source": [
        "**Dòng lệnh ở trên để làm sạch dữ liệu (data cleaning).**"
      ],
      "metadata": {
        "id": "Ewe5ebwNJZC4"
      }
    },
    {
      "cell_type": "code",
      "source": [
        "cframe[\"os\"] = np.where(cframe[\"a\"].str.contains(\"Windows\"),\n",
        "                        \"Windows\", \"Not Windows\")\n",
        "cframe[\"os\"].head(5)"
      ],
      "metadata": {
        "colab": {
          "base_uri": "https://localhost:8080/",
          "height": 241
        },
        "id": "UnD7H7nk05qh",
        "outputId": "f4357131-dddd-4324-a26e-f48377554c37"
      },
      "execution_count": null,
      "outputs": [
        {
          "output_type": "execute_result",
          "data": {
            "text/plain": [
              "0        Windows\n",
              "1    Not Windows\n",
              "2        Windows\n",
              "3    Not Windows\n",
              "4        Windows\n",
              "Name: os, dtype: object"
            ],
            "text/html": [
              "<div>\n",
              "<style scoped>\n",
              "    .dataframe tbody tr th:only-of-type {\n",
              "        vertical-align: middle;\n",
              "    }\n",
              "\n",
              "    .dataframe tbody tr th {\n",
              "        vertical-align: top;\n",
              "    }\n",
              "\n",
              "    .dataframe thead th {\n",
              "        text-align: right;\n",
              "    }\n",
              "</style>\n",
              "<table border=\"1\" class=\"dataframe\">\n",
              "  <thead>\n",
              "    <tr style=\"text-align: right;\">\n",
              "      <th></th>\n",
              "      <th>os</th>\n",
              "    </tr>\n",
              "  </thead>\n",
              "  <tbody>\n",
              "    <tr>\n",
              "      <th>0</th>\n",
              "      <td>Windows</td>\n",
              "    </tr>\n",
              "    <tr>\n",
              "      <th>1</th>\n",
              "      <td>Not Windows</td>\n",
              "    </tr>\n",
              "    <tr>\n",
              "      <th>2</th>\n",
              "      <td>Windows</td>\n",
              "    </tr>\n",
              "    <tr>\n",
              "      <th>3</th>\n",
              "      <td>Not Windows</td>\n",
              "    </tr>\n",
              "    <tr>\n",
              "      <th>4</th>\n",
              "      <td>Windows</td>\n",
              "    </tr>\n",
              "  </tbody>\n",
              "</table>\n",
              "</div><br><label><b>dtype:</b> object</label>"
            ]
          },
          "metadata": {},
          "execution_count": 81
        }
      ]
    },
    {
      "cell_type": "markdown",
      "source": [
        "**Phân loại trong quá trình phân tích dữ liệu Bitly click logs,\n",
        "dựa trên chuỗi user agent (a) để xác định người dùng đang dùng Windows hay hệ điều hành khác.**"
      ],
      "metadata": {
        "id": "by1Luj2hKA7y"
      }
    },
    {
      "cell_type": "code",
      "source": [
        "by_tz_os = cframe.groupby([\"tz\", \"os\"])\n",
        "agg_counts = by_tz_os.size().unstack().fillna(0)\n",
        "agg_counts.head()"
      ],
      "metadata": {
        "colab": {
          "base_uri": "https://localhost:8080/",
          "height": 238
        },
        "id": "vj6tnqLY1Dh3",
        "outputId": "49739394-0e6e-447a-afc8-efa206f4e0eb"
      },
      "execution_count": null,
      "outputs": [
        {
          "output_type": "execute_result",
          "data": {
            "text/plain": [
              "os                   Not Windows  Windows\n",
              "tz                                       \n",
              "                           245.0    276.0\n",
              "Africa/Cairo                 0.0      3.0\n",
              "Africa/Casablanca            0.0      1.0\n",
              "Africa/Ceuta                 0.0      2.0\n",
              "Africa/Johannesburg          0.0      1.0"
            ],
            "text/html": [
              "\n",
              "  <div id=\"df-82af8a1f-d397-46ce-a4d4-13d65a6ac7ec\" class=\"colab-df-container\">\n",
              "    <div>\n",
              "<style scoped>\n",
              "    .dataframe tbody tr th:only-of-type {\n",
              "        vertical-align: middle;\n",
              "    }\n",
              "\n",
              "    .dataframe tbody tr th {\n",
              "        vertical-align: top;\n",
              "    }\n",
              "\n",
              "    .dataframe thead th {\n",
              "        text-align: right;\n",
              "    }\n",
              "</style>\n",
              "<table border=\"1\" class=\"dataframe\">\n",
              "  <thead>\n",
              "    <tr style=\"text-align: right;\">\n",
              "      <th>os</th>\n",
              "      <th>Not Windows</th>\n",
              "      <th>Windows</th>\n",
              "    </tr>\n",
              "    <tr>\n",
              "      <th>tz</th>\n",
              "      <th></th>\n",
              "      <th></th>\n",
              "    </tr>\n",
              "  </thead>\n",
              "  <tbody>\n",
              "    <tr>\n",
              "      <th></th>\n",
              "      <td>245.0</td>\n",
              "      <td>276.0</td>\n",
              "    </tr>\n",
              "    <tr>\n",
              "      <th>Africa/Cairo</th>\n",
              "      <td>0.0</td>\n",
              "      <td>3.0</td>\n",
              "    </tr>\n",
              "    <tr>\n",
              "      <th>Africa/Casablanca</th>\n",
              "      <td>0.0</td>\n",
              "      <td>1.0</td>\n",
              "    </tr>\n",
              "    <tr>\n",
              "      <th>Africa/Ceuta</th>\n",
              "      <td>0.0</td>\n",
              "      <td>2.0</td>\n",
              "    </tr>\n",
              "    <tr>\n",
              "      <th>Africa/Johannesburg</th>\n",
              "      <td>0.0</td>\n",
              "      <td>1.0</td>\n",
              "    </tr>\n",
              "  </tbody>\n",
              "</table>\n",
              "</div>\n",
              "    <div class=\"colab-df-buttons\">\n",
              "\n",
              "  <div class=\"colab-df-container\">\n",
              "    <button class=\"colab-df-convert\" onclick=\"convertToInteractive('df-82af8a1f-d397-46ce-a4d4-13d65a6ac7ec')\"\n",
              "            title=\"Convert this dataframe to an interactive table.\"\n",
              "            style=\"display:none;\">\n",
              "\n",
              "  <svg xmlns=\"http://www.w3.org/2000/svg\" height=\"24px\" viewBox=\"0 -960 960 960\">\n",
              "    <path d=\"M120-120v-720h720v720H120Zm60-500h600v-160H180v160Zm220 220h160v-160H400v160Zm0 220h160v-160H400v160ZM180-400h160v-160H180v160Zm440 0h160v-160H620v160ZM180-180h160v-160H180v160Zm440 0h160v-160H620v160Z\"/>\n",
              "  </svg>\n",
              "    </button>\n",
              "\n",
              "  <style>\n",
              "    .colab-df-container {\n",
              "      display:flex;\n",
              "      gap: 12px;\n",
              "    }\n",
              "\n",
              "    .colab-df-convert {\n",
              "      background-color: #E8F0FE;\n",
              "      border: none;\n",
              "      border-radius: 50%;\n",
              "      cursor: pointer;\n",
              "      display: none;\n",
              "      fill: #1967D2;\n",
              "      height: 32px;\n",
              "      padding: 0 0 0 0;\n",
              "      width: 32px;\n",
              "    }\n",
              "\n",
              "    .colab-df-convert:hover {\n",
              "      background-color: #E2EBFA;\n",
              "      box-shadow: 0px 1px 2px rgba(60, 64, 67, 0.3), 0px 1px 3px 1px rgba(60, 64, 67, 0.15);\n",
              "      fill: #174EA6;\n",
              "    }\n",
              "\n",
              "    .colab-df-buttons div {\n",
              "      margin-bottom: 4px;\n",
              "    }\n",
              "\n",
              "    [theme=dark] .colab-df-convert {\n",
              "      background-color: #3B4455;\n",
              "      fill: #D2E3FC;\n",
              "    }\n",
              "\n",
              "    [theme=dark] .colab-df-convert:hover {\n",
              "      background-color: #434B5C;\n",
              "      box-shadow: 0px 1px 3px 1px rgba(0, 0, 0, 0.15);\n",
              "      filter: drop-shadow(0px 1px 2px rgba(0, 0, 0, 0.3));\n",
              "      fill: #FFFFFF;\n",
              "    }\n",
              "  </style>\n",
              "\n",
              "    <script>\n",
              "      const buttonEl =\n",
              "        document.querySelector('#df-82af8a1f-d397-46ce-a4d4-13d65a6ac7ec button.colab-df-convert');\n",
              "      buttonEl.style.display =\n",
              "        google.colab.kernel.accessAllowed ? 'block' : 'none';\n",
              "\n",
              "      async function convertToInteractive(key) {\n",
              "        const element = document.querySelector('#df-82af8a1f-d397-46ce-a4d4-13d65a6ac7ec');\n",
              "        const dataTable =\n",
              "          await google.colab.kernel.invokeFunction('convertToInteractive',\n",
              "                                                    [key], {});\n",
              "        if (!dataTable) return;\n",
              "\n",
              "        const docLinkHtml = 'Like what you see? Visit the ' +\n",
              "          '<a target=\"_blank\" href=https://colab.research.google.com/notebooks/data_table.ipynb>data table notebook</a>'\n",
              "          + ' to learn more about interactive tables.';\n",
              "        element.innerHTML = '';\n",
              "        dataTable['output_type'] = 'display_data';\n",
              "        await google.colab.output.renderOutput(dataTable, element);\n",
              "        const docLink = document.createElement('div');\n",
              "        docLink.innerHTML = docLinkHtml;\n",
              "        element.appendChild(docLink);\n",
              "      }\n",
              "    </script>\n",
              "  </div>\n",
              "\n",
              "\n",
              "    <div id=\"df-77578291-7c93-48cd-b501-204c42926a43\">\n",
              "      <button class=\"colab-df-quickchart\" onclick=\"quickchart('df-77578291-7c93-48cd-b501-204c42926a43')\"\n",
              "                title=\"Suggest charts\"\n",
              "                style=\"display:none;\">\n",
              "\n",
              "<svg xmlns=\"http://www.w3.org/2000/svg\" height=\"24px\"viewBox=\"0 0 24 24\"\n",
              "     width=\"24px\">\n",
              "    <g>\n",
              "        <path d=\"M19 3H5c-1.1 0-2 .9-2 2v14c0 1.1.9 2 2 2h14c1.1 0 2-.9 2-2V5c0-1.1-.9-2-2-2zM9 17H7v-7h2v7zm4 0h-2V7h2v10zm4 0h-2v-4h2v4z\"/>\n",
              "    </g>\n",
              "</svg>\n",
              "      </button>\n",
              "\n",
              "<style>\n",
              "  .colab-df-quickchart {\n",
              "      --bg-color: #E8F0FE;\n",
              "      --fill-color: #1967D2;\n",
              "      --hover-bg-color: #E2EBFA;\n",
              "      --hover-fill-color: #174EA6;\n",
              "      --disabled-fill-color: #AAA;\n",
              "      --disabled-bg-color: #DDD;\n",
              "  }\n",
              "\n",
              "  [theme=dark] .colab-df-quickchart {\n",
              "      --bg-color: #3B4455;\n",
              "      --fill-color: #D2E3FC;\n",
              "      --hover-bg-color: #434B5C;\n",
              "      --hover-fill-color: #FFFFFF;\n",
              "      --disabled-bg-color: #3B4455;\n",
              "      --disabled-fill-color: #666;\n",
              "  }\n",
              "\n",
              "  .colab-df-quickchart {\n",
              "    background-color: var(--bg-color);\n",
              "    border: none;\n",
              "    border-radius: 50%;\n",
              "    cursor: pointer;\n",
              "    display: none;\n",
              "    fill: var(--fill-color);\n",
              "    height: 32px;\n",
              "    padding: 0;\n",
              "    width: 32px;\n",
              "  }\n",
              "\n",
              "  .colab-df-quickchart:hover {\n",
              "    background-color: var(--hover-bg-color);\n",
              "    box-shadow: 0 1px 2px rgba(60, 64, 67, 0.3), 0 1px 3px 1px rgba(60, 64, 67, 0.15);\n",
              "    fill: var(--button-hover-fill-color);\n",
              "  }\n",
              "\n",
              "  .colab-df-quickchart-complete:disabled,\n",
              "  .colab-df-quickchart-complete:disabled:hover {\n",
              "    background-color: var(--disabled-bg-color);\n",
              "    fill: var(--disabled-fill-color);\n",
              "    box-shadow: none;\n",
              "  }\n",
              "\n",
              "  .colab-df-spinner {\n",
              "    border: 2px solid var(--fill-color);\n",
              "    border-color: transparent;\n",
              "    border-bottom-color: var(--fill-color);\n",
              "    animation:\n",
              "      spin 1s steps(1) infinite;\n",
              "  }\n",
              "\n",
              "  @keyframes spin {\n",
              "    0% {\n",
              "      border-color: transparent;\n",
              "      border-bottom-color: var(--fill-color);\n",
              "      border-left-color: var(--fill-color);\n",
              "    }\n",
              "    20% {\n",
              "      border-color: transparent;\n",
              "      border-left-color: var(--fill-color);\n",
              "      border-top-color: var(--fill-color);\n",
              "    }\n",
              "    30% {\n",
              "      border-color: transparent;\n",
              "      border-left-color: var(--fill-color);\n",
              "      border-top-color: var(--fill-color);\n",
              "      border-right-color: var(--fill-color);\n",
              "    }\n",
              "    40% {\n",
              "      border-color: transparent;\n",
              "      border-right-color: var(--fill-color);\n",
              "      border-top-color: var(--fill-color);\n",
              "    }\n",
              "    60% {\n",
              "      border-color: transparent;\n",
              "      border-right-color: var(--fill-color);\n",
              "    }\n",
              "    80% {\n",
              "      border-color: transparent;\n",
              "      border-right-color: var(--fill-color);\n",
              "      border-bottom-color: var(--fill-color);\n",
              "    }\n",
              "    90% {\n",
              "      border-color: transparent;\n",
              "      border-bottom-color: var(--fill-color);\n",
              "    }\n",
              "  }\n",
              "</style>\n",
              "\n",
              "      <script>\n",
              "        async function quickchart(key) {\n",
              "          const quickchartButtonEl =\n",
              "            document.querySelector('#' + key + ' button');\n",
              "          quickchartButtonEl.disabled = true;  // To prevent multiple clicks.\n",
              "          quickchartButtonEl.classList.add('colab-df-spinner');\n",
              "          try {\n",
              "            const charts = await google.colab.kernel.invokeFunction(\n",
              "                'suggestCharts', [key], {});\n",
              "          } catch (error) {\n",
              "            console.error('Error during call to suggestCharts:', error);\n",
              "          }\n",
              "          quickchartButtonEl.classList.remove('colab-df-spinner');\n",
              "          quickchartButtonEl.classList.add('colab-df-quickchart-complete');\n",
              "        }\n",
              "        (() => {\n",
              "          let quickchartButtonEl =\n",
              "            document.querySelector('#df-77578291-7c93-48cd-b501-204c42926a43 button');\n",
              "          quickchartButtonEl.style.display =\n",
              "            google.colab.kernel.accessAllowed ? 'block' : 'none';\n",
              "        })();\n",
              "      </script>\n",
              "    </div>\n",
              "\n",
              "    </div>\n",
              "  </div>\n"
            ],
            "application/vnd.google.colaboratory.intrinsic+json": {
              "type": "dataframe",
              "variable_name": "agg_counts",
              "summary": "{\n  \"name\": \"agg_counts\",\n  \"rows\": 97,\n  \"fields\": [\n    {\n      \"column\": \"tz\",\n      \"properties\": {\n        \"dtype\": \"string\",\n        \"num_unique_values\": 97,\n        \"samples\": [\n          \"Australia/Queensland\",\n          \"Asia/Amman\",\n          \"Europe/Warsaw\"\n        ],\n        \"semantic_type\": \"\",\n        \"description\": \"\"\n      }\n    },\n    {\n      \"column\": \"Not Windows\",\n      \"properties\": {\n        \"dtype\": \"number\",\n        \"std\": 46.876024616522216,\n        \"min\": 0.0,\n        \"max\": 339.0,\n        \"num_unique_values\": 20,\n        \"samples\": [\n          245.0,\n          12.0,\n          6.0\n        ],\n        \"semantic_type\": \"\",\n        \"description\": \"\"\n      }\n    },\n    {\n      \"column\": \"Windows\",\n      \"properties\": {\n        \"dtype\": \"number\",\n        \"std\": 102.63419469632035,\n        \"min\": 0.0,\n        \"max\": 912.0,\n        \"num_unique_values\": 24,\n        \"samples\": [\n          12.0,\n          7.0,\n          276.0\n        ],\n        \"semantic_type\": \"\",\n        \"description\": \"\"\n      }\n    }\n  ]\n}"
            }
          },
          "metadata": {},
          "execution_count": 83
        }
      ]
    },
    {
      "cell_type": "markdown",
      "source": [
        "**Tổng hợp dữ liệu trong phân tích dataset Bitly (example.txt).\n",
        "Câu lệnh này tạo ra bảng đếm số người dùng (clicks) theo múi giờ (tz) và hệ điều hành (os).**"
      ],
      "metadata": {
        "id": "hNK08RbWLZEm"
      }
    },
    {
      "cell_type": "code",
      "source": [
        "indexer = agg_counts.sum(\"columns\").argsort()\n",
        "indexer.values[:10]"
      ],
      "metadata": {
        "colab": {
          "base_uri": "https://localhost:8080/"
        },
        "id": "JNeXoIXp1Gd2",
        "outputId": "ef6256ad-4ee8-4ccd-99ab-ad89747837b4"
      },
      "execution_count": null,
      "outputs": [
        {
          "output_type": "execute_result",
          "data": {
            "text/plain": [
              "array([ 2,  7,  5,  4, 14, 11,  9,  8, 24, 26])"
            ]
          },
          "metadata": {},
          "execution_count": 22
        }
      ]
    },
    {
      "cell_type": "markdown",
      "source": [
        "**xác định thứ tự (sắp xếp) các múi giờ (tz) trong bảng agg_counts theo tổng số lượt truy cập (Windows + Non-Windows).**"
      ],
      "metadata": {
        "id": "F85Vq4oXMM8V"
      }
    },
    {
      "cell_type": "code",
      "source": [
        "count_subset = agg_counts.take(indexer[-10:])\n",
        "count_subset"
      ],
      "metadata": {
        "colab": {
          "base_uri": "https://localhost:8080/",
          "height": 394
        },
        "id": "r9sRREiJ1Knf",
        "outputId": "cbb9c145-d3c8-48bb-fe66-b5236303a5a9"
      },
      "execution_count": null,
      "outputs": [
        {
          "output_type": "execute_result",
          "data": {
            "text/plain": [
              "os                   Not Windows  Windows\n",
              "tz                                       \n",
              "America/Sao_Paulo           13.0     20.0\n",
              "Europe/Madrid               16.0     19.0\n",
              "Pacific/Honolulu             0.0     36.0\n",
              "Asia/Tokyo                   2.0     35.0\n",
              "Europe/London               43.0     31.0\n",
              "America/Denver             132.0     59.0\n",
              "America/Los_Angeles        130.0    252.0\n",
              "America/Chicago            115.0    285.0\n",
              "                           245.0    276.0\n",
              "America/New_York           339.0    912.0"
            ],
            "text/html": [
              "\n",
              "  <div id=\"df-a47e8b94-f9f9-44aa-b634-b8391ac6c972\" class=\"colab-df-container\">\n",
              "    <div>\n",
              "<style scoped>\n",
              "    .dataframe tbody tr th:only-of-type {\n",
              "        vertical-align: middle;\n",
              "    }\n",
              "\n",
              "    .dataframe tbody tr th {\n",
              "        vertical-align: top;\n",
              "    }\n",
              "\n",
              "    .dataframe thead th {\n",
              "        text-align: right;\n",
              "    }\n",
              "</style>\n",
              "<table border=\"1\" class=\"dataframe\">\n",
              "  <thead>\n",
              "    <tr style=\"text-align: right;\">\n",
              "      <th>os</th>\n",
              "      <th>Not Windows</th>\n",
              "      <th>Windows</th>\n",
              "    </tr>\n",
              "    <tr>\n",
              "      <th>tz</th>\n",
              "      <th></th>\n",
              "      <th></th>\n",
              "    </tr>\n",
              "  </thead>\n",
              "  <tbody>\n",
              "    <tr>\n",
              "      <th>America/Sao_Paulo</th>\n",
              "      <td>13.0</td>\n",
              "      <td>20.0</td>\n",
              "    </tr>\n",
              "    <tr>\n",
              "      <th>Europe/Madrid</th>\n",
              "      <td>16.0</td>\n",
              "      <td>19.0</td>\n",
              "    </tr>\n",
              "    <tr>\n",
              "      <th>Pacific/Honolulu</th>\n",
              "      <td>0.0</td>\n",
              "      <td>36.0</td>\n",
              "    </tr>\n",
              "    <tr>\n",
              "      <th>Asia/Tokyo</th>\n",
              "      <td>2.0</td>\n",
              "      <td>35.0</td>\n",
              "    </tr>\n",
              "    <tr>\n",
              "      <th>Europe/London</th>\n",
              "      <td>43.0</td>\n",
              "      <td>31.0</td>\n",
              "    </tr>\n",
              "    <tr>\n",
              "      <th>America/Denver</th>\n",
              "      <td>132.0</td>\n",
              "      <td>59.0</td>\n",
              "    </tr>\n",
              "    <tr>\n",
              "      <th>America/Los_Angeles</th>\n",
              "      <td>130.0</td>\n",
              "      <td>252.0</td>\n",
              "    </tr>\n",
              "    <tr>\n",
              "      <th>America/Chicago</th>\n",
              "      <td>115.0</td>\n",
              "      <td>285.0</td>\n",
              "    </tr>\n",
              "    <tr>\n",
              "      <th></th>\n",
              "      <td>245.0</td>\n",
              "      <td>276.0</td>\n",
              "    </tr>\n",
              "    <tr>\n",
              "      <th>America/New_York</th>\n",
              "      <td>339.0</td>\n",
              "      <td>912.0</td>\n",
              "    </tr>\n",
              "  </tbody>\n",
              "</table>\n",
              "</div>\n",
              "    <div class=\"colab-df-buttons\">\n",
              "\n",
              "  <div class=\"colab-df-container\">\n",
              "    <button class=\"colab-df-convert\" onclick=\"convertToInteractive('df-a47e8b94-f9f9-44aa-b634-b8391ac6c972')\"\n",
              "            title=\"Convert this dataframe to an interactive table.\"\n",
              "            style=\"display:none;\">\n",
              "\n",
              "  <svg xmlns=\"http://www.w3.org/2000/svg\" height=\"24px\" viewBox=\"0 -960 960 960\">\n",
              "    <path d=\"M120-120v-720h720v720H120Zm60-500h600v-160H180v160Zm220 220h160v-160H400v160Zm0 220h160v-160H400v160ZM180-400h160v-160H180v160Zm440 0h160v-160H620v160ZM180-180h160v-160H180v160Zm440 0h160v-160H620v160Z\"/>\n",
              "  </svg>\n",
              "    </button>\n",
              "\n",
              "  <style>\n",
              "    .colab-df-container {\n",
              "      display:flex;\n",
              "      gap: 12px;\n",
              "    }\n",
              "\n",
              "    .colab-df-convert {\n",
              "      background-color: #E8F0FE;\n",
              "      border: none;\n",
              "      border-radius: 50%;\n",
              "      cursor: pointer;\n",
              "      display: none;\n",
              "      fill: #1967D2;\n",
              "      height: 32px;\n",
              "      padding: 0 0 0 0;\n",
              "      width: 32px;\n",
              "    }\n",
              "\n",
              "    .colab-df-convert:hover {\n",
              "      background-color: #E2EBFA;\n",
              "      box-shadow: 0px 1px 2px rgba(60, 64, 67, 0.3), 0px 1px 3px 1px rgba(60, 64, 67, 0.15);\n",
              "      fill: #174EA6;\n",
              "    }\n",
              "\n",
              "    .colab-df-buttons div {\n",
              "      margin-bottom: 4px;\n",
              "    }\n",
              "\n",
              "    [theme=dark] .colab-df-convert {\n",
              "      background-color: #3B4455;\n",
              "      fill: #D2E3FC;\n",
              "    }\n",
              "\n",
              "    [theme=dark] .colab-df-convert:hover {\n",
              "      background-color: #434B5C;\n",
              "      box-shadow: 0px 1px 3px 1px rgba(0, 0, 0, 0.15);\n",
              "      filter: drop-shadow(0px 1px 2px rgba(0, 0, 0, 0.3));\n",
              "      fill: #FFFFFF;\n",
              "    }\n",
              "  </style>\n",
              "\n",
              "    <script>\n",
              "      const buttonEl =\n",
              "        document.querySelector('#df-a47e8b94-f9f9-44aa-b634-b8391ac6c972 button.colab-df-convert');\n",
              "      buttonEl.style.display =\n",
              "        google.colab.kernel.accessAllowed ? 'block' : 'none';\n",
              "\n",
              "      async function convertToInteractive(key) {\n",
              "        const element = document.querySelector('#df-a47e8b94-f9f9-44aa-b634-b8391ac6c972');\n",
              "        const dataTable =\n",
              "          await google.colab.kernel.invokeFunction('convertToInteractive',\n",
              "                                                    [key], {});\n",
              "        if (!dataTable) return;\n",
              "\n",
              "        const docLinkHtml = 'Like what you see? Visit the ' +\n",
              "          '<a target=\"_blank\" href=https://colab.research.google.com/notebooks/data_table.ipynb>data table notebook</a>'\n",
              "          + ' to learn more about interactive tables.';\n",
              "        element.innerHTML = '';\n",
              "        dataTable['output_type'] = 'display_data';\n",
              "        await google.colab.output.renderOutput(dataTable, element);\n",
              "        const docLink = document.createElement('div');\n",
              "        docLink.innerHTML = docLinkHtml;\n",
              "        element.appendChild(docLink);\n",
              "      }\n",
              "    </script>\n",
              "  </div>\n",
              "\n",
              "\n",
              "    <div id=\"df-1f52e655-5f24-44c5-8c38-eac68b1207ab\">\n",
              "      <button class=\"colab-df-quickchart\" onclick=\"quickchart('df-1f52e655-5f24-44c5-8c38-eac68b1207ab')\"\n",
              "                title=\"Suggest charts\"\n",
              "                style=\"display:none;\">\n",
              "\n",
              "<svg xmlns=\"http://www.w3.org/2000/svg\" height=\"24px\"viewBox=\"0 0 24 24\"\n",
              "     width=\"24px\">\n",
              "    <g>\n",
              "        <path d=\"M19 3H5c-1.1 0-2 .9-2 2v14c0 1.1.9 2 2 2h14c1.1 0 2-.9 2-2V5c0-1.1-.9-2-2-2zM9 17H7v-7h2v7zm4 0h-2V7h2v10zm4 0h-2v-4h2v4z\"/>\n",
              "    </g>\n",
              "</svg>\n",
              "      </button>\n",
              "\n",
              "<style>\n",
              "  .colab-df-quickchart {\n",
              "      --bg-color: #E8F0FE;\n",
              "      --fill-color: #1967D2;\n",
              "      --hover-bg-color: #E2EBFA;\n",
              "      --hover-fill-color: #174EA6;\n",
              "      --disabled-fill-color: #AAA;\n",
              "      --disabled-bg-color: #DDD;\n",
              "  }\n",
              "\n",
              "  [theme=dark] .colab-df-quickchart {\n",
              "      --bg-color: #3B4455;\n",
              "      --fill-color: #D2E3FC;\n",
              "      --hover-bg-color: #434B5C;\n",
              "      --hover-fill-color: #FFFFFF;\n",
              "      --disabled-bg-color: #3B4455;\n",
              "      --disabled-fill-color: #666;\n",
              "  }\n",
              "\n",
              "  .colab-df-quickchart {\n",
              "    background-color: var(--bg-color);\n",
              "    border: none;\n",
              "    border-radius: 50%;\n",
              "    cursor: pointer;\n",
              "    display: none;\n",
              "    fill: var(--fill-color);\n",
              "    height: 32px;\n",
              "    padding: 0;\n",
              "    width: 32px;\n",
              "  }\n",
              "\n",
              "  .colab-df-quickchart:hover {\n",
              "    background-color: var(--hover-bg-color);\n",
              "    box-shadow: 0 1px 2px rgba(60, 64, 67, 0.3), 0 1px 3px 1px rgba(60, 64, 67, 0.15);\n",
              "    fill: var(--button-hover-fill-color);\n",
              "  }\n",
              "\n",
              "  .colab-df-quickchart-complete:disabled,\n",
              "  .colab-df-quickchart-complete:disabled:hover {\n",
              "    background-color: var(--disabled-bg-color);\n",
              "    fill: var(--disabled-fill-color);\n",
              "    box-shadow: none;\n",
              "  }\n",
              "\n",
              "  .colab-df-spinner {\n",
              "    border: 2px solid var(--fill-color);\n",
              "    border-color: transparent;\n",
              "    border-bottom-color: var(--fill-color);\n",
              "    animation:\n",
              "      spin 1s steps(1) infinite;\n",
              "  }\n",
              "\n",
              "  @keyframes spin {\n",
              "    0% {\n",
              "      border-color: transparent;\n",
              "      border-bottom-color: var(--fill-color);\n",
              "      border-left-color: var(--fill-color);\n",
              "    }\n",
              "    20% {\n",
              "      border-color: transparent;\n",
              "      border-left-color: var(--fill-color);\n",
              "      border-top-color: var(--fill-color);\n",
              "    }\n",
              "    30% {\n",
              "      border-color: transparent;\n",
              "      border-left-color: var(--fill-color);\n",
              "      border-top-color: var(--fill-color);\n",
              "      border-right-color: var(--fill-color);\n",
              "    }\n",
              "    40% {\n",
              "      border-color: transparent;\n",
              "      border-right-color: var(--fill-color);\n",
              "      border-top-color: var(--fill-color);\n",
              "    }\n",
              "    60% {\n",
              "      border-color: transparent;\n",
              "      border-right-color: var(--fill-color);\n",
              "    }\n",
              "    80% {\n",
              "      border-color: transparent;\n",
              "      border-right-color: var(--fill-color);\n",
              "      border-bottom-color: var(--fill-color);\n",
              "    }\n",
              "    90% {\n",
              "      border-color: transparent;\n",
              "      border-bottom-color: var(--fill-color);\n",
              "    }\n",
              "  }\n",
              "</style>\n",
              "\n",
              "      <script>\n",
              "        async function quickchart(key) {\n",
              "          const quickchartButtonEl =\n",
              "            document.querySelector('#' + key + ' button');\n",
              "          quickchartButtonEl.disabled = true;  // To prevent multiple clicks.\n",
              "          quickchartButtonEl.classList.add('colab-df-spinner');\n",
              "          try {\n",
              "            const charts = await google.colab.kernel.invokeFunction(\n",
              "                'suggestCharts', [key], {});\n",
              "          } catch (error) {\n",
              "            console.error('Error during call to suggestCharts:', error);\n",
              "          }\n",
              "          quickchartButtonEl.classList.remove('colab-df-spinner');\n",
              "          quickchartButtonEl.classList.add('colab-df-quickchart-complete');\n",
              "        }\n",
              "        (() => {\n",
              "          let quickchartButtonEl =\n",
              "            document.querySelector('#df-1f52e655-5f24-44c5-8c38-eac68b1207ab button');\n",
              "          quickchartButtonEl.style.display =\n",
              "            google.colab.kernel.accessAllowed ? 'block' : 'none';\n",
              "        })();\n",
              "      </script>\n",
              "    </div>\n",
              "\n",
              "  <div id=\"id_6f9d619a-e793-4dc5-a923-14f35d807f62\">\n",
              "    <style>\n",
              "      .colab-df-generate {\n",
              "        background-color: #E8F0FE;\n",
              "        border: none;\n",
              "        border-radius: 50%;\n",
              "        cursor: pointer;\n",
              "        display: none;\n",
              "        fill: #1967D2;\n",
              "        height: 32px;\n",
              "        padding: 0 0 0 0;\n",
              "        width: 32px;\n",
              "      }\n",
              "\n",
              "      .colab-df-generate:hover {\n",
              "        background-color: #E2EBFA;\n",
              "        box-shadow: 0px 1px 2px rgba(60, 64, 67, 0.3), 0px 1px 3px 1px rgba(60, 64, 67, 0.15);\n",
              "        fill: #174EA6;\n",
              "      }\n",
              "\n",
              "      [theme=dark] .colab-df-generate {\n",
              "        background-color: #3B4455;\n",
              "        fill: #D2E3FC;\n",
              "      }\n",
              "\n",
              "      [theme=dark] .colab-df-generate:hover {\n",
              "        background-color: #434B5C;\n",
              "        box-shadow: 0px 1px 3px 1px rgba(0, 0, 0, 0.15);\n",
              "        filter: drop-shadow(0px 1px 2px rgba(0, 0, 0, 0.3));\n",
              "        fill: #FFFFFF;\n",
              "      }\n",
              "    </style>\n",
              "    <button class=\"colab-df-generate\" onclick=\"generateWithVariable('count_subset')\"\n",
              "            title=\"Generate code using this dataframe.\"\n",
              "            style=\"display:none;\">\n",
              "\n",
              "  <svg xmlns=\"http://www.w3.org/2000/svg\" height=\"24px\"viewBox=\"0 0 24 24\"\n",
              "       width=\"24px\">\n",
              "    <path d=\"M7,19H8.4L18.45,9,17,7.55,7,17.6ZM5,21V16.75L18.45,3.32a2,2,0,0,1,2.83,0l1.4,1.43a1.91,1.91,0,0,1,.58,1.4,1.91,1.91,0,0,1-.58,1.4L9.25,21ZM18.45,9,17,7.55Zm-12,3A5.31,5.31,0,0,0,4.9,8.1,5.31,5.31,0,0,0,1,6.5,5.31,5.31,0,0,0,4.9,4.9,5.31,5.31,0,0,0,6.5,1,5.31,5.31,0,0,0,8.1,4.9,5.31,5.31,0,0,0,12,6.5,5.46,5.46,0,0,0,6.5,12Z\"/>\n",
              "  </svg>\n",
              "    </button>\n",
              "    <script>\n",
              "      (() => {\n",
              "      const buttonEl =\n",
              "        document.querySelector('#id_6f9d619a-e793-4dc5-a923-14f35d807f62 button.colab-df-generate');\n",
              "      buttonEl.style.display =\n",
              "        google.colab.kernel.accessAllowed ? 'block' : 'none';\n",
              "\n",
              "      buttonEl.onclick = () => {\n",
              "        google.colab.notebook.generateWithVariable('count_subset');\n",
              "      }\n",
              "      })();\n",
              "    </script>\n",
              "  </div>\n",
              "\n",
              "    </div>\n",
              "  </div>\n"
            ],
            "application/vnd.google.colaboratory.intrinsic+json": {
              "type": "dataframe",
              "variable_name": "count_subset",
              "summary": "{\n  \"name\": \"count_subset\",\n  \"rows\": 10,\n  \"fields\": [\n    {\n      \"column\": \"tz\",\n      \"properties\": {\n        \"dtype\": \"string\",\n        \"num_unique_values\": 10,\n        \"samples\": [\n          \"\",\n          \"Europe/Madrid\",\n          \"America/Denver\"\n        ],\n        \"semantic_type\": \"\",\n        \"description\": \"\"\n      }\n    },\n    {\n      \"column\": \"Not Windows\",\n      \"properties\": {\n        \"dtype\": \"number\",\n        \"std\": 114.3340621939839,\n        \"min\": 0.0,\n        \"max\": 339.0,\n        \"num_unique_values\": 10,\n        \"samples\": [\n          245.0,\n          16.0,\n          132.0\n        ],\n        \"semantic_type\": \"\",\n        \"description\": \"\"\n      }\n    },\n    {\n      \"column\": \"Windows\",\n      \"properties\": {\n        \"dtype\": \"number\",\n        \"std\": 276.84943762108514,\n        \"min\": 19.0,\n        \"max\": 912.0,\n        \"num_unique_values\": 10,\n        \"samples\": [\n          276.0,\n          19.0,\n          59.0\n        ],\n        \"semantic_type\": \"\",\n        \"description\": \"\"\n      }\n    }\n  ]\n}"
            }
          },
          "metadata": {},
          "execution_count": 86
        }
      ]
    },
    {
      "cell_type": "markdown",
      "source": [
        "**Dòng code trên chọn ra top 10 múi giờ (tz) có số lượt truy cập cao nhất trong dữ liệu Bitly.**"
      ],
      "metadata": {
        "id": "KvhenlwxMZJ6"
      }
    },
    {
      "cell_type": "code",
      "source": [
        "agg_counts.sum(axis=\"columns\").nlargest(10)"
      ],
      "metadata": {
        "colab": {
          "base_uri": "https://localhost:8080/",
          "height": 429
        },
        "id": "M3H2J-g51MwA",
        "outputId": "f67fc728-460c-419c-dfa1-fc05384a915b"
      },
      "execution_count": null,
      "outputs": [
        {
          "output_type": "execute_result",
          "data": {
            "text/plain": [
              "tz\n",
              "America/New_York       1251.0\n",
              "                        521.0\n",
              "America/Chicago         400.0\n",
              "America/Los_Angeles     382.0\n",
              "America/Denver          191.0\n",
              "Europe/London            74.0\n",
              "Asia/Tokyo               37.0\n",
              "Pacific/Honolulu         36.0\n",
              "Europe/Madrid            35.0\n",
              "America/Sao_Paulo        33.0\n",
              "dtype: float64"
            ],
            "text/html": [
              "<div>\n",
              "<style scoped>\n",
              "    .dataframe tbody tr th:only-of-type {\n",
              "        vertical-align: middle;\n",
              "    }\n",
              "\n",
              "    .dataframe tbody tr th {\n",
              "        vertical-align: top;\n",
              "    }\n",
              "\n",
              "    .dataframe thead th {\n",
              "        text-align: right;\n",
              "    }\n",
              "</style>\n",
              "<table border=\"1\" class=\"dataframe\">\n",
              "  <thead>\n",
              "    <tr style=\"text-align: right;\">\n",
              "      <th></th>\n",
              "      <th>0</th>\n",
              "    </tr>\n",
              "    <tr>\n",
              "      <th>tz</th>\n",
              "      <th></th>\n",
              "    </tr>\n",
              "  </thead>\n",
              "  <tbody>\n",
              "    <tr>\n",
              "      <th>America/New_York</th>\n",
              "      <td>1251.0</td>\n",
              "    </tr>\n",
              "    <tr>\n",
              "      <th></th>\n",
              "      <td>521.0</td>\n",
              "    </tr>\n",
              "    <tr>\n",
              "      <th>America/Chicago</th>\n",
              "      <td>400.0</td>\n",
              "    </tr>\n",
              "    <tr>\n",
              "      <th>America/Los_Angeles</th>\n",
              "      <td>382.0</td>\n",
              "    </tr>\n",
              "    <tr>\n",
              "      <th>America/Denver</th>\n",
              "      <td>191.0</td>\n",
              "    </tr>\n",
              "    <tr>\n",
              "      <th>Europe/London</th>\n",
              "      <td>74.0</td>\n",
              "    </tr>\n",
              "    <tr>\n",
              "      <th>Asia/Tokyo</th>\n",
              "      <td>37.0</td>\n",
              "    </tr>\n",
              "    <tr>\n",
              "      <th>Pacific/Honolulu</th>\n",
              "      <td>36.0</td>\n",
              "    </tr>\n",
              "    <tr>\n",
              "      <th>Europe/Madrid</th>\n",
              "      <td>35.0</td>\n",
              "    </tr>\n",
              "    <tr>\n",
              "      <th>America/Sao_Paulo</th>\n",
              "      <td>33.0</td>\n",
              "    </tr>\n",
              "  </tbody>\n",
              "</table>\n",
              "</div><br><label><b>dtype:</b> float64</label>"
            ]
          },
          "metadata": {},
          "execution_count": 62
        }
      ]
    },
    {
      "cell_type": "markdown",
      "source": [
        "**Dòng code trên sắp xếp top 10 múi giờ có tổng lượt truy cập cao nhất (Windows + Non-Windows).**"
      ],
      "metadata": {
        "id": "BWTXEcQPMos4"
      }
    },
    {
      "cell_type": "markdown",
      "source": [
        "**Câu hỏi 3:** Múi giờ nào có lượng truy cập (click) cao nhất? Người dùng hệ điều hành nào chiếm ưu thế trong từng múi giờ? Có sự khác biệt rõ rệt giữa người dùng Windows và Not Windows không?"
      ],
      "metadata": {
        "id": "AFZKkeVQPm6d"
      }
    },
    {
      "cell_type": "code",
      "source": [
        "plt.figure()"
      ],
      "metadata": {
        "colab": {
          "base_uri": "https://localhost:8080/",
          "height": 52
        },
        "id": "grqYSOps1ONm",
        "outputId": "8ecdb823-6de1-4eb4-e1d2-d1383e768a18"
      },
      "execution_count": null,
      "outputs": [
        {
          "output_type": "execute_result",
          "data": {
            "text/plain": [
              "<Figure size 1000x600 with 0 Axes>"
            ]
          },
          "metadata": {},
          "execution_count": 58
        },
        {
          "output_type": "display_data",
          "data": {
            "text/plain": [
              "<Figure size 1000x600 with 0 Axes>"
            ]
          },
          "metadata": {}
        }
      ]
    },
    {
      "cell_type": "code",
      "source": [
        "count_subset = count_subset.stack()\n",
        "count_subset.name = \"total\"\n",
        "count_subset = count_subset.reset_index()\n",
        "count_subset.head(10)\n",
        "sns.barplot(x=\"total\", y=\"tz\", hue=\"os\",  data=count_subset)"
      ],
      "metadata": {
        "colab": {
          "base_uri": "https://localhost:8080/",
          "height": 559
        },
        "id": "v-_L3CWQ1Sxt",
        "outputId": "c2d765b3-05bc-417b-80dd-159f9890519d"
      },
      "execution_count": null,
      "outputs": [
        {
          "output_type": "execute_result",
          "data": {
            "text/plain": [
              "<Axes: xlabel='total', ylabel='tz'>"
            ]
          },
          "metadata": {},
          "execution_count": 63
        },
        {
          "output_type": "display_data",
          "data": {
            "text/plain": [
              "<Figure size 1000x600 with 1 Axes>"
            ],
            "image/png": "[encoded data removed]"
          },
          "metadata": {}
        }
      ]
    },
    {
      "cell_type": "markdown",
      "source": [
        "**Phân tích & Trả lời:**\n",
        "1. Múi giờ hoạt động mạnh nhất:\n",
        "\n",
        "    + Biểu đồ cho thấy America/New_York là múi giờ có tổng số lượt truy cập cao nhất, tiếp theo là America/Chicago và America/Los_Angeles.\n",
        "    + Điều này phù hợp vì đây là các vùng thời gian lớn ở Hoa Kỳ – thị trường chính của Bitly.\n",
        "2. So sánh hệ điều hành:\n",
        "    + Trong hầu hết các múi giờ, người dùng Not Windows (Mac, Linux, iPhone, Android, v.v.)có xu hướng chiếm tỷ lệ cao hơn so với người dùng Windows.\n",
        "    + Điều này cho thấy Bitly được sử dụng phổ biến trên thiết bị di động hoặc hệ điều hành khác ngoài Windows.\n",
        "3. Phân bố địa lý - hành vi:\n",
        "    + Các múi giờ thuộc Bắc Mỹ có hoạt động mạnh mẽ nhất,\n",
        "phản ánh Bitly là nền tảng phổ biến tại Hoa Kỳ.\n",
        "    + Các múi giờ khác (như châu Âu, châu Á) xuất hiện ít hơn, cho thấy phạm vi người dùng toàn cầu nhưng không đồng đều.\n",
        "\n",
        "\n",
        "  -> Biểu đồ cho thấy phần lớn lượt truy cập Bitly tập trung tại các múi giờ của Hoa Kỳ, đặc biệt là America/New_York, Chicago và Los_Angeles. Trong đó, nhóm người dùng Not Windows (tức người dùng Mac, iPhone, Android, Linux,...) chiếm ưu thế rõ rệt so với Windows. Kết quả này phản ánh xu hướng người dùng Internet hiện đại sử dụng nhiều thiết bị di động và hệ điều hành đa dạng, đồng thời khẳng định Bitly là nền tảng phổ biến mạnh nhất tại khu vực Bắc Mỹ."
      ],
      "metadata": {
        "id": "pYvy8sKKQMob"
      }
    },
    {
      "cell_type": "code",
      "source": [
        "def norm_total(group):\n",
        "    group[\"normed_total\"] = group[\"total\"] / group[\"total\"].sum()\n",
        "    return group\n",
        "\n",
        "results = count_subset.groupby(\"tz\").apply(norm_total)"
      ],
      "metadata": {
        "colab": {
          "base_uri": "https://localhost:8080/"
        },
        "id": "3sXCTF0y1k8O",
        "outputId": "dc2a77c7-541c-4dcc-ce09-3056ac1ef431"
      },
      "execution_count": null,
      "outputs": [
        {
          "output_type": "stream",
          "name": "stderr",
          "text": [
            "/tmp/ipython-input-1595230757.py:5: DeprecationWarning: DataFrameGroupBy.apply operated on the grouping columns. This behavior is deprecated, and in a future version of pandas the grouping columns will be excluded from the operation. Either pass `include_groups=False` to exclude the groupings or explicitly select the grouping columns after groupby to silence this warning.\n",
            "  results = count_subset.groupby(\"tz\").apply(norm_total)\n"
          ]
        }
      ]
    },
    {
      "cell_type": "markdown",
      "source": [
        "**Dòng lệnh chuẩn hóa dữ liệu (normalize) để so sánh tỷ lệ tương đối.**"
      ],
      "metadata": {
        "id": "UBjFXSkTSKeE"
      }
    },
    {
      "cell_type": "markdown",
      "source": [
        "**Câu hỏi 4:** Múi giờ nào có tỷ lệ người dùng cao nhất trong toàn bộ hệ thống Bitly? Sau khi chuẩn hóa thì liệu tỉ lệ người dùng trên windows và not windows liệu có thay đổi không? Xu hướng phân bố hệ điều hành theo khu vực địa lý có gì đặc biệt?"
      ],
      "metadata": {
        "id": "N4SQZ70nVjXh"
      }
    },
    {
      "cell_type": "code",
      "source": [
        "plt.figure()"
      ],
      "metadata": {
        "colab": {
          "base_uri": "https://localhost:8080/",
          "height": 54
        },
        "id": "pF_0gDcC1nDY",
        "outputId": "25009bbe-08b6-4d4d-ecfb-08f5de763444"
      },
      "execution_count": null,
      "outputs": [
        {
          "output_type": "execute_result",
          "data": {
            "text/plain": [
              "<Figure size 1000x600 with 0 Axes>"
            ]
          },
          "metadata": {},
          "execution_count": 31
        },
        {
          "output_type": "display_data",
          "data": {
            "text/plain": [
              "<Figure size 1000x600 with 0 Axes>"
            ]
          },
          "metadata": {}
        }
      ]
    },
    {
      "cell_type": "code",
      "source": [
        "sns.barplot(x=\"normed_total\", y=\"tz\", hue=\"os\",  data=results)"
      ],
      "metadata": {
        "colab": {
          "base_uri": "https://localhost:8080/",
          "height": 560
        },
        "id": "2F0s90Pp1o4d",
        "outputId": "2f4803d8-dcd1-4ba2-ca07-458ee635a80b"
      },
      "execution_count": null,
      "outputs": [
        {
          "output_type": "execute_result",
          "data": {
            "text/plain": [
              "<Axes: xlabel='normed_total', ylabel='tz'>"
            ]
          },
          "metadata": {},
          "execution_count": 32
        },
        {
          "output_type": "display_data",
          "data": {
            "text/plain": [
              "<Figure size 1000x600 with 1 Axes>"
            ],
            "image/png": "[encoded data removed]"
          },
          "metadata": {}
        }
      ]
    },
    {
      "cell_type": "markdown",
      "source": [
        "**Phân tích & Trả lời:**\n",
        "1. Về tỷ lệ tổng thể::\n",
        "\n",
        "    + Biểu đồ cho thấy America/New_York có tỷ lệ người dùng cao nhất trong toàn bộ dữ liệu — đây là múi giờ hoạt động mạnh nhất.\n",
        "    + Các múi giờ tiếp theo như America/Chicago và America/Los_Angeles cũng có tỷ lệ đáng kể, phản ánh mức độ phổ biến của Bitly tại Bắc Mỹ.\n",
        "2. So sánh hệ điều hành:\n",
        "    + Trong phần lớn các múi giờ, người dùng Windows chiếm tỷ lệ cao hơn người không dùng Windows. Thể hiện rõ ràng nhất ở Asia/Tokyo và Pacific/Honolulu\n",
        "    + Điều này cho thấy Bitly được sử dụng phổ biến trên thiết bị Windows.\n",
        "3. Phân bố địa lý - hành vi:\n",
        "    + Các múi giờ thuộc Bắc Mỹ và châu Á có sự chênh lệch rõ rệt về tỷ lệ Not Windows cao.\n",
        "    + Trong khi đó, một số múi giờ khác có xu hướng cân bằng hơn giữa hai nhóm người dùng.\n",
        "\n",
        "\n",
        "  -> Biểu đồ thể hiện rằng phần lớn hoạt động của người dùng Bitly tập trung tại các múi giờ thuộc Hoa Kỳ, đặc biệt là America/New_York. Sau khi chuẩn hóa, ta nhận thấy nhóm người dùng Not Windows chiếm ưu thế trong hầu hết các múi giờ, phản ánh xu hướng người dùng truy cập từ các thiết bị di động và hệ điều hành khác ngoài Windows. Kết quả này cho thấy Bitly có lượng người dùng đa dạng, trải rộng theo địa lý và nền tảng công nghệ."
      ],
      "metadata": {
        "id": "1e2V-ALEWP3d"
      }
    },
    {
      "cell_type": "markdown",
      "source": [
        "##**5.Kết luận**"
      ],
      "metadata": {
        "id": "WdKNJi-jXznx"
      }
    },
    {
      "cell_type": "markdown",
      "source": [
        "Qua quá trình phân tích tập dữ liệu log truy cập từ hệ thống rút gọn liên kết (1.usa.gov), ta rút ra được một số kết luận chính như sau::\n",
        "  + **Đặc điểm người dùng và khu vực truy cập:** hần lớn người truy cập đến từ Hoa Kỳ, chiếm tỷ lệ cao nhất trong toàn bộ dữ liệu. Bên cạnh đó còn có người dùng từ nhiều quốc gia khác nhau cho thấy tính toàn cầu của hệ thống chia sẻ liên kết này.\n",
        "  + **Thiết bị và trình duyệt sử dụng:** Người dùng chủ yếu sử dụng trình duyệt Chrome và Firefox trên máy tính, ngoài ra có một lượng đáng kể từ thiết bị di động như iPhone, iPad, Android, BlackBerry. Xu hướng truy cập qua thiết bị di động bắt đầu tăng lên rõ rệt\n",
        "  + **số lượng truy cập theo từng múi giờ, được phân loại theo hệ điều hành:** Số lượng truy cập tập trung chủ yếu ở múi giờ Hoa Kỳ, đặc biệt là “America/New_York”. Hệ điều hành phổ biến nhất là Windows, tiếp theo là Mac OS và iOS. Người dùng tại châu Mỹ truy cập chủ yếu bằng máy tính, trong khi người dùng châu Á và châu Âu có xu hướng truy cập bằng thiết bị di động.\n",
        "  + **Tương quan giữa múi giờ và hệ điều hành:** Ở các múi giờ Mỹ (America/New_York, America/Los_Angeles), Windows và Mac OS chiếm ưu thế. Ở các múi giờ Châu Á và Châu Âu, tỷ lệ iOS và Android cao hơn, do người dùng ở đây thường truy cập qua thiết bị di động.Kết quả này gợi ý rằng người dùng ở khu vực khác nhau có thói quen và thiết bị truy cập khác biệt rõ rệt.  \n",
        "\n"
      ],
      "metadata": {
        "id": "cDc7SA7AYD7Y"
      }
    }
  ]
}
