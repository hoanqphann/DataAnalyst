{
 "cells": [
  {
   "cell_type": "markdown",
   "metadata": {
    "id": "154c8525-a8b1-4532-8b8c-a6048596e61b"
   },
   "source": [
    "# Kỹ thuật lập trình Python"
   ]
  },
  {
   "cell_type": "markdown",
   "metadata": {
    "id": "bff7ceae-0971-41e5-9ad6-a25c303fecab"
   },
   "source": [
    "## Làm quen với Numpy"
   ]
  },
  {
   "cell_type": "markdown",
   "metadata": {
    "id": "bda2fb69-42db-4a12-8b57-7b4815510961"
   },
   "source": [
    "### Bài 1. Tính toán trên dãy số"
   ]
  },
  {
   "cell_type": "markdown",
   "metadata": {
    "id": "04e6a456-6793-4645-b159-426121c860a6"
   },
   "source": [
    "#### 1. Tạo một dãy số a có N phần tử (N = 10)"
   ]
  },
  {
   "cell_type": "code",
   "execution_count": 1,
   "metadata": {
    "colab": {
     "base_uri": "https://localhost:8080/"
    },
    "executionInfo": {
     "elapsed": 9,
     "status": "ok",
     "timestamp": 1758127053845,
     "user": {
      "displayName": "quang hoàng",
      "userId": "14537424633428942085"
     },
     "user_tz": -420
    },
    "id": "bac1a84b-a496-40c6-962e-97c0acaf7d8e",
    "outputId": "dea8efe3-8454-4110-865f-597e4f87e1c0"
   },
   "outputs": [
    {
     "name": "stdout",
     "output_type": "stream",
     "text": [
      "1. Tạo một dãy số a có N phần tử (N = 10)\n",
      "Day so a:  [120 183 160 175 145 162 190 160 152 162]\n"
     ]
    }
   ],
   "source": [
    "import numpy as np # Khai báo thư viện numpy\n",
    "\n",
    "print(\"1. Tạo một dãy số a có N phần tử (N = 10)\")\n",
    "\"\"\" CÁC BẠN LÀM BÀI Ở ĐÂY \"\"\"\n",
    "a = np.array([120, 183, 160, 175, 145, 162, 190, 160, 152, 162])\n",
    "# ...\n",
    "\n",
    "print(\"Day so a: \", a)"
   ]
  },
  {
   "cell_type": "markdown",
   "metadata": {
    "id": "4d85d8e2-16ff-42d1-acda-97e62736aaf6"
   },
   "source": [
    "#### 2. Các thao tác trên dãy số a\n",
    "(a) Bình phương các phần tử trong dãy số <br/>\n",
    "(b) Tìm số lượng các phần tử của dãy số <br/>\n",
    "(c) In ra giá trị lớn nhất, giá trị nhỏ nhất và giá trị trung bình <br/>\n",
    "(d) Tính phương sai của dãy số $\\sigma^2 = \\frac{\\sum{\\left(a_i - \\mu\\right)^2}}{N - 1}$ với $\\mu = \\frac{\\sum{a_i}}{N}$ và độ lệch chuẩn $var = \\sqrt{\\sigma^2}$"
   ]
  },
  {
   "cell_type": "code",
   "execution_count": 3,
   "metadata": {
    "colab": {
     "base_uri": "https://localhost:8080/"
    },
    "executionInfo": {
     "elapsed": 7,
     "status": "ok",
     "timestamp": 1758127073713,
     "user": {
      "displayName": "quang hoàng",
      "userId": "14537424633428942085"
     },
     "user_tz": -420
    },
    "id": "5d245b5b-90d5-48bf-b870-fc7c2deecd12",
    "outputId": "4af994c6-d13e-4328-fe92-dddc8c420769"
   },
   "outputs": [
    {
     "name": "stdout",
     "output_type": "stream",
     "text": [
      "2. Các thao tác tính toán đơn giản với dãy số a\n",
      "a. Binh phuong a:  [14400 33489 25600 30625 21025 26244 36100 25600 23104 26244]\n",
      "\n",
      "b. Do dai a:  10\n",
      "\n",
      "c. Gia tri lon nhat: [190], gia tri nho nhat: [120], gia tri trung binh [160.9]\n",
      "\n",
      "d. Phuong sai: [ 393.66] va do lech chuan: [ 19.84]\n"
     ]
    }
   ],
   "source": [
    "print(\"2. Các thao tác tính toán đơn giản với dãy số a\")\n",
    "\"\"\" CÁC BẠN LÀM BÀI Ở ĐÂY \"\"\"\n",
    "a2 = a ** 2\n",
    "na = len(a)\n",
    "# ...\n",
    "\n",
    "print(\"a. Binh phuong a: \", a2)\n",
    "print(\"\\nb. Do dai a: \", na)\n",
    "\n",
    "\"\"\" CÁC BẠN LÀM BÀI Ở ĐÂY \"\"\"\n",
    "v_max = np.max(a)\n",
    "v_min = np.min(a)\n",
    "v_avg = np.mean(a)\n",
    "# ...\n",
    "\n",
    "print(f'\\nc. Gia tri lon nhat: [{v_max}], gia tri nho nhat: [{v_min}], gia tri trung binh [{v_avg}]')\n",
    "\n",
    "\"\"\" CÁC BẠN LÀM BÀI Ở ĐÂY \"\"\"\n",
    "v_sigma2 = np.var(a, ddof=1) # Use ddof=1 for sample variance\n",
    "v_var = np.sqrt(v_sigma2)\n",
    "# ...\n",
    "\n",
    "print(f'\\nd. Phuong sai: [{v_sigma2: .2f}] va do lech chuan: [{v_var: .2f}]')"
   ]
  },
  {
   "cell_type": "markdown",
   "metadata": {
    "id": "1b582e22-cc99-4933-892b-e0d83672fb7f"
   },
   "source": [
    "#### 3. Toán tử trên hai dãy số\n",
    "(a) Tạo dãy số x có 10 phần tử từ 1 đến 10 (dùng hàm np.arange) <br/>\n",
    "(b) Liệt kê và đếm số lượng phần tử chẵn và lẻ có trong dãy a và x <br/>\n",
    "(c) Tính khoảng cách giữa các phần tử ở vị trí lẻ của mảng a và x với $s = \\sqrt{\\sum{\\left(a_i - x_i\\right)^2}}$ với $i$ lẻ<br/>\n",
    "(d) Tìm khoảng cách nhỏ nhất giữa tập a và x. Ví dụ: min({1, 3, 5}, {2, 10, 8}} = 1"
   ]
  },
  {
   "cell_type": "code",
   "execution_count": 4,
   "metadata": {
    "colab": {
     "base_uri": "https://localhost:8080/"
    },
    "executionInfo": {
     "elapsed": 44,
     "status": "ok",
     "timestamp": 1758127087774,
     "user": {
      "displayName": "quang hoàng",
      "userId": "14537424633428942085"
     },
     "user_tz": -420
    },
    "id": "1c6f51c1-ac3d-46a8-ab35-0d087877fb9d",
    "outputId": "44d0930b-11fe-4ce0-ee0e-da7513a0e09c"
   },
   "outputs": [
    {
     "name": "stdout",
     "output_type": "stream",
     "text": [
      "3. Xử lý khác trên dãy số\n",
      "a. Day so x: [ 1  2  3  4  5  6  7  8  9 10]\n"
     ]
    }
   ],
   "source": [
    "print(\"3. Xử lý khác trên dãy số\")\n",
    "\"\"\" CÁC BẠN LÀM BÀI Ở ĐÂY \"\"\"\n",
    "x = np.arange(1, 11)\n",
    "# ...\n",
    "\n",
    "print(f'a. Day so x: {x}')"
   ]
  },
  {
   "cell_type": "code",
   "execution_count": 6,
   "metadata": {
    "colab": {
     "base_uri": "https://localhost:8080/"
    },
    "executionInfo": {
     "elapsed": 11,
     "status": "ok",
     "timestamp": 1758127118373,
     "user": {
      "displayName": "quang hoàng",
      "userId": "14537424633428942085"
     },
     "user_tz": -420
    },
    "id": "13211d38-0008-49ba-ac7b-c4ea034d12f4",
    "outputId": "bc0e4a48-cade-4fe2-ac55-1f52c5ecda8f"
   },
   "outputs": [
    {
     "name": "stdout",
     "output_type": "stream",
     "text": [
      "b. Cac phan tu chan va le trong day a, x: \n",
      "+ Day a: [120 183 160 175 145 162 190 160 152 162]\n",
      "  - Day chua phan tu chan trong a: [120 160 162 190 160 152 162], so luong 7 phan tu.\n",
      "  - Day chua phan tu le trong a: [183 175 145], so luong 3 phan tu.\n",
      "+ Day x: [ 1  2  3  4  5  6  7  8  9 10]\n",
      "  - Day chua phan tu chan trong x: [ 2  4  6  8 10], so luong 5 phan tu.\n",
      "  - Day chua phan tu le trong x: [1 3 5 7 9], so luong 5 phan tu.\n"
     ]
    }
   ],
   "source": [
    "\"\"\" CÁC BẠN LÀM BÀI Ở ĐÂY \"\"\"\n",
    "a_la_chan = (a % 2 == 0)\n",
    "a_chan = a[a_la_chan]\n",
    "n_a_chan = len(a_chan)\n",
    "\n",
    "a_la_le = (a % 2 != 0)\n",
    "a_le = a[a_la_le]\n",
    "n_a_le = len(a_le)\n",
    "\n",
    "x_la_chan = (x % 2 == 0)\n",
    "x_chan = x[x_la_chan]\n",
    "n_x_chan = len(x_chan)\n",
    "\n",
    "x_la_le = (x % 2 != 0)\n",
    "x_le = x[x_la_le]\n",
    "n_x_le = len(x_le)\n",
    "# ...\n",
    "\n",
    "print( \"b. Cac phan tu chan va le trong day a, x: \")\n",
    "print(f\"+ Day a: {a}\")\n",
    "print(f\"  - Day chua phan tu chan trong a: {a_chan}, so luong {n_a_chan} phan tu.\")\n",
    "print(f\"  - Day chua phan tu le trong a: {a_le}, so luong {n_a_le} phan tu.\")\n",
    "print(f\"+ Day x: {x}\")\n",
    "print(f\"  - Day chua phan tu chan trong x: {x_chan}, so luong {n_x_chan} phan tu.\")\n",
    "print(f\"  - Day chua phan tu le trong x: {x_le}, so luong {n_x_le} phan tu.\")"
   ]
  },
  {
   "cell_type": "code",
   "execution_count": 7,
   "metadata": {
    "colab": {
     "base_uri": "https://localhost:8080/"
    },
    "executionInfo": {
     "elapsed": 8,
     "status": "ok",
     "timestamp": 1758127125160,
     "user": {
      "displayName": "quang hoàng",
      "userId": "14537424633428942085"
     },
     "user_tz": -420
    },
    "id": "1d441e53-26ad-45ff-a6d4-6abbb9c66f65",
    "outputId": "011e854b-b9d3-4fe2-ed09-70e4c9bd493e"
   },
   "outputs": [
    {
     "name": "stdout",
     "output_type": "stream",
     "text": [
      "c.Tính hiệu các phần tử ở vị trí lẻ của mảng a và x: \n",
      "+ Vi tri le trong a va x: [1 3 5 7 9]\n",
      "+ Day so a: [120 183 160 175 145 162 190 160 152 162] va cac so o vi tri le: [183 175 162 160 162]\n",
      "+ Day so x: [ 1  2  3  4  5  6  7  8  9 10] va cac so o vi tri le: [ 2  4  6  8 10]\n",
      "+ Hieu cua a va x o vi tri le: [181 171 156 152 152]\n",
      "+ Khoang cach cac phan tu cua a va x o vi tri le:  364.07\n"
     ]
    }
   ],
   "source": [
    "\"\"\" CÁC BẠN LÀM BÀI Ở ĐÂY \"\"\"\n",
    "v_le = np.arange(1, 10, 2)\n",
    "a_le = a[v_le]\n",
    "x_le = x[v_le]\n",
    "hieu_le = a_le - x_le\n",
    "kc_le = np.sqrt(np.sum(hieu_le ** 2))\n",
    "# ...\n",
    "\n",
    "print( \"c.Tính hiệu các phần tử ở vị trí lẻ của mảng a và x: \")\n",
    "print(f\"+ Vi tri le trong a va x: {v_le}\")\n",
    "print(f\"+ Day so a: {a} va cac so o vi tri le: {a_le}\")\n",
    "print(f\"+ Day so x: {x} va cac so o vi tri le: {x_le}\")\n",
    "print(f\"+ Hieu cua a va x o vi tri le: {hieu_le}\")\n",
    "print(f\"+ Khoang cach cac phan tu cua a va x o vi tri le: {kc_le: .2f}\")"
   ]
  },
  {
   "cell_type": "code",
   "execution_count": 8,
   "metadata": {
    "colab": {
     "base_uri": "https://localhost:8080/"
    },
    "executionInfo": {
     "elapsed": 39,
     "status": "ok",
     "timestamp": 1758127145174,
     "user": {
      "displayName": "quang hoàng",
      "userId": "14537424633428942085"
     },
     "user_tz": -420
    },
    "id": "92f5e91d-e213-4146-b873-0d2936c6990e",
    "outputId": "c6fbbd3a-425f-4dae-9b01-1a0f98a28528"
   },
   "outputs": [
    {
     "name": "stdout",
     "output_type": "stream",
     "text": [
      "d. Tìm khoảng cách nhỏ nhất giữa tập a và x. Ví dụ: min({1, 3, 5}, {2, 10, 8}} = 1\n",
      "+ Day a: [120 183 160 175 145 162 190 160 152 162]\n",
      "+ Day x: [ 1  2  3  4  5  6  7  8  9 10]\n",
      "+ Khoang cach nho nhat: 110\n"
     ]
    }
   ],
   "source": [
    "print(\"d. Tìm khoảng cách nhỏ nhất giữa tập a và x. Ví dụ: min({1, 3, 5}, {2, 10, 8}} = 1\")\n",
    "\"\"\"\n",
    "Gợi ý: Áp dụng toán tử broatcasting\n",
    "[[1],                    [[1, 1, 1],        [[2, 10, 8],    =   [[-1, -9, -7],\n",
    " [3],   - [2, 10, 8] =    [3, 3, 3],   -     [2, 10, 8],         [ 1, -7, -5],  --> np.min(np.abs(...)) = 1\n",
    " [5]]                     [5, 5, 5]]         [2, 10, 8]]         [ 3, -5, -3]]\n",
    "\"\"\"\n",
    "\"\"\" CÁC BẠN LÀM BÀI Ở ĐÂY \"\"\"\n",
    "# Tăng số chiều dùng tại vị trí chiều cuối dùng np.newaxis như sau: a[:, np.newaxis]\n",
    "v_min = np.min(np.abs(a[:, np.newaxis] - x))\n",
    "# ...\n",
    "\n",
    "print(f\"+ Day a: {a}\")\n",
    "print(f\"+ Day x: {x}\")\n",
    "print(f\"+ Khoang cach nho nhat: {v_min}\")"
   ]
  },
  {
   "cell_type": "markdown",
   "metadata": {
    "id": "d18845b8-0d51-4666-ba1c-5ff836ef3d54"
   },
   "source": [
    "#### 4. Sinh ngẫu nhiên dãy số\n",
    "(a) Sinh ngẫu nhiên dãy số có 100 phần tử theo phân bố đều với giá trị trong đoạn [1, 10] và vẽ đồ thị tần số xuất hiện <br/>\n",
    "(b) Sinh ngẫu nhiên N diem (x, y) với y là hàm phân phối chuẩn $N(\\mu = 1, \\sigma^2 = 1.0)$: <br/>\n",
    " $$\n",
    " y = f\\left(x| \\mu, \\sigma\\right) = \\frac{1}{\\sigma\\sqrt{2\\pi}}exp\\left(-\\frac{\\left(x - \\mu\\right)^2}{2\\sigma^2}\\right)\n",
    " $$\n",
    " nơi mà $x \\in [\\mu - 5\\sigma, \\mu + 5\\sigma]$ <br/>\n",
    " (c) Sinh ngẫu nhiên dãy số có 100000 phần tử theo phân bố chuẩn $N(\\mu = 1, \\sigma^2 = 1.0)$ và vẽ đồ thị tần số xuất hiện <br/> <br/>"
   ]
  },
  {
   "cell_type": "code",
   "execution_count": 10,
   "metadata": {
    "colab": {
     "base_uri": "https://localhost:8080/",
     "height": 591
    },
    "executionInfo": {
     "elapsed": 299,
     "status": "ok",
     "timestamp": 1758127198383,
     "user": {
      "displayName": "quang hoàng",
      "userId": "14537424633428942085"
     },
     "user_tz": -420
    },
    "id": "4d35cd9c-3163-486e-baef-63180ff2f5b6",
    "outputId": "5175792e-fa35-421e-ce5d-9fa9c20e043e"
   },
   "outputs": [
    {
     "name": "stdout",
     "output_type": "stream",
     "text": [
      "a. Sinh ngẫu nhiên theo phân bố đều\n",
      "+ Gia tri: [ 1  2  3  4  5  6  7  8  9 10]\n",
      "+ So lan xuat hien: [ 5  9  4 10 13  8 21  6 14 10]\n",
      "+ Do thi ham so xuat hien\n"
     ]
    },
    {
     "data": {
      "image/png": "[encoded data removed]",
      "text/plain": [
       "<Figure size 600x600 with 1 Axes>"
      ]
     },
     "metadata": {},
     "output_type": "display_data"
    }
   ],
   "source": [
    "import matplotlib.pyplot as plt  # Khai báo thư viện pyplot trong matplotlib\n",
    "\n",
    "\"\"\" CÁC BẠN LÀM BÀI Ở ĐÂY \"\"\"\n",
    "# Sử dụng hàm np.random.randint để sinh dãy số ngẫu nhiên\n",
    "# Sử dụng hàm np.unique để trả về tần số xuất hiện\n",
    "data_uniform = np.random.randint(1, 11, 100)\n",
    "value, cnt = np.unique(data_uniform, return_counts=True)\n",
    "# ...\n",
    "\n",
    "print(\"a. Sinh ngẫu nhiên theo phân bố đều\")\n",
    "print(f\"+ Gia tri: {value}\")\n",
    "print(f\"+ So lan xuat hien: {cnt}\")\n",
    "print(\"+ Do thi ham so xuat hien\")\n",
    "plt.figure(figsize=(6,6))      #  kich thuoc ban ve\n",
    "plt.bar(value, cnt)            #  ve cac khoi chu nhat theo day x, y\n",
    "plt.xlim(0, 11)                #  gioi han truc x\n",
    "plt.ylim(0, np.max(cnt) + 10)  #  gioi han truc y\n",
    "plt.savefig(\"4a.png\")          #  luu do thi\n",
    "plt.show()                     #  hien thi do thi"
   ]
  },
  {
   "cell_type": "code",
   "execution_count": 12,
   "metadata": {
    "colab": {
     "base_uri": "https://localhost:8080/",
     "height": 574
    },
    "executionInfo": {
     "elapsed": 282,
     "status": "ok",
     "timestamp": 1758127262664,
     "user": {
      "displayName": "quang hoàng",
      "userId": "14537424633428942085"
     },
     "user_tz": -420
    },
    "id": "55c99911-a213-4961-85b7-2ef09b775945",
    "outputId": "a2662e92-07f1-4b7c-ad91-0d5620fc571a"
   },
   "outputs": [
    {
     "name": "stdout",
     "output_type": "stream",
     "text": [
      "b. Sinh cặp (x, y) với y làm hàm phân phối chuẩn\n",
      "+ x: -4.0 <= min [-3.96] <= max [ 5.99] <= 6.0\n",
      "+ Ve ham so y(x)\n"
     ]
    },
    {
     "data": {
      "image/png": "[encoded data removed]",
      "text/plain": [
       "<Figure size 600x600 with 1 Axes>"
      ]
     },
     "metadata": {},
     "output_type": "display_data"
    }
   ],
   "source": [
    "\"\"\" CÁC BẠN LÀM BÀI Ở ĐÂY \"\"\"\n",
    "# Sử dụm hàm np.random.rand() sinh số ngẫu nhiên trong [0,1) --> [0,1) * (b - a) + a --> [a, b)\n",
    "# Sử dụng hàm sau để tính hàm xác suất chuẩn N(m, s): np.sqrt, np.exp\n",
    "# ...\n",
    "mu = 1\n",
    "sigma = 1.0\n",
    "x_min = mu - 5 * sigma\n",
    "x_max = mu + 5 * sigma\n",
    "x = np.random.rand(1000) * (x_max - x_min) + x_min\n",
    "y = 1 / (sigma * np.sqrt(2 * np.pi)) * np.exp(-((x - mu) ** 2) / (2 * sigma ** 2))\n",
    "\n",
    "\n",
    "print(\"b. Sinh cặp (x, y) với y làm hàm phân phối chuẩn\")\n",
    "print(f\"+ x: {x_min} <= min [{np.min(x): .2f}] <= max [{np.max(x): .2f}] <= {x_max}\")\n",
    "print(f\"+ Ve ham so y(x)\")\n",
    "plt.figure(figsize=(6,6))      # kich thuoc ban ve\n",
    "plt.scatter(x, y)              # ve cac diem (xi, yi)\n",
    "plt.savefig(\"4b.png\")          #  luu do thi\n",
    "plt.show()                     #  hien thi do thi"
   ]
  },
  {
   "cell_type": "code",
   "execution_count": 14,
   "metadata": {
    "colab": {
     "base_uri": "https://localhost:8080/",
     "height": 574
    },
    "executionInfo": {
     "elapsed": 199,
     "status": "ok",
     "timestamp": 1758127285571,
     "user": {
      "displayName": "quang hoàng",
      "userId": "14537424633428942085"
     },
     "user_tz": -420
    },
    "id": "0b4cf743-6afa-47da-8d3e-61f84623c707",
    "outputId": "74159c9a-9fa5-4508-9ae2-1c33529c91a4"
   },
   "outputs": [
    {
     "name": "stdout",
     "output_type": "stream",
     "text": [
      "c. Sinh day so theo phan phoi chuan\n",
      "+ x: len = 100000, min [-2.89], max [ 5.60]\n",
      "+ Mat so xac suat cua day so x\n"
     ]
    },
    {
     "data": {
      "image/png": "[encoded data removed]",
      "text/plain": [
       "<Figure size 600x600 with 1 Axes>"
      ]
     },
     "metadata": {},
     "output_type": "display_data"
    }
   ],
   "source": [
    "\"\"\" CÁC BẠN LÀM BÀI Ở ĐÂY \"\"\"\n",
    "# Sử dụng hàm np.random.randn() sinh phân phối chuẩn N(0,1) --> N(m,s^2) = m + N(0,1) * s\n",
    "# Sử dụng hàm np.histogram với density=True để thống kê số lần xuất hiện với số bins = 300 (do dãy số thực)\n",
    "# ...\n",
    "mu = 1\n",
    "sigma = 1.0\n",
    "data_normal = mu + np.random.randn(100000) * sigma\n",
    "cnt, val = np.histogram(data_normal, bins=300, density=True)\n",
    "val = (val[:-1] + val[1:]) / 2 # Calculate bin centers\n",
    "\n",
    "\n",
    "print( \"c. Sinh day so theo phan phoi chuan\")\n",
    "print(f\"+ x: len = {len(data_normal)}, min [{np.min(data_normal): .2f}], max [{np.max(data_normal): .2f}]\")\n",
    "print(f\"+ Mat so xac suat cua day so x\")\n",
    "plt.figure(figsize=(6,6))      # kich thuoc ban ve\n",
    "plt.xlim(np.min(val), np.max(val))\n",
    "plt.scatter(val, cnt)\n",
    "plt.show()"
   ]
  },
  {
   "cell_type": "markdown",
   "metadata": {
    "id": "4f1a6dde-3e75-4dc7-8bab-40b7b9e17091"
   },
   "source": [
    "### Bài 2. Tính toán trên ma trận"
   ]
  },
  {
   "cell_type": "markdown",
   "metadata": {
    "id": "8ce5c9f7-de68-44cf-a1ce-950822c408d3"
   },
   "source": [
    "#### 1. Tạo ma trận a có M = 6 dòng, N = 4 cột"
   ]
  },
  {
   "cell_type": "code",
   "execution_count": 15,
   "metadata": {
    "colab": {
     "base_uri": "https://localhost:8080/"
    },
    "executionInfo": {
     "elapsed": 23,
     "status": "ok",
     "timestamp": 1758127486749,
     "user": {
      "displayName": "quang hoàng",
      "userId": "14537424633428942085"
     },
     "user_tz": -420
    },
    "id": "17b1f09d-11c7-4711-8b40-f67abd54323e",
    "outputId": "7fb050f1-9374-4e57-e409-74b23e3f6fb4"
   },
   "outputs": [
    {
     "name": "stdout",
     "output_type": "stream",
     "text": [
      "Ma trận a: \n",
      " [[197 123 114 153]\n",
      " [100 191 101 148]\n",
      " [116 154 135 155]\n",
      " [173 151 137 152]\n",
      " [177 178 107 174]\n",
      " [169 195 136 133]]\n"
     ]
    }
   ],
   "source": [
    "\"\"\" CÁC BẠN LÀM BÀI Ở ĐÂY \"\"\"\n",
    "a = np.array([[197, 123, 114, 153],\n",
    "              [100, 191, 101, 148],\n",
    "              [116, 154, 135, 155],\n",
    "              [173, 151, 137, 152],\n",
    "              [177, 178, 107, 174],\n",
    "              [169, 195, 136, 133]])\n",
    "# ...\n",
    "\n",
    "print(\"Ma trận a: \\n\", a)"
   ]
  },
  {
   "cell_type": "markdown",
   "metadata": {
    "id": "8bc353b9-1740-4e94-b779-eae046171142"
   },
   "source": [
    "#### 2. Các thao tác trên ma trận a\n",
    "(a) In ra ma trận chuyển vị <br/>\n",
    "(b) In ra phần tử ở vị trí dòng 2 cột 3 <br/>\n",
    "(c) Trích xuất dòng đầu, dòng cuối, dòng 2 <br/>\n",
    "(d) Trích xuất cột kế cuối, cột đầu <br/>\n",
    "(e) Đảo các giá trị trên từng cột <br/>\n",
    "(f) Tính tổng các dòng, trung bình các cột <br/>"
   ]
  },
  {
   "cell_type": "code",
   "execution_count": 16,
   "metadata": {
    "colab": {
     "base_uri": "https://localhost:8080/"
    },
    "executionInfo": {
     "elapsed": 46,
     "status": "ok",
     "timestamp": 1758127506650,
     "user": {
      "displayName": "quang hoàng",
      "userId": "14537424633428942085"
     },
     "user_tz": -420
    },
    "id": "5236b916-3dda-4444-8004-9a6ab8d80df4",
    "outputId": "6470bf01-7597-4bab-c5a8-05aa81ab7329"
   },
   "outputs": [
    {
     "name": "stdout",
     "output_type": "stream",
     "text": [
      "a. In ra ma trận chuyển vị: \n",
      "[[197 100 116 173 177 169]\n",
      " [123 191 154 151 178 195]\n",
      " [114 101 135 137 107 136]\n",
      " [153 148 155 152 174 133]]\n",
      "\n",
      "b. In ra phần tử ở vị trí dòng 2 cột 3: 101\n",
      "\n",
      "c. Trích xuất các dòng: \n",
      "   + Dòng đầu : [197 123 114 153]\n",
      "   + Dòng cuối: [169 195 136 133]\n",
      "   + Dòng hai : [116 154 135 155]\n",
      "\n",
      "d. Trích xuất các cột: \n",
      "   + Cột kế cuối: [114 101 135 137 107 136]\n",
      "   + Cột đầu: [197 100 116 173 177 169]\n",
      "\n",
      "e. Đảo các giá trị trên từng cột: \n",
      " [[169 195 136 133]\n",
      " [177 178 107 174]\n",
      " [173 151 137 152]\n",
      " [116 154 135 155]\n",
      " [100 191 101 148]\n",
      " [197 123 114 153]]\n",
      "\n",
      "f. Phép tính theo trục:\n",
      "   + Tổng dòng: [587 540 560 613 636 633]\n",
      "   + Trung bình cột: [155.33333333 165.33333333 121.66666667 152.5       ]\n"
     ]
    }
   ],
   "source": [
    "\"\"\" CÁC BẠN LÀM BÀI Ở ĐÂY \"\"\"\n",
    "a_t = a.T\n",
    "v_23 = a[1, 2]\n",
    "d_0 = a[0, :]\n",
    "d_last = a[-1, :]\n",
    "d_2 = a[2, :]\n",
    "c_l1 = a[:, -2]\n",
    "c_0 = a[:, 0]\n",
    "dao_cot = a[::-1, :]\n",
    "tong_dong = np.sum(a, axis=1)\n",
    "tb_cot = np.mean(a, axis=0)\n",
    "# ...\n",
    "\n",
    "print(f\"a. In ra ma trận chuyển vị: \\n{a_t}\")\n",
    "print(f\"\\nb. In ra phần tử ở vị trí dòng 2 cột 3: {v_23}\")\n",
    "print(f\"\\nc. Trích xuất các dòng: \")\n",
    "print(f\"   + Dòng đầu : {d_0}\")\n",
    "print(f\"   + Dòng cuối: {d_last}\")\n",
    "print(f\"   + Dòng hai : {d_2}\")\n",
    "print(f\"\\nd. Trích xuất các cột: \")\n",
    "print(f\"   + Cột kế cuối: {c_l1}\")\n",
    "print(f\"   + Cột đầu: {c_0}\")\n",
    "print(f\"\\ne. Đảo các giá trị trên từng cột: \\n {dao_cot}\")\n",
    "print(f\"\\nf. Phép tính theo trục:\")\n",
    "print(f\"   + Tổng dòng: {tong_dong}\")\n",
    "print(f\"   + Trung bình cột: {tb_cot}\")"
   ]
  },
  {
   "cell_type": "markdown",
   "metadata": {
    "id": "bca46803-13a7-4324-b719-0bffd7110119"
   },
   "source": [
    "#### 3. Các toán tử trên hai ma trận\n",
    "(a) Tạo hai ma trận A và B có 4 dòng x 3 cột và X có 3 dòng x 4 cột <br/>\n",
    "(b) Tính tổng, hiệu, tích của từng phần tử trên hai ma trận A và B <br/>\n",
    "(c) Tính phép nhân ma trận Y = A x X"
   ]
  },
  {
   "cell_type": "code",
   "execution_count": 17,
   "metadata": {
    "colab": {
     "base_uri": "https://localhost:8080/"
    },
    "executionInfo": {
     "elapsed": 10,
     "status": "ok",
     "timestamp": 1758127537181,
     "user": {
      "displayName": "quang hoàng",
      "userId": "14537424633428942085"
     },
     "user_tz": -420
    },
    "id": "86d9c4ed-e86c-4baf-b51b-9dbd20e5c3cb",
    "outputId": "e8110f91-5dc2-41df-a61d-3b916cfdd909"
   },
   "outputs": [
    {
     "name": "stdout",
     "output_type": "stream",
     "text": [
      "a. Tạo hai ma trận A và B có 4 dòng x 3 cột và X có 3 dòng x 4 cột\n",
      "+ Ma tran A: \n",
      "[[1 3 5]\n",
      " [5 1 4]\n",
      " [2 5 2]\n",
      " [1 5 1]]\n",
      "+ Ma tran B: \n",
      "[[4 5 4]\n",
      " [5 5 1]\n",
      " [2 5 2]\n",
      " [1 1 4]]\n",
      "+ Ma tran X: \n",
      "[[1 3 1 5]\n",
      " [5 5 5 1]\n",
      " [2 5 2 1]]\n",
      "\n",
      "b. Tính tổng, hiệu, tích của từng phần tử trên hai ma trận A và B\n",
      "A + B = \n",
      "[[ 5  8  9]\n",
      " [10  6  5]\n",
      " [ 4 10  4]\n",
      " [ 2  6  5]]\n",
      "A - B = \n",
      "[[-3 -2  1]\n",
      " [ 0 -4  3]\n",
      " [ 0  0  0]\n",
      " [ 0  4 -3]]\n",
      "A . B = \n",
      "[[ 4 15 20]\n",
      " [25  5  4]\n",
      " [ 4 25  4]\n",
      " [ 1  5  4]]\n",
      "\n",
      "c. Tính phép nhân ma trận Y = A x X\n",
      "Y = A x X --> shape A ((4, 3)) x shape X ((3, 4)) = shape Y ((4, 4)) \n",
      "[[26 43 26 13]\n",
      " [18 40 18 30]\n",
      " [31 41 31 17]\n",
      " [28 33 28 11]]\n"
     ]
    }
   ],
   "source": [
    "\"\"\" CÁC BẠN LÀM BÀI Ở ĐÂY \"\"\"\n",
    "A = np.random.randint(1, 6, (4, 3))\n",
    "B = np.random.randint(1, 6, (4, 3))\n",
    "X = np.random.randint(1, 6, (3, 4))\n",
    "AB_add = A + B\n",
    "AB_sub = A - B\n",
    "AB_mul = A * B\n",
    "Y = A @ X\n",
    "# ...\n",
    "\n",
    "print(\"a. Tạo hai ma trận A và B có 4 dòng x 3 cột và X có 3 dòng x 4 cột\")\n",
    "print(f\"+ Ma tran A: \\n{A}\")\n",
    "print(f\"+ Ma tran B: \\n{B}\")\n",
    "print(f\"+ Ma tran X: \\n{X}\")\n",
    "\n",
    "print(\"\\nb. Tính tổng, hiệu, tích của từng phần tử trên hai ma trận A và B\")\n",
    "print(f\"A + B = \\n{AB_add}\")\n",
    "print(f\"A - B = \\n{AB_sub}\")\n",
    "print(f\"A . B = \\n{AB_mul}\")\n",
    "\n",
    "print(\"\\nc. Tính phép nhân ma trận Y = A x X\")\n",
    "print(f\"Y = A x X --> shape A ({A.shape}) x shape X ({X.shape}) = shape Y ({Y.shape}) \\n{Y}\")"
   ]
  },
  {
   "cell_type": "markdown",
   "metadata": {
    "id": "43602379-f77d-44ba-b2e3-23f85c6bcf5a"
   },
   "source": [
    "#### 4. Giải hệ phương trình tuyến tính\n",
    "Giải hệ phương trình tuyến tính sau:\n",
    "$$\n",
    "\\left\\{\\begin{matrix}\n",
    "        4x_1  + 3x_2 - 5x_3 = 2 \\\\\n",
    "        -2x_1 - 4x_2 + 5x_3 = 5 \\\\\n",
    "        8x_1 + 8x_2 = -3 \\\\\n",
    "\\end{matrix}\\right.\n",
    "$$"
   ]
  },
  {
   "cell_type": "code",
   "execution_count": 18,
   "metadata": {
    "colab": {
     "base_uri": "https://localhost:8080/"
    },
    "executionInfo": {
     "elapsed": 36,
     "status": "ok",
     "timestamp": 1758127544304,
     "user": {
      "displayName": "quang hoàng",
      "userId": "14537424633428942085"
     },
     "user_tz": -420
    },
    "id": "53db2e93-fcbe-49f6-a4dd-482d22bcda54",
    "outputId": "b34df1f8-9492-42b8-ba94-dce931dbe611"
   },
   "outputs": [
    {
     "name": "stdout",
     "output_type": "stream",
     "text": [
      "+ Ma tran A: \n",
      "[[ 4  3 -5]\n",
      " [-2 -4  5]\n",
      " [ 8  8  0]]\n",
      "+ Vector y: [ 2  5 -3]\n",
      "+ Nghiem x: [ 2.20833333 -2.58333333 -0.18333333]\n",
      "+ Kiem tra: yy = Ax = [ 2.  5. -3.] ==> ||yy -y ||_2 =  0.00\n"
     ]
    }
   ],
   "source": [
    "\"\"\" CÁC BẠN LÀM BÀI Ở ĐÂY \"\"\"\n",
    "A = np.array([[4, 3, -5], [-2, -4, 5], [8, 8, 0]])\n",
    "y = np.array([2, 5, -3])\n",
    "x = np.linalg.solve(A, y)\n",
    "yy = A @ x\n",
    "diff = np.linalg.norm(yy - y)\n",
    "# ...\n",
    "\n",
    "print(f\"+ Ma tran A: \\n{A}\")\n",
    "print(f\"+ Vector y: {y}\")\n",
    "print(f\"+ Nghiem x: {x}\")\n",
    "print(f\"+ Kiem tra: yy = Ax = {yy} ==> ||yy -y ||_2 = {diff: .2f}\")"
   ]
  },
  {
   "cell_type": "markdown",
   "metadata": {
    "id": "526b7e20-beca-4087-9cab-02ccc0a8f856"
   },
   "source": [
    "## Bài tập áp dụng"
   ]
  },
  {
   "cell_type": "markdown",
   "metadata": {
    "id": "9ee067fb-2045-4d3e-b504-ff4a8c3dcf37"
   },
   "source": [
    "### Bài 3. Tính gần đúng số pi dùng phương pháp Monte Carlo\n",
    "\n",
    "Vẽ một đường tròn $C$ có bán kính $r$ nội tiếp một hình vuông $C$, và đặt ngẫu nhiên $N$ chấm lên hình vuông. Tỉ lệ các chấm nằm trong hình tròn trên tổng số chấm xấp xỉ bằng diện tích của hình tròn chia cho hình vuông như sau:\n",
    "$$\n",
    "\\frac{N_C}{N} \\approx  \\frac{\\mathbb{S}_C}{\\mathbb{S}_N}\n",
    "$$\n",
    "nơi mà $N_C$ là các chấm trong hình tròn, $N$ là tổng số chấm, $\\mathbb{S}_C$ và $\\mathbb{S}_N$ lần lượt là diện tích của hình tròn và hình vuông.\n",
    "$$ \\mathbb{S}_C = \\pi * r^2 $$\n",
    "$$ \\mathbb{S}_N = (2*r)^2 = 4r^2 $$\n",
    "Do đó, công thức trên trở thành:\n",
    "$$\n",
    "\\frac{N_C}{N} \\approx \\frac{\\pi * r^2}{4r^2} = \\frac{\\pi}{4}\n",
    "$$\n",
    "Suy ra, ta có giá trị số $\\pi$ được tính như sau:\n",
    "$$\n",
    "\\pi \\approx \\frac{4N_C}{N}\n",
    "$$\n",
    "\n",
    "Các bạn hãy lập trình tính sấp xỉ số $\\pi$ dùng phương pháp Monte Carlo. Cho biết các sai số với $N = 100$, $N = 10000$, và $N = 1000000$. Vẽ đồ thị minh họa cho chương trình.\n",
    "\n",
    "**Hướng dẫn**: Viết chương trình phát sinh $N$ điểm $(x_i, y_i)$ với $x_i, y_i \\in [-1, -1]$. $(x_i, y_i)$ thuộc hình tròn tâm $(0, 0)$ bán kính 1 nội tiếp hình vuông có tâm tại $(0, 0)$ độ dài cạnh 2 khi và chỉ khi $x_i^2 + y_i^2 <= 1$."
   ]
  },
  {
   "cell_type": "code",
   "execution_count": 19,
   "metadata": {
    "colab": {
     "base_uri": "https://localhost:8080/",
     "height": 528
    },
    "executionInfo": {
     "elapsed": 298,
     "status": "ok",
     "timestamp": 1758127626272,
     "user": {
      "displayName": "quang hoàng",
      "userId": "14537424633428942085"
     },
     "user_tz": -420
    },
    "id": "793640f7-4ba5-4d27-9d52-a65f4c25a5b0",
    "outputId": "d3b5db1a-4294-40a9-82f0-404dacdfbf36"
   },
   "outputs": [
    {
     "data": {
      "image/png": "[encoded data removed]",
      "text/plain": [
       "<Figure size 600x600 with 1 Axes>"
      ]
     },
     "metadata": {},
     "output_type": "display_data"
    }
   ],
   "source": [
    "import matplotlib.pyplot as plt # khai báo thư viện vẽ pyplot\n",
    "import math\n",
    "\n",
    "circle = plt.Circle((0, 0), 1, color='g') # tạo đối tượng vòng tròn\n",
    "\n",
    "fig, ax = plt.subplots(figsize=(6, 6)) # lấy figure và vùng vẽ\n",
    "\n",
    "plt.plot(0, 0, 'o', color=(0.9, 0.9, 1.0), alpha=0.8) # vẽ điểm tại tâm (0,0)\n",
    "ax.add_patch(circle) # thêm vòng tròn vào vùng vẽ\n",
    "\n",
    "x = 0.75; y = math.sqrt(1 - (x ** 2)) # (x = 0.75, y = căn bậc 2 của 1 - x^2)\n",
    "plt.arrow(0, 0, x, y)\n",
    "\n",
    "plt.xlim(-1, 1) # giới hạn trục x\n",
    "plt.ylim(-1, 1) # giới hạn trục y\n",
    "\n",
    "plt.savefig('pi.png') # lưu đồ thị xuống tập tin\n",
    "plt.show()            # hiển thị đồ thị"
   ]
  },
  {
   "cell_type": "code",
   "execution_count": 21,
   "metadata": {
    "executionInfo": {
     "elapsed": 7,
     "status": "ok",
     "timestamp": 1758127632474,
     "user": {
      "displayName": "quang hoàng",
      "userId": "14537424633428942085"
     },
     "user_tz": -420
    },
    "id": "bef335d2-9e51-4fa5-8843-aa1d67a607f0"
   },
   "outputs": [],
   "source": [
    "import numpy as np\n",
    "\n",
    "def calc_pi_monte_carlo(n = 100):\n",
    "    pi = 0\n",
    "\n",
    "    # gợi ý: sử dụng np.random.rand(s1, s2, ...) --> sinh ngẫu nhiên các số trong nửa đoạn [0.0, 1.0)\n",
    "    \"\"\" CÁC BẠN LÀM BÀI Ở ĐÂY \"\"\"\n",
    "    points = np.random.rand(n, 2) * 2 - 1  # Generate points in [-1, 1)\n",
    "    points_in_circle = np.sum(points[:, 0]**2 + points[:, 1]**2 <= 1)\n",
    "    pi = 4 * points_in_circle / n\n",
    "    # ...\n",
    "\n",
    "    return pi\n",
    "# calc_pi_monte_carlo"
   ]
  },
  {
   "cell_type": "code",
   "execution_count": 22,
   "metadata": {
    "colab": {
     "base_uri": "https://localhost:8080/"
    },
    "executionInfo": {
     "elapsed": 75,
     "status": "ok",
     "timestamp": 1758127652104,
     "user": {
      "displayName": "quang hoàng",
      "userId": "14537424633428942085"
     },
     "user_tz": -420
    },
    "id": "91071758-5957-497b-a5d1-2f2d17df6fae",
    "outputId": "24c0582a-2b2e-466e-9956-ae2de0df5c86"
   },
   "outputs": [
    {
     "name": "stdout",
     "output_type": "stream",
     "text": [
      "epsilon(n=100):  0.29840734641020683\n",
      "epsilon(n=100):  0.018407346410207026\n",
      "epsilon(n=10000):  -0.0019926535897929476\n",
      "epsilon(n=10000):  0.007207346410206927\n",
      "epsilon(n=1000000):  -0.0006006535897933318\n",
      "epsilon(n=1000000):  0.00121534641020693\n"
     ]
    }
   ],
   "source": [
    "import math\n",
    "\n",
    "print(\"epsilon(n=100): \", calc_pi_monte_carlo(n = 100) - math.pi)\n",
    "print(\"epsilon(n=100): \", calc_pi_monte_carlo(n = 100) - math.pi)\n",
    "print(\"epsilon(n=10000): \", calc_pi_monte_carlo(n = 10000) - math.pi)\n",
    "print(\"epsilon(n=10000): \", calc_pi_monte_carlo(n = 10000) - math.pi)\n",
    "print(\"epsilon(n=1000000): \", calc_pi_monte_carlo(n = 1000000) - math.pi)\n",
    "print(\"epsilon(n=1000000): \", calc_pi_monte_carlo(n = 1000000) - math.pi)"
   ]
  }
 ],
 "metadata": {
  "colab": {
   "authorship_tag": "ABX9TyMUF3SGfgPd5hV/NwKW2uWf",
   "provenance": []
  },
  "kernelspec": {
   "display_name": "Python 3 (ipykernel)",
   "language": "python",
   "name": "python3"
  },
  "language_info": {
   "codemirror_mode": {
    "name": "ipython",
    "version": 3
   },
   "file_extension": ".py",
   "mimetype": "text/x-python",
   "name": "python",
   "nbconvert_exporter": "python",
   "pygments_lexer": "ipython3",
   "version": "3.13.5"
  }
 },
 "nbformat": 4,
 "nbformat_minor": 4
}
