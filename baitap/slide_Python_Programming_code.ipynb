{
  "nbformat": 4,
  "nbformat_minor": 0,
  "metadata": {
    "colab": {
      "provenance": [],
      "toc_visible": true,
      "authorship_tag": "ABX9TyOIy+OdtAXutklyt9ALTiRW",
      "include_colab_link": true
    },
    "kernelspec": {
      "name": "python3",
      "display_name": "Python 3"
    },
    "language_info": {
      "name": "python"
    }
  },
  "cells": [
    {
      "cell_type": "markdown",
      "metadata": {
        "id": "view-in-github",
        "colab_type": "text"
      },
      "source": [
        "<a href=\"https://colab.research.google.com/github/hoanqphann/DataAnalyst/blob/main/slide_Python_Programming_code.ipynb\" target=\"_parent\"><img src=\"https://colab.research.google.com/assets/colab-badge.svg\" alt=\"Open In Colab\"/></a>"
      ]
    },
    {
      "cell_type": "markdown",
      "source": [
        "# START"
      ],
      "metadata": {
        "id": "6ev4nZoiwHU5"
      }
    },
    {
      "cell_type": "code",
      "execution_count": null,
      "metadata": {
        "id": "d9KUotB4kVA-"
      },
      "outputs": [],
      "source": [
        "print(\"Hello World\")"
      ]
    },
    {
      "cell_type": "code",
      "source": [
        "# comment"
      ],
      "metadata": {
        "id": "7oRsmxk2mLfH"
      },
      "execution_count": null,
      "outputs": []
    },
    {
      "cell_type": "code",
      "source": [
        "#Python Syntax\n",
        "score = 80\n",
        "if score >=60 :\n",
        " print(\"Pass\")"
      ],
      "metadata": {
        "id": "rpMXLvScmOl9"
      },
      "execution_count": null,
      "outputs": []
    },
    {
      "cell_type": "code",
      "source": [
        "#Python Variables\n",
        "x = 2\n",
        "y = x + 1\n",
        "print(x)\n",
        "print(y)"
      ],
      "metadata": {
        "id": "Riif-B5UmVLb"
      },
      "execution_count": null,
      "outputs": []
    },
    {
      "cell_type": "code",
      "source": [
        "#Python Variables\n",
        "x = 2\n",
        "price = 2.5\n",
        "word = 'Hello'\n",
        "print(x,price,word)\n",
        "word = 'Hello'\n",
        "print(word)\n",
        "word = \"Hello\"\n",
        "print(word)\n",
        "word = '''Hello'''\n",
        "print(word)"
      ],
      "metadata": {
        "id": "h01IpOGZmcs5"
      },
      "execution_count": null,
      "outputs": []
    },
    {
      "cell_type": "code",
      "source": [
        "#Python Data Types\n",
        "x = \"Hello World\" #str\n",
        "print(x, type(x))\n",
        "x = 2 #int\n",
        "print(x, type(x))\n",
        "x = 2.5 #float\n",
        "print(x, type(x))\n",
        "x = 7j #complex\n",
        "print(x, type(x))"
      ],
      "metadata": {
        "id": "u5TqFrDUndOO"
      },
      "execution_count": null,
      "outputs": []
    },
    {
      "cell_type": "code",
      "source": [
        "#Python Casting\n",
        "x = str(3) # x will be '3'\n",
        "y = int(3) # y will be 3\n",
        "z = float(3) # z will be 3.0\n",
        "print(x, type(x))\n",
        "print(y, type(y))\n",
        "print(z, type(z))"
      ],
      "metadata": {
        "id": "ortp3HsMmqsd"
      },
      "execution_count": null,
      "outputs": []
    },
    {
      "cell_type": "code",
      "source": [
        "#Python Numbers\n",
        "x = 2 # int\n",
        "y = 3.4 # float\n",
        "z = 7j #complex\n",
        "print(x, type(x))\n",
        "print(y, type(y))\n",
        "print(z, type(z))"
      ],
      "metadata": {
        "id": "Ne5-DynzniZA"
      },
      "execution_count": null,
      "outputs": []
    },
    {
      "cell_type": "code",
      "source": [
        "#Python Data Types\n",
        "x = [\"apple\", \"banana\", \"cherry\"] #list\n",
        "print(x)\n",
        "x = (\"apple\", \"banana\", \"cherry\") #tuple\n",
        "print(x)\n",
        "x = range(6) #range\n",
        "x = {\"name\" : \"Tom\", \"age\" : 20} #dict\n",
        "print(x)\n",
        "x = {\"apple\", \"banana\", \"cherry\"} #set\n",
        "print(x)\n",
        "x = frozenset({\"apple\", \"banana\", \"cherry\"})\n",
        "print(x)\n",
        "#frozenset"
      ],
      "metadata": {
        "id": "a5xYjXt3oRRC"
      },
      "execution_count": null,
      "outputs": []
    },
    {
      "cell_type": "code",
      "source": [
        "#Python Basic Operators\n",
        "print('7 + 2 =', 7 + 2)\n",
        "print('7 - 2 =', 7 - 2)\n",
        "print('7 * 2 =', 7 * 2)\n",
        "print('7 / 2 =', 7 / 2)\n",
        "print('7 // 2 =', 7 // 2)\n",
        "print('7 % 2 =', 7 % 2)\n",
        "print('7 ** 2 =', 7 ** 2)"
      ],
      "metadata": {
        "id": "buChYlEvqiLW"
      },
      "execution_count": null,
      "outputs": []
    },
    {
      "cell_type": "code",
      "source": [
        "# Python Booleans: True or False\n",
        "print(3 > 2)\n",
        "print(3 == 2)\n",
        "print(3 < 2)"
      ],
      "metadata": {
        "id": "rZAlfhWnqttD"
      },
      "execution_count": null,
      "outputs": []
    },
    {
      "cell_type": "code",
      "source": [
        "# BMI Calculator in Python\n",
        "height_cm = 170\n",
        "weight_kg = 60\n",
        "height_m = height_cm/100\n",
        "BMI = (weight_kg/(height_m**2))\n",
        "\n",
        "print(\"Your BMI is: \" + str(round(BMI,1)))"
      ],
      "metadata": {
        "colab": {
          "base_uri": "https://localhost:8080/"
        },
        "id": "jCwLbuRVqyw6",
        "outputId": "19e78639-b8d5-4b47-b314-a519ce27f575"
      },
      "execution_count": null,
      "outputs": [
        {
          "output_type": "stream",
          "name": "stdout",
          "text": [
            "Your BMI is: 20.8\n"
          ]
        }
      ]
    },
    {
      "cell_type": "code",
      "source": [
        "# How much is your $100 worth after 7 years?\n",
        "fv = 100 * 1.1 ** 7\n",
        "print('fv = ', round(fv, 2))\n",
        "# output = 194.87"
      ],
      "metadata": {
        "id": "UjLQ4uU5rtFX",
        "colab": {
          "base_uri": "https://localhost:8080/"
        },
        "outputId": "4243dc38-19b2-443e-ce5f-794140299f25"
      },
      "execution_count": null,
      "outputs": [
        {
          "output_type": "stream",
          "name": "stdout",
          "text": [
            "fv =  194.87\n"
          ]
        }
      ]
    },
    {
      "cell_type": "code",
      "source": [
        "# Future Value\n",
        "pv = 100\n",
        "r = 0.1\n",
        "n = 7\n",
        "fv = pv * ((1 + (r)) ** n)\n",
        "print(round(fv, 2))"
      ],
      "metadata": {
        "colab": {
          "base_uri": "https://localhost:8080/"
        },
        "id": "Ih7TChmkOPtQ",
        "outputId": "2def699a-9ba3-4bb6-aac9-fdd1909ca119"
      },
      "execution_count": null,
      "outputs": [
        {
          "output_type": "stream",
          "name": "stdout",
          "text": [
            "194.87\n"
          ]
        }
      ]
    },
    {
      "cell_type": "code",
      "source": [
        "# Future Value\n",
        "amount = 100\n",
        "interest = 10 #10% = 0.01 * 10\n",
        "years = 7\n",
        "\n",
        "future_value = amount * ((1 + (0.01 * interest)) ** years)\n",
        "print(round(future_value, 2))"
      ],
      "metadata": {
        "colab": {
          "base_uri": "https://localhost:8080/"
        },
        "id": "-AwPAdQwOSBH",
        "outputId": "913d66dc-2d93-47e7-f528-2b097faf26f2"
      },
      "execution_count": null,
      "outputs": [
        {
          "output_type": "stream",
          "name": "stdout",
          "text": [
            "194.87\n"
          ]
        }
      ]
    },
    {
      "cell_type": "markdown",
      "source": [
        "# Array"
      ],
      "metadata": {
        "id": "xZ5jcyulv7HQ"
      }
    },
    {
      "cell_type": "code",
      "source": [
        "#List\n",
        "x = [60, 70, 80, 90]\n",
        "print(len(x))\n",
        "print(x[0])\n",
        "print(x[1])\n",
        "print(x[-1])"
      ],
      "metadata": {
        "colab": {
          "base_uri": "https://localhost:8080/"
        },
        "id": "K9mKGdmxOXfu",
        "outputId": "abc4126a-de02-46df-e397-5a901c86585f"
      },
      "execution_count": null,
      "outputs": [
        {
          "output_type": "stream",
          "name": "stdout",
          "text": [
            "4\n",
            "60\n",
            "70\n",
            "90\n"
          ]
        }
      ]
    },
    {
      "cell_type": "code",
      "source": [
        "#Tuples\n",
        "x = (10, 20, 30, 40, 50)\n",
        "print(x[0])\n",
        "print(x[1])\n",
        "print(x[2])\n",
        "print(x[-1])"
      ],
      "metadata": {
        "colab": {
          "base_uri": "https://localhost:8080/"
        },
        "id": "odk7ooiFObNl",
        "outputId": "9c4e6d5b-1b88-4d9e-e13f-ec7676d7f5b7"
      },
      "execution_count": null,
      "outputs": [
        {
          "output_type": "stream",
          "name": "stdout",
          "text": [
            "10\n",
            "20\n",
            "30\n",
            "50\n"
          ]
        }
      ]
    },
    {
      "cell_type": "code",
      "source": [
        "#Set\n",
        "animals = {'cat', 'dog'}\n",
        "print('cat' in animals)\n",
        "print('fish' in animals)\n",
        "animals.add('fish')\n",
        "print('fish' in animals)\n",
        "print(len(animals))\n",
        "animals.add('cat')\n",
        "print(len(animals))\n",
        "animals.remove('cat')\n",
        "print(len(animals))"
      ],
      "metadata": {
        "colab": {
          "base_uri": "https://localhost:8080/"
        },
        "id": "jxSS91VSOirO",
        "outputId": "38f0e532-32e4-4f72-9958-f550f41a64b5"
      },
      "execution_count": null,
      "outputs": [
        {
          "output_type": "stream",
          "name": "stdout",
          "text": [
            "True\n",
            "False\n",
            "True\n",
            "3\n",
            "3\n",
            "2\n"
          ]
        }
      ]
    },
    {
      "cell_type": "code",
      "source": [
        "#Dictionary\n",
        "k = { 'EN':'English','FR':'French' }\n",
        "print(k['EN'])"
      ],
      "metadata": {
        "colab": {
          "base_uri": "https://localhost:8080/"
        },
        "id": "mg0ElIGEO--D",
        "outputId": "66d88c58-0d65-44ca-eb29-08912215c9ef"
      },
      "execution_count": null,
      "outputs": [
        {
          "output_type": "stream",
          "name": "stdout",
          "text": [
            "English\n"
          ]
        }
      ]
    },
    {
      "cell_type": "code",
      "source": [
        "fruits = [\"apple\", \"banana\", \"cherry\"] #lists []\n",
        "colors = (\"red\", \"green\", \"blue\") #tuples ()\n",
        "animals = {'cat', 'dog'} #sets {}\n",
        "person = {\"name\" : \"Tom\", \"age\" : 20} #dictionaries {}"
      ],
      "metadata": {
        "id": "8NZxwwSePrOT"
      },
      "execution_count": null,
      "outputs": []
    },
    {
      "cell_type": "code",
      "source": [
        "#Python for Finance Applications\n",
        "expenses = [72.50, 80.75, 50.00, 90.25]\n",
        "total_expenses = sum(expenses)\n",
        "print(\"Total expenses:\", total_expenses)"
      ],
      "metadata": {
        "colab": {
          "base_uri": "https://localhost:8080/"
        },
        "id": "2uglmEaOPskk",
        "outputId": "15a6da60-37ed-4f4d-e3b3-9ef6f6b971cb"
      },
      "execution_count": null,
      "outputs": [
        {
          "output_type": "stream",
          "name": "stdout",
          "text": [
            "Total expenses: 293.5\n"
          ]
        }
      ]
    },
    {
      "cell_type": "code",
      "source": [
        "# Python Tuples\n",
        "accounts = ((\"Cash\", 1001), (\"Accounts Receivable\", 1002),\n",
        "(\"Inventory\", 1003))\n",
        "for account in accounts:\n",
        "  print(\"Account name:\", account[0], \"Account number:\", account[1])"
      ],
      "metadata": {
        "colab": {
          "base_uri": "https://localhost:8080/"
        },
        "id": "Xq4AFwSqPwwe",
        "outputId": "e2bd2dbd-d00d-42f3-b305-622ef8200423"
      },
      "execution_count": null,
      "outputs": [
        {
          "output_type": "stream",
          "name": "stdout",
          "text": [
            "Account name: Cash Account number: 1001\n",
            "Account name: Accounts Receivable Account number: 1002\n",
            "Account name: Inventory Account number: 1003\n"
          ]
        }
      ]
    },
    {
      "cell_type": "code",
      "source": [
        "# Python Sets\n",
        "account_numbers = {1001, 1002, 1003}\n",
        "new_account_number = 1004\n",
        "if new_account_number not in account_numbers:\n",
        " print(\"Account number\", new_account_number, \"is not in use.\")"
      ],
      "metadata": {
        "colab": {
          "base_uri": "https://localhost:8080/"
        },
        "id": "jYs_KhanQGfW",
        "outputId": "e17cfea0-d1bb-43ab-eb73-4f420d1ff6f0"
      },
      "execution_count": null,
      "outputs": [
        {
          "output_type": "stream",
          "name": "stdout",
          "text": [
            "Account number 1004 is not in use.\n"
          ]
        }
      ]
    },
    {
      "cell_type": "code",
      "source": [
        "# Python Dictionaries\n",
        "accounts = {\"1001\": {\"name\": \"Cash\", \"balance\": 500.00, \"type\": \"Asset\"},\n",
        "\"1002\": {\"name\": \"Accounts Receivable\", \"balance\": 1000.00, \"type\": \"Asset\"},\n",
        "\"2001\": {\"name\": \"Accounts Payable\", \"balance\": 750.00, \"type\": \"Liability\"}}\n",
        "for account_number, account_info in accounts.items():\n",
        " print(\"Account number:\", account_number)\n",
        " print(\"Account name:\", account_info[\"name\"])\n",
        " print(\"Account balance:\", account_info[\"balance\"])\n",
        " print(\"Account type:\", account_info[\"type\"])"
      ],
      "metadata": {
        "colab": {
          "base_uri": "https://localhost:8080/"
        },
        "id": "fK_QcvwBQNI0",
        "outputId": "bc1cf90e-0b5e-4ba7-dd59-e9f29b29599a"
      },
      "execution_count": null,
      "outputs": [
        {
          "output_type": "stream",
          "name": "stdout",
          "text": [
            "Account number: 1001\n",
            "Account name: Cash\n",
            "Account balance: 500.0\n",
            "Account type: Asset\n",
            "Account number: 1002\n",
            "Account name: Accounts Receivable\n",
            "Account balance: 1000.0\n",
            "Account type: Asset\n",
            "Account number: 2001\n",
            "Account name: Accounts Payable\n",
            "Account balance: 750.0\n",
            "Account type: Liability\n"
          ]
        }
      ]
    },
    {
      "cell_type": "markdown",
      "source": [
        "# LOOPS and IF"
      ],
      "metadata": {
        "id": "RanZsQVxw5EX"
      }
    },
    {
      "cell_type": "code",
      "source": [
        "# Python if\n",
        "score = 80\n",
        "if score >=60 :\n",
        " print(\"Pass\")"
      ],
      "metadata": {
        "colab": {
          "base_uri": "https://localhost:8080/"
        },
        "id": "eDtSd2xuRTDg",
        "outputId": "a3967787-aed0-4774-dd2a-fbb648e0a579"
      },
      "execution_count": null,
      "outputs": [
        {
          "output_type": "stream",
          "name": "stdout",
          "text": [
            "Pass\n"
          ]
        }
      ]
    },
    {
      "cell_type": "code",
      "source": [
        "# Python if else\n",
        "score = 80\n",
        "if score >=60 :\n",
        " print(\"Pass\")\n",
        "else:\n",
        " print(\"Fail\")"
      ],
      "metadata": {
        "colab": {
          "base_uri": "https://localhost:8080/"
        },
        "id": "ZbJcW8-kRVwQ",
        "outputId": "88080dcf-1aff-4e11-cd9d-c093867c001a"
      },
      "execution_count": null,
      "outputs": [
        {
          "output_type": "stream",
          "name": "stdout",
          "text": [
            "Fail\n"
          ]
        }
      ]
    },
    {
      "cell_type": "code",
      "source": [
        "score = 95\n",
        "if score >= 90 :\n",
        " print(\"A\")\n",
        "elif score >=60 :\n",
        " print(\"Pass\")\n",
        "else:\n",
        " print(\"Fail\")"
      ],
      "metadata": {
        "colab": {
          "base_uri": "https://localhost:8080/"
        },
        "id": "707m4dc5RfDs",
        "outputId": "a8dae913-57f0-4a04-b086-e359e8df6e73"
      },
      "execution_count": null,
      "outputs": [
        {
          "output_type": "stream",
          "name": "stdout",
          "text": [
            "A\n"
          ]
        }
      ]
    },
    {
      "cell_type": "code",
      "source": [
        "# Python if elif else\n",
        "score = 90\n",
        "grade = \"\"\n",
        "if score >=90:\n",
        " grade = \"A\"\n",
        "elif score >= 80:\n",
        " grade = \"B\"\n",
        "elif score >= 70:\n",
        " grade = \"C\"\n",
        "elif score >= 60:\n",
        " grade = \"D\"\n",
        "else:\n",
        " grade = \"E\"\n",
        "\n",
        "print(grade)"
      ],
      "metadata": {
        "colab": {
          "base_uri": "https://localhost:8080/"
        },
        "id": "MeFgGBpiRk7p",
        "outputId": "4969992e-ee8c-4418-eff4-c4b49ba01fdf"
      },
      "execution_count": null,
      "outputs": [
        {
          "output_type": "stream",
          "name": "stdout",
          "text": [
            "A\n"
          ]
        }
      ]
    },
    {
      "cell_type": "code",
      "source": [
        "#Python for Loops\n",
        "for i in range(1,6):\n",
        " print(i)"
      ],
      "metadata": {
        "id": "OMWu9FAsRqXB"
      },
      "execution_count": null,
      "outputs": []
    },
    {
      "cell_type": "code",
      "source": [
        "# for loops\n",
        "for i in range(1,10):\n",
        " for j in range(1,10):\n",
        "  print(i, ' * ' , j , ' = ', i*j)"
      ],
      "metadata": {
        "id": "XY149-c8Rwfd"
      },
      "execution_count": null,
      "outputs": []
    },
    {
      "cell_type": "code",
      "source": [
        "# while loops\n",
        "age = 10\n",
        "while age < 20:\n",
        " print(age)\n",
        " age = age + 1"
      ],
      "metadata": {
        "colab": {
          "base_uri": "https://localhost:8080/"
        },
        "id": "P_s3GCNIR3Au",
        "outputId": "61f80163-88e9-4432-9f79-bd9f51692767"
      },
      "execution_count": null,
      "outputs": [
        {
          "output_type": "stream",
          "name": "stdout",
          "text": [
            "10\n",
            "11\n",
            "12\n",
            "13\n",
            "14\n",
            "15\n",
            "16\n",
            "17\n",
            "18\n",
            "19\n"
          ]
        }
      ]
    },
    {
      "cell_type": "markdown",
      "source": [
        "# Function"
      ],
      "metadata": {
        "id": "8klGntB7xDvi"
      }
    },
    {
      "cell_type": "code",
      "source": [
        "# Python Function def\n",
        "# indentation for blocks. four spaces\n",
        "def getfv(pv, r, n):\n",
        " fv = pv * ((1 + (r)) ** n)\n",
        " return fv\n",
        "\n",
        "fv = getfv(100, 0.1, 7)\n",
        "print(round(fv, 2))"
      ],
      "metadata": {
        "colab": {
          "base_uri": "https://localhost:8080/"
        },
        "id": "8zxA5zjSR-Lb",
        "outputId": "d84b5309-1351-458c-854a-c9e3339a3fa6"
      },
      "execution_count": null,
      "outputs": [
        {
          "output_type": "stream",
          "name": "stdout",
          "text": [
            "194.87\n"
          ]
        }
      ]
    },
    {
      "cell_type": "code",
      "source": [
        "# Python class\n",
        "class MyClass:\n",
        " x = 5\n",
        "\n",
        "c1 = MyClass()\n",
        "print(c1.x)"
      ],
      "metadata": {
        "colab": {
          "base_uri": "https://localhost:8080/"
        },
        "id": "jiE_K17OSEpa",
        "outputId": "6ef6b003-6257-413f-e4a7-1dca0a468704"
      },
      "execution_count": null,
      "outputs": [
        {
          "output_type": "stream",
          "name": "stdout",
          "text": [
            "5\n"
          ]
        }
      ]
    },
    {
      "cell_type": "code",
      "source": [
        "#Python Classes/Objects\n",
        "class Person:\n",
        " def __init__(self, name, age):\n",
        "  self.name = name\n",
        "  self.age = age\n",
        "\n",
        "p1 = Person(\"Alan\", 20)\n",
        "print(p1.name)\n",
        "print(p1.age)"
      ],
      "metadata": {
        "colab": {
          "base_uri": "https://localhost:8080/"
        },
        "id": "NDbs4fo1TAXJ",
        "outputId": "11bdd35c-d833-4fce-d553-163f51bb8f25"
      },
      "execution_count": null,
      "outputs": [
        {
          "output_type": "stream",
          "name": "stdout",
          "text": [
            "Alan\n",
            "20\n"
          ]
        }
      ]
    },
    {
      "cell_type": "code",
      "source": [
        "#Python Classes/Objects\n",
        "class Person:\n",
        " def __init__(self, name, age):\n",
        "  self.name = name\n",
        "  self.age = age\n",
        " def myfunc(self):\n",
        "  print(\"Hello my name is \" + self.name)\n",
        "\n",
        "p1 = Person(\"Alan\", 20)\n",
        "p1.myfunc()"
      ],
      "metadata": {
        "colab": {
          "base_uri": "https://localhost:8080/"
        },
        "id": "kzrtIPk8TKjW",
        "outputId": "ababf33c-4c00-4ffa-edd4-3f4c718ae1de"
      },
      "execution_count": null,
      "outputs": [
        {
          "output_type": "stream",
          "name": "stdout",
          "text": [
            "Hello my name is Alan\n"
          ]
        }
      ]
    },
    {
      "cell_type": "code",
      "source": [
        "#Python Classes/Objects\n",
        "class Person:\n",
        " def __init__(self, name, age):\n",
        "  self.name = name\n",
        "  self.age = age\n",
        " def myfunc(self):\n",
        "  print(\"Hello my name is \" + self.name)\n",
        "\n",
        "p1 = Person(\"Alan\", 20)\n",
        "p1.myfunc()\n",
        "print(p1.name)\n",
        "print(p1.age)"
      ],
      "metadata": {
        "colab": {
          "base_uri": "https://localhost:8080/"
        },
        "id": "aZmLkzcxTaXo",
        "outputId": "187cccf6-2568-45f1-8be5-7239d50904c3"
      },
      "execution_count": null,
      "outputs": [
        {
          "output_type": "stream",
          "name": "stdout",
          "text": [
            "Hello my name is Alan\n",
            "Alan\n",
            "20\n"
          ]
        }
      ]
    },
    {
      "cell_type": "code",
      "source": [
        "#Python Classes and Objects\n",
        "class Vehicle:\n",
        " name = \"\"\n",
        " kind = \"car\"\n",
        " color = \"\"\n",
        " value = 100.00\n",
        " def description(self):\n",
        "  desc_str = \"%s is a %s %s worth $%.2f.\" % (self.name, self.color,self.kind, self.value)\n",
        "  return desc_str\n",
        "car1 = Vehicle()\n",
        "car1.name = \"Fer\"\n",
        "car1.color = \"red\"\n",
        "car1.kind = \"convertible\"\n",
        "car1.value = 60000.00\n",
        "\n",
        "car2 = Vehicle()\n",
        "car2.name = \"Jump\"\n",
        "car2.color = \"blue\"\n",
        "car2.kind = \"van\"\n",
        "car2.value = 10000.00\n",
        "\n",
        "print(car1.description())\n",
        "print(car1.name)\n",
        "print(car2.description())\n",
        "print(car2.name)"
      ],
      "metadata": {
        "colab": {
          "base_uri": "https://localhost:8080/"
        },
        "id": "w9yd0xKGTjGw",
        "outputId": "64f92c17-5c86-40bf-bf34-8671ce97acce"
      },
      "execution_count": null,
      "outputs": [
        {
          "output_type": "stream",
          "name": "stdout",
          "text": [
            "Fer is a red convertible worth $60000.00.\n",
            "Fer\n",
            "Jump is a blue van worth $10000.00.\n",
            "Jump\n"
          ]
        }
      ]
    },
    {
      "cell_type": "code",
      "source": [
        "# mymodule.py\n",
        "def greeting(name):\n",
        " print(\"Hello, \" + name)"
      ],
      "metadata": {
        "id": "M9v8Rq9OW1Dz"
      },
      "execution_count": null,
      "outputs": []
    },
    {
      "cell_type": "markdown",
      "source": [
        "# END"
      ],
      "metadata": {
        "id": "pYiST2fDy8QM"
      }
    }
  ]
}
