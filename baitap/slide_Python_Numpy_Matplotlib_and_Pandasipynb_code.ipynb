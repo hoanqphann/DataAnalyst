{
 "cells": [
  {
   "cell_type": "markdown",
   "metadata": {
    "id": "_xLjeDpFebZK"
   },
   "source": [
    "#Numpy"
   ]
  },
  {
   "cell_type": "markdown",
   "metadata": {
    "id": "yJQJWKJRWKEk"
   },
   "source": [
    "##Khởi tạo mảng và chỉ số"
   ]
  },
  {
   "cell_type": "markdown",
   "metadata": {
    "id": "t1PtMuFEeple"
   },
   "source": [
    "###Tạo mảng và truy cập"
   ]
  },
  {
   "cell_type": "code",
   "execution_count": null,
   "metadata": {
    "colab": {
     "base_uri": "https://localhost:8080/"
    },
    "executionInfo": {
     "elapsed": 60,
     "status": "ok",
     "timestamp": 1758090273002,
     "user": {
      "displayName": "quang hoàng",
      "userId": "14537424633428942085"
     },
     "user_tz": -420
    },
    "id": "nF0UWMyaVYlX",
    "outputId": "779f1299-cc31-4d4b-ee68-8a0284f6c54a"
   },
   "outputs": [
    {
     "name": "stdout",
     "output_type": "stream",
     "text": [
      "<class 'numpy.ndarray'>\n",
      "(3,)\n",
      "1 2 3\n",
      "[5 2 3]\n",
      "(2, 3)\n",
      "1 2 4\n",
      "[[1 0 0]\n",
      " [0 3 0]\n",
      " [0 0 4]]\n"
     ]
    }
   ],
   "source": [
    "import numpy as np\n",
    "\n",
    "a = np.array([1, 2, 3]) # tạo mảng 1 chiều\n",
    "print(type(a)) # in \"<class 'numpy.ndarray'>\"\n",
    "print(a.shape) # in \"(3,)\"\n",
    "print(a[0], a[1], a[2]) # in \"1 2 3\"\n",
    "a[0] = 5\n",
    "print(a) # in \"[5, 2, 3]\"\n",
    "b = np.array([[1, 2, 3],[4, 5, 6]]) # tạo mảng 2 chiều\n",
    "print(b.shape) # in \"(2, 3)\"\n",
    "print(b[0, 0], b[0, 1], b[1, 0]) # in \"1 2 4\"\n",
    "print(np.diag([1, 3, 4])) # in ra cái gì?"
   ]
  },
  {
   "cell_type": "code",
   "execution_count": null,
   "metadata": {
    "colab": {
     "base_uri": "https://localhost:8080/"
    },
    "executionInfo": {
     "elapsed": 8,
     "status": "ok",
     "timestamp": 1758091091534,
     "user": {
      "displayName": "quang hoàng",
      "userId": "14537424633428942085"
     },
     "user_tz": -420
    },
    "id": "1xIMoApYZGMJ",
    "outputId": "afef60eb-aabe-40f5-f4f9-a606d597531f"
   },
   "outputs": [
    {
     "name": "stdout",
     "output_type": "stream",
     "text": [
      "[5 6 7 8] (4,)\n",
      "[[5 6 7 8]] (1, 4)\n",
      "[77  6 10] (3,)\n",
      "[[77]\n",
      " [ 6]\n",
      " [10]] (3, 1)\n"
     ]
    }
   ],
   "source": [
    "row_r1 = a[1, :] # mảng 1 chiều độ dài 4\n",
    "row_r2 = a[1:2, :] # mảng 2 chiều 1x4\n",
    "print(row_r1, row_r1.shape) # in ra \"[5 6 7 8] (4,)\"\n",
    "print(row_r2, row_r2.shape) # in ra \"[[5 6 7 8]] (1, 4)\"\n",
    "col_r1 = a[:, 1] # mảng 1 chiều độ dài 3\n",
    "col_r2 = a[:, 1:2] # mảng 2 chiều 3x1\n",
    "print(col_r1, col_r1.shape) # in ra \"[ 2 6 10] (3,)\"\n",
    "print(col_r2, col_r2.shape) # in ra \"[[ 2]\n",
    "\n",
    "# [ 6]\n",
    "# [10]] (3, 1)\""
   ]
  },
  {
   "cell_type": "markdown",
   "metadata": {
    "id": "YOVv4MuabN8S"
   },
   "source": [
    "##Các phép toán trên mảng"
   ]
  },
  {
   "cell_type": "code",
   "execution_count": null,
   "metadata": {
    "colab": {
     "base_uri": "https://localhost:8080/"
    },
    "executionInfo": {
     "elapsed": 36,
     "status": "ok",
     "timestamp": 1758091979070,
     "user": {
      "displayName": "quang hoàng",
      "userId": "14537424633428942085"
     },
     "user_tz": -420
    },
    "id": "vOFFOg7vZRzC",
    "outputId": "ad7ae1b1-ddff-460b-b78b-6c5c90dade82"
   },
   "outputs": [
    {
     "name": "stdout",
     "output_type": "stream",
     "text": [
      "hang 1 cot 2: 6\n",
      "hàng 0 [1 2 3]\n",
      "hàng 1 [4 5 6]\n"
     ]
    }
   ],
   "source": [
    "import numpy as np\n",
    "mang2chieu= np.array([[1,2,3],[4,5,6],[7,8,9]])\n",
    "print('hang 1 cot 2:',mang2chieu[1,2])\n",
    "\n",
    "\n",
    "print('hàng 0', mang2chieu[0, :])\n",
    "\n",
    "print('hàng 1', mang2chieu[1, :])"
   ]
  },
  {
   "cell_type": "code",
   "execution_count": null,
   "metadata": {
    "colab": {
     "base_uri": "https://localhost:8080/"
    },
    "executionInfo": {
     "elapsed": 10,
     "status": "ok",
     "timestamp": 1758092353194,
     "user": {
      "displayName": "quang hoàng",
      "userId": "14537424633428942085"
     },
     "user_tz": -420
    },
    "id": "jMNSb_wveDvE",
    "outputId": "3017e6ea-d6a0-4dde-fb7c-abba3aad2f30"
   },
   "outputs": [
    {
     "name": "stdout",
     "output_type": "stream",
     "text": [
      "[[ 6.  8.]\n",
      " [10. 12.]]\n",
      "[[-4. -4.]\n",
      " [-4. -4.]]\n",
      "[[ 5. 12.]\n",
      " [21. 32.]]\n",
      "[[0.2        0.33333333]\n",
      " [0.42857143 0.5       ]]\n",
      "[[1.         1.41421356]\n",
      " [1.73205081 2.        ]]\n",
      "[[ 2.  4.]\n",
      " [ 8. 16.]]\n"
     ]
    }
   ],
   "source": [
    "import numpy as np\n",
    "\n",
    "x = np.array([[1, 2], [3, 4]], dtype=np.float64)\n",
    "y = np.array([[5, 6], [7, 8]], dtype=np.float64)\n",
    "print(x + y)\n",
    "print(x - y)\n",
    "print(x * y)\n",
    "print(x / y)\n",
    "print(np.sqrt(x))\n",
    "print(2**x)"
   ]
  },
  {
   "cell_type": "code",
   "execution_count": null,
   "metadata": {
    "colab": {
     "base_uri": "https://localhost:8080/"
    },
    "executionInfo": {
     "elapsed": 57,
     "status": "ok",
     "timestamp": 1758092720992,
     "user": {
      "displayName": "quang hoàng",
      "userId": "14537424633428942085"
     },
     "user_tz": -420
    },
    "id": "3AbyER1_eF0T",
    "outputId": "43a9e79c-2f75-4924-f112-5b565ffc49e6"
   },
   "outputs": [
    {
     "name": "stdout",
     "output_type": "stream",
     "text": [
      "219\n",
      "[29 67]\n",
      "[[19 22]\n",
      " [43 50]]\n",
      "[[-2.   1. ]\n",
      " [ 1.5 -0.5]]\n"
     ]
    }
   ],
   "source": [
    "#Nhân ma trận (dot) và nghịch đảo\n",
    "import numpy as np\n",
    "\n",
    "x = np.array([[1, 2],[3, 4]])\n",
    "y = np.array([[5, 6],[7, 8]])\n",
    "v = np.array([9, 10])\n",
    "w = np.array([11, 12])\n",
    "print(v.dot(w)) # tương tự print(np.dot(v, w))\n",
    "print(x.dot(v)) # tương tự print(np.dot(x, v))\n",
    "print(x.dot(y)) # tương tự print(np.dot(x, y))\n",
    "print(np.linalg.inv(x)) # tính và in nghịch đảo của x"
   ]
  },
  {
   "cell_type": "code",
   "execution_count": null,
   "metadata": {
    "id": "BHeeAOTrffm7"
   },
   "outputs": [],
   "source": [
    "#Ma trận chuyển vị\n",
    "import numpy as np\n",
    "x = np.array([[1, 2], [3, 4]])\n",
    "print(x) # in ra \"[[1 2]\n",
    "# [3 4]]\"\n",
    "print(x.T) # in ra \"[[1 3]\n",
    "# [2 4]]\"\n",
    "# chú ý: mảng 1 chiều không có chuyển vị\n",
    "y = np.array([1, 2, 3])\n",
    "print(y) # in ra \"[1 2 3]\"\n",
    "print(y.T) # in ra \"[1 2 3]\"\n",
    "z = np.array([[1, 2, 3]])\n",
    "print(z.T) # đoán xem in ra cái gì?"
   ]
  },
  {
   "cell_type": "markdown",
   "metadata": {
    "id": "CPx9qFs-f44W"
   },
   "source": [
    "##Một số thao tác thông dụng"
   ]
  },
  {
   "cell_type": "markdown",
   "metadata": {
    "id": "lCsxh-RsgCS6"
   },
   "source": [
    "###Đọc dữ liệu từ file"
   ]
  },
  {
   "cell_type": "code",
   "execution_count": null,
   "metadata": {
    "colab": {
     "base_uri": "https://localhost:8080/"
    },
    "executionInfo": {
     "elapsed": 17,
     "status": "ok",
     "timestamp": 1758092960757,
     "user": {
      "displayName": "quang hoàng",
      "userId": "14537424633428942085"
     },
     "user_tz": -420
    },
    "id": "w7uEYqhdgGTi",
    "outputId": "60f8b296-caba-44d9-9732-aa3b95398ea2"
   },
   "outputs": [
    {
     "name": "stdout",
     "output_type": "stream",
     "text": [
      "[(b'M', 21, 72.) (b'F', 35, 58.)]\n"
     ]
    }
   ],
   "source": [
    "from io import StringIO\n",
    "import numpy as np\n",
    "c = StringIO(\"0 1\\n2 3\")\n",
    "x = np.loadtxt(c) # array([[ 0., 1.],\n",
    "# [ 2., 3.]])\n",
    "d = StringIO(\"M 21 72\\nF 35 58\")\n",
    "y = np.loadtxt(d, dtype={'names': ('gender', 'age',\n",
    "'weight'),'formats': ('S1', 'i4', 'f4')})\n",
    "print(y) # [('M', 21, 72.0), ('F', 35, 58.0)]"
   ]
  },
  {
   "cell_type": "markdown",
   "metadata": {
    "id": "V65TIPP0gI6e"
   },
   "source": [
    "###Cơ chế broadcasting"
   ]
  },
  {
   "cell_type": "code",
   "execution_count": null,
   "metadata": {
    "colab": {
     "base_uri": "https://localhost:8080/"
    },
    "executionInfo": {
     "elapsed": 85,
     "status": "ok",
     "timestamp": 1758092923198,
     "user": {
      "displayName": "quang hoàng",
      "userId": "14537424633428942085"
     },
     "user_tz": -420
    },
    "id": "dzScRwRFgLiN",
    "outputId": "5614ea46-d89b-4b0b-ffe9-0a46d56609f1"
   },
   "outputs": [
    {
     "name": "stdout",
     "output_type": "stream",
     "text": [
      "[[ 2  2  4]\n",
      " [ 5  5  7]\n",
      " [ 8  8 10]\n",
      " [11 11 13]]\n"
     ]
    }
   ],
   "source": [
    "import numpy as np\n",
    "\n",
    "x = np.array([[1, 2, 3], [4, 5, 6], [7, 8, 9], [10, 11,\n",
    "12]])\n",
    "v = np.array([1, 0, 1])\n",
    "y = x + v\n",
    "print(y)"
   ]
  },
  {
   "cell_type": "markdown",
   "metadata": {
    "id": "Ltn2DGxwrCpc"
   },
   "source": [
    "### Tính tổng theo các trục"
   ]
  },
  {
   "cell_type": "code",
   "execution_count": null,
   "metadata": {
    "colab": {
     "base_uri": "https://localhost:8080/"
    },
    "executionInfo": {
     "elapsed": 34,
     "status": "ok",
     "timestamp": 1758112657993,
     "user": {
      "displayName": "quang hoàng",
      "userId": "14537424633428942085"
     },
     "user_tz": -420
    },
    "id": "BcoNXdC_gQ9q",
    "outputId": "fd8f45e5-94b8-4942-f0bd-ec09d98e2ca7"
   },
   "outputs": [
    {
     "name": "stdout",
     "output_type": "stream",
     "text": [
      "10\n",
      "[4 6]\n",
      "[3 7]\n"
     ]
    }
   ],
   "source": [
    "import numpy as np\n",
    "\n",
    "x = np.array([[1, 2], [3, 4]])\n",
    "\n",
    "print(np.sum(x)) # tính tổng toàn bộ x, in \"10“\n",
    "print(np.sum(x, axis=0)) # tính tổng mỗi cột, in \"[4 6]“\n",
    "print(np.sum(x, axis=1)) # tính tổng mỗi hàng, in \"[3 7]\""
   ]
  },
  {
   "cell_type": "markdown",
   "metadata": {
    "id": "Ddrs2Bd5rMLb"
   },
   "source": [
    "###Trích xuất dữ liệu theo dãy"
   ]
  },
  {
   "cell_type": "code",
   "execution_count": null,
   "metadata": {
    "colab": {
     "base_uri": "https://localhost:8080/"
    },
    "executionInfo": {
     "elapsed": 9,
     "status": "ok",
     "timestamp": 1758112660066,
     "user": {
      "displayName": "quang hoàng",
      "userId": "14537424633428942085"
     },
     "user_tz": -420
    },
    "id": "mqZlS7K9rPP0",
    "outputId": "497a3b84-4dc0-488c-b81e-58381844d1f6"
   },
   "outputs": [
    {
     "name": "stdout",
     "output_type": "stream",
     "text": [
      "[1 4 5]\n",
      "[1 4 5]\n",
      "[2 2]\n",
      "[2 2]\n"
     ]
    }
   ],
   "source": [
    "import numpy as np\n",
    "a = np.array([[1,2], [3, 4], [5, 6]])\n",
    "# Prints \"[1 4 5]\"\n",
    "print(a[[0, 1, 2], [0, 1, 0]])\n",
    "# Prints \"[1 4 5]\"\n",
    "print(np.array([a[0, 0], a[1, 1], a[2, 0]]))\n",
    "# Prints \"[2 2]\"\n",
    "print(a[[0, 0], [1, 1]])\n",
    "# Prints \"[2 2]\"\n",
    "print(np.array([a[0, 1], a[0, 1]]))"
   ]
  },
  {
   "cell_type": "markdown",
   "metadata": {
    "id": "qTYdr2HzrRIz"
   },
   "source": [
    "###Lọc phần tử theo chỉ số"
   ]
  },
  {
   "cell_type": "code",
   "execution_count": null,
   "metadata": {
    "id": "38jCyv35rUfr"
   },
   "outputs": [],
   "source": [
    "import numpy as np\n",
    "\n",
    "a = np.array([[1, 2, 3], [4, 5, 6], [7, 8, 9], [10, 11, 12]])\n",
    "b = np.array([0, 2, 0, 1]) # b là mảng các chỉ số\n",
    "print(a[np.arange(4), b]) # in ra \"[1 6 7 11]\"\n",
    "# cộng tất cả các phần tử được lọc thêm 10\n",
    "a[np.arange(4), b] += 10\n",
    "print(a) # in ra \"array([[11, 2, 3],\n",
    "\n",
    "# [ 4, 5, 16],\n",
    "# [17, 8, 9],\n",
    "# [10, 21, 12]])"
   ]
  },
  {
   "cell_type": "markdown",
   "metadata": {
    "id": "i_idRbI-rWrj"
   },
   "source": [
    "###Lọc dữ liệu theo điều kiện"
   ]
  },
  {
   "cell_type": "code",
   "execution_count": null,
   "metadata": {
    "id": "QE5KgYZ6rZJR"
   },
   "outputs": [],
   "source": [
    "import numpy as np\n",
    "\n",
    "a = np.array([[1, 2], [3, 4], [5, 6]])\n",
    "bool_idx = (a > 2)\n",
    "print(bool_idx) # in ra \"[[False False]\n",
    "# [ True True]\n",
    "# [ True True]]\"\n",
    "# lọc dữ liệu trong a, trả về một dãy\n",
    "print(a[bool_idx]) # Prints \"[3 4 5 6]\"\n",
    "# có thể viết trực tiếp điều kiện (ngắn gọn hơn)\n",
    "print(a[a > 2]) # Prints \"[3 4 5 6]\""
   ]
  },
  {
   "cell_type": "markdown",
   "metadata": {
    "id": "efoDfaGUrcuB"
   },
   "source": [
    "###Điều chỉnh cỡ ma trận"
   ]
  },
  {
   "cell_type": "code",
   "execution_count": null,
   "metadata": {
    "colab": {
     "base_uri": "https://localhost:8080/"
    },
    "executionInfo": {
     "elapsed": 15,
     "status": "ok",
     "timestamp": 1758112691561,
     "user": {
      "displayName": "quang hoàng",
      "userId": "14537424633428942085"
     },
     "user_tz": -420
    },
    "id": "X-YqktJ5re8b",
    "outputId": "c8f4406d-3d99-4911-c9e0-de25952d0a9c"
   },
   "outputs": [
    {
     "name": "stdout",
     "output_type": "stream",
     "text": [
      "(3, 2)\n",
      "[[1 3 4]\n",
      " [4 4 2]]\n",
      "[[1 3 4]\n",
      " [4 4 2]]\n"
     ]
    }
   ],
   "source": [
    "import numpy as np\n",
    "\n",
    "x = np.array([[1, 3], [4, 4], [4, 2]])\n",
    "print(x.shape)\n",
    "x = x.reshape(2, 3) # chỉnh thành 2x3\n",
    "print(x)\n",
    "x = np.array([[1, 3], [4, 4], [4, 2]])\n",
    "x = x.reshape(2, -1) # tự tính chiều còn lại\n",
    "print(x)"
   ]
  },
  {
   "cell_type": "markdown",
   "metadata": {
    "id": "MDhKZdcmr0zj"
   },
   "source": [
    "###Tính norm cấp 2 của vector"
   ]
  },
  {
   "cell_type": "code",
   "execution_count": null,
   "metadata": {
    "colab": {
     "base_uri": "https://localhost:8080/"
    },
    "executionInfo": {
     "elapsed": 20,
     "status": "ok",
     "timestamp": 1758112776454,
     "user": {
      "displayName": "quang hoàng",
      "userId": "14537424633428942085"
     },
     "user_tz": -420
    },
    "id": "u-4E20WArg4v",
    "outputId": "4c64b10a-e5a2-4dfd-85cc-672e389d6604"
   },
   "outputs": [
    {
     "data": {
      "text/plain": [
       "array([[ 5., 10.]])"
      ]
     },
     "execution_count": 6,
     "metadata": {},
     "output_type": "execute_result"
    }
   ],
   "source": [
    "# norm cấp 2 của vector là chiều dài của vector đó\n",
    "\n",
    "# |x| = |x| = sqrt(x_1^2 + x_2^2 + ... + x_n^2)\n",
    "\n",
    "x = np.array([[0, 3], [4, 3], [6, 8]])\n",
    "\n",
    "# tính norm mỗi dòng, kết quả: array([[3], [5], [10]])\n",
    "np.linalg.norm(x, axis = 1, keepdims = True)\n",
    "x = np.array([[0, 6], [4, 0], [3, 8]])\n",
    "\n",
    "# tính norm mỗi cột, kết quả: array([[5, 10]])\n",
    "np.linalg.norm(x, axis = 0, keepdims = True)"
   ]
  },
  {
   "cell_type": "markdown",
   "metadata": {
    "id": "DWTmZo5SsA4t"
   },
   "source": [
    "###Sinh mảng ngẫu nhiên"
   ]
  },
  {
   "cell_type": "code",
   "execution_count": null,
   "metadata": {
    "colab": {
     "base_uri": "https://localhost:8080/"
    },
    "executionInfo": {
     "elapsed": 8,
     "status": "ok",
     "timestamp": 1758112842869,
     "user": {
      "displayName": "quang hoàng",
      "userId": "14537424633428942085"
     },
     "user_tz": -420
    },
    "id": "ShAVRxkPsEJN",
    "outputId": "b3f0420c-ecda-4962-d815-9fcaa6d6127a"
   },
   "outputs": [
    {
     "data": {
      "text/plain": [
       "array([19, 15,  3,  7, 11,  8, 10,  6, 17, 16,  5, 14, 12,  2,  9,  0, 18,\n",
       "       13,  1,  4])"
      ]
     },
     "execution_count": 8,
     "metadata": {},
     "output_type": "execute_result"
    }
   ],
   "source": [
    "np.random.random((3, 2)) # mảng 3x2 ngẫu nhiên trong [0,1)\n",
    "np.random.randn() # một số sinh theo phân phối chuẩn\n",
    "np.random.randn(3) # mảng 3 số theo phân phối chuẩn\n",
    "np.random.randn(3, 4) # mảng 3x4 theo phân phối chuẩn\n",
    "# mảng 2x4 gồm các số nguyên trong [3,15)\n",
    "np.random.randint(3, 15, (2, 4))\n",
    "# sinh một dãy là hoán vị ngẫu nhiên của dãy (0, 1, 2, ..., 19)\n",
    "np.random.permutation(20)"
   ]
  },
  {
   "cell_type": "markdown",
   "metadata": {
    "id": "NvgaT21OsGha"
   },
   "source": [
    "###Các hàm thống kê"
   ]
  },
  {
   "cell_type": "code",
   "execution_count": null,
   "metadata": {
    "colab": {
     "base_uri": "https://localhost:8080/"
    },
    "executionInfo": {
     "elapsed": 10,
     "status": "ok",
     "timestamp": 1758112848299,
     "user": {
      "displayName": "quang hoàng",
      "userId": "14537424633428942085"
     },
     "user_tz": -420
    },
    "id": "9ATx4bcisO05",
    "outputId": "9509af20-75ec-4e1b-ee78-76e8ee306d65"
   },
   "outputs": [
    {
     "name": "stdout",
     "output_type": "stream",
     "text": [
      "0.2800294583393624\n",
      "1.3031599398801699\n",
      "[1.23226715 0.77824016 1.10103189 0.81720171]\n",
      "[2.04391649 0.7022609  0.78974551]\n"
     ]
    }
   ],
   "source": [
    "import numpy as np\n",
    "a = np.random.randn(3, 4)\n",
    "# tính trung bình của cả ma trận a\n",
    "print(np.mean(a))\n",
    "# tính trung vị của cột đầu tiên\n",
    "print(np.median(a[:,0]))\n",
    "# tính độ lệch chuẩn của từng dòng\n",
    "print(a.std(axis=0))\n",
    "# tính phương sai của từng cột\n",
    "print(a.var(axis=1))"
   ]
  },
  {
   "cell_type": "markdown",
   "metadata": {
    "id": "ZK3bWTeYswwk"
   },
   "source": [
    "#Matplotlib"
   ]
  },
  {
   "cell_type": "markdown",
   "metadata": {
    "id": "Vr7KKXTgtAyL"
   },
   "source": [
    "##Vẽ biểu đồ đơn giản\n"
   ]
  },
  {
   "cell_type": "markdown",
   "metadata": {
    "id": "LFYUcYRctFPG"
   },
   "source": [
    "###Ví dụ: vẽ biểu đồ y = x2\n"
   ]
  },
  {
   "cell_type": "code",
   "execution_count": null,
   "metadata": {
    "colab": {
     "base_uri": "https://localhost:8080/",
     "height": 430
    },
    "executionInfo": {
     "elapsed": 760,
     "status": "ok",
     "timestamp": 1758113082048,
     "user": {
      "displayName": "quang hoàng",
      "userId": "14537424633428942085"
     },
     "user_tz": -420
    },
    "id": "mRNp2YiDtCDI",
    "outputId": "2c680295-18d3-42a7-f9d1-ce8cbbc3d05f"
   },
   "outputs": [
    {
     "data": {
      "image/png": "[encoded data removed]",
      "text/plain": [
       "<Figure size 640x480 with 1 Axes>"
      ]
     },
     "metadata": {},
     "output_type": "display_data"
    }
   ],
   "source": [
    "import numpy as np # thư viện numpy\n",
    "import matplotlib.pyplot as plt # thư viện pyplot\n",
    "\n",
    "# chia đoạn từ -20 đến 20 thành 1000 đoạn\n",
    "x = np.linspace(-20, 20, 1000)\n",
    "# tính y\n",
    "y = x * x\n",
    "# vẽ biểu đồ tương quan giữa x và y\n",
    "plt.plot(x, y)\n",
    "# hiển thị biểu đồ\n",
    "plt.show()"
   ]
  },
  {
   "cell_type": "markdown",
   "metadata": {
    "id": "Swp2Pk9ZtUd3"
   },
   "source": [
    "###Ví dụ: Vẽ biểu đồ hình sin"
   ]
  },
  {
   "cell_type": "code",
   "execution_count": null,
   "metadata": {
    "colab": {
     "base_uri": "https://localhost:8080/",
     "height": 430
    },
    "executionInfo": {
     "elapsed": 1155,
     "status": "ok",
     "timestamp": 1758113147837,
     "user": {
      "displayName": "quang hoàng",
      "userId": "14537424633428942085"
     },
     "user_tz": -420
    },
    "id": "oBLZpOShtKYk",
    "outputId": "84670f84-d0d0-4482-c5b8-06528e646357"
   },
   "outputs": [
    {
     "data": {
      "image/png": "[encoded data removed]",
      "text/plain": [
       "<Figure size 640x480 with 1 Axes>"
      ]
     },
     "metadata": {},
     "output_type": "display_data"
    }
   ],
   "source": [
    "import numpy as np # thư viện numpy\n",
    "import matplotlib.pyplot as plt # thư viện pyplot\n",
    "\n",
    "# chia đoạn từ 0 đến 3π thành\n",
    "\n",
    "x = np.arange(0, 3 * np.pi, 0.1)\n",
    "# tính sin tương ứng với từng phần tử của x\n",
    "y = np.sin(x)\n",
    "# vẽ biểu đồ tương quan giữa x và y\n",
    "plt.plot(x, y)\n",
    "# hiển thị biểu đồ\n",
    "plt.show()"
   ]
  },
  {
   "cell_type": "markdown",
   "metadata": {
    "id": "Ik7tbldOteLP"
   },
   "source": [
    "###Ví dụ: Biểu đồ cả SIN và COS"
   ]
  },
  {
   "cell_type": "code",
   "execution_count": null,
   "metadata": {
    "colab": {
     "base_uri": "https://localhost:8080/",
     "height": 473
    },
    "executionInfo": {
     "elapsed": 467,
     "status": "ok",
     "timestamp": 1758113464555,
     "user": {
      "displayName": "quang hoàng",
      "userId": "14537424633428942085"
     },
     "user_tz": -420
    },
    "id": "zDsd1yuxtfAe",
    "outputId": "de25cc2b-9788-4fbf-8560-7ab91ed1294b"
   },
   "outputs": [
    {
     "data": {
      "image/png": "[encoded data removed]",
      "text/plain": [
       "<Figure size 640x480 with 1 Axes>"
      ]
     },
     "metadata": {},
     "output_type": "display_data"
    }
   ],
   "source": [
    "import numpy as np\n",
    "import matplotlib.pyplot as plt\n",
    "\n",
    "x = np.arange(0, 3 * np.pi, 0.1)\n",
    "y_sin = np.sin(x)\n",
    "y_cos = np.cos(x)\n",
    "plt.plot(x, y_sin)\n",
    "plt.plot(x, y_cos)\n",
    "plt.xlabel('Trục X')\n",
    "plt.ylabel('Trục Y')\n",
    "plt.title('Hàm SIN và COS trong khoảng 0 đến 3pi')\n",
    "plt.legend(['SIN(x)', 'COS(x)'])\n",
    "plt.show()"
   ]
  },
  {
   "cell_type": "markdown",
   "metadata": {
    "id": "DUwdbdvguvFI"
   },
   "source": [
    "##Một số loại biểu đồ thông dụng trong matplotlib"
   ]
  },
  {
   "cell_type": "markdown",
   "metadata": {
    "id": "c5itVlYLu7Qv"
   },
   "source": [
    "###Biểu đồ dạng đường (line plot)"
   ]
  },
  {
   "cell_type": "code",
   "execution_count": null,
   "metadata": {
    "colab": {
     "base_uri": "https://localhost:8080/",
     "height": 430
    },
    "executionInfo": {
     "elapsed": 146,
     "status": "ok",
     "timestamp": 1758118144342,
     "user": {
      "displayName": "quang hoàng",
      "userId": "14537424633428942085"
     },
     "user_tz": -420
    },
    "id": "FFBG92C1uzNW",
    "outputId": "b5a65c86-9dfb-4e18-dc24-6161b72f0b4a"
   },
   "outputs": [
    {
     "data": {
      "image/png": "[encoded data removed]",
      "text/plain": [
       "<Figure size 640x480 with 1 Axes>"
      ]
     },
     "metadata": {},
     "output_type": "display_data"
    }
   ],
   "source": [
    "import numpy as np\n",
    "import matplotlib.pyplot as plt\n",
    "# chia đoạn từ 0 đến 5 thành các bước 0.2\n",
    "\n",
    "t = np.arange(0., 5., 0.2)\n",
    "# Vẽ 3 đường:\n",
    "# - màu đỏ nét đứt: y = x\n",
    "# - màu xanh dương, đánh dấu ô vuông: y = x^2\n",
    "# - màu xanh lá, đánh dấu tam giác: y = x^3\n",
    "plt.plot(t, t, 'r--', t, t**2, 'bs',\n",
    "t, t**3, 'g^')\n",
    "plt.show()"
   ]
  },
  {
   "cell_type": "markdown",
   "metadata": {
    "id": "1yVuXuanAg7s"
   },
   "source": [
    "###Biểu đồ dạng cột (bar plot)"
   ]
  },
  {
   "cell_type": "markdown",
   "metadata": {
    "id": "zun-hHVmAm2k"
   },
   "source": [
    "####Biểu đồ dạng cột chiều đứng"
   ]
  },
  {
   "cell_type": "code",
   "execution_count": null,
   "metadata": {
    "colab": {
     "base_uri": "https://localhost:8080/",
     "height": 454
    },
    "executionInfo": {
     "elapsed": 300,
     "status": "ok",
     "timestamp": 1758118200112,
     "user": {
      "displayName": "quang hoàng",
      "userId": "14537424633428942085"
     },
     "user_tz": -420
    },
    "id": "PsRkWcfjAhum",
    "outputId": "a2d63769-45a4-4051-8907-a291308cc566"
   },
   "outputs": [
    {
     "data": {
      "image/png": "[encoded data removed]",
      "text/plain": [
       "<Figure size 640x480 with 1 Axes>"
      ]
     },
     "metadata": {},
     "output_type": "display_data"
    }
   ],
   "source": [
    "import matplotlib.pyplot as plt\n",
    "D = { 'Dược học': 3000,\n",
    "'KT-NH': 900,\n",
    "'QTKD': 2000,\n",
    "'CNTT': 1200,\n",
    "'CK-Oto': 1500,\n",
    "'NN': 500 }\n",
    "plt.bar(range(len(D)), D.values(),\n",
    "align='center')\n",
    "plt.xticks(range(len(D)),\n",
    "D.keys())\n",
    "plt.title('Các ngành tuyển sinh của Đại học Nguyễn Tất Thành')\n",
    "plt.show()"
   ]
  },
  {
   "cell_type": "markdown",
   "metadata": {
    "id": "23BrrsTHAxdY"
   },
   "source": [
    "####Biểu đồ dạng cột chiều ngang"
   ]
  },
  {
   "cell_type": "code",
   "execution_count": null,
   "metadata": {
    "colab": {
     "base_uri": "https://localhost:8080/",
     "height": 454
    },
    "executionInfo": {
     "elapsed": 157,
     "status": "ok",
     "timestamp": 1758118258080,
     "user": {
      "displayName": "quang hoàng",
      "userId": "14537424633428942085"
     },
     "user_tz": -420
    },
    "id": "Z6ujpkPQA4O3",
    "outputId": "a2e6f2a5-b7b7-4f24-8ba9-83332590caaa"
   },
   "outputs": [
    {
     "data": {
      "image/png": "[encoded data removed]",
      "text/plain": [
       "<Figure size 640x480 with 1 Axes>"
      ]
     },
     "metadata": {},
     "output_type": "display_data"
    }
   ],
   "source": [
    "import matplotlib.pyplot as plt\n",
    "D = { 'Dược học': 3000,\n",
    "'KT-NH': 900,\n",
    "'QTKD': 2000,\n",
    "'CNTT': 1200,\n",
    "'CK-Oto': 1500,\n",
    "'NN': 500 }\n",
    "plt.bar(range(len(D)),\n",
    "D.values(), align='center')\n",
    "plt.xticks(range(len(D)),\n",
    "D.keys())\n",
    "plt.title('Các ngành tuyển sinh của Đại học Nguyễn Tất Thành')\n",
    "plt.show()"
   ]
  },
  {
   "cell_type": "markdown",
   "metadata": {
    "id": "PPJ0bBfiA_G3"
   },
   "source": [
    "####ghép 2 biểu đồ"
   ]
  },
  {
   "cell_type": "code",
   "execution_count": null,
   "metadata": {
    "colab": {
     "base_uri": "https://localhost:8080/",
     "height": 474
    },
    "executionInfo": {
     "elapsed": 335,
     "status": "ok",
     "timestamp": 1758118331856,
     "user": {
      "displayName": "quang hoàng",
      "userId": "14537424633428942085"
     },
     "user_tz": -420
    },
    "id": "cAQ6EI0IA4sg",
    "outputId": "6e67b3f7-056c-47fc-b786-fcbe3165edb6"
   },
   "outputs": [
    {
     "data": {
      "image/png": "[encoded data removed]",
      "text/plain": [
       "<Figure size 640x480 with 1 Axes>"
      ]
     },
     "metadata": {},
     "output_type": "display_data"
    }
   ],
   "source": [
    "import matplotlib.pyplot as plt\n",
    "\n",
    "plt.bar([1,3,5,7,9],[5,2,7,8,2],\n",
    "label=\"One\")\n",
    "plt.bar([2,4,6,8,10],[8,6,2,5,6], label=\"Two\", color='g')\n",
    "plt.legend()\n",
    "plt.xlabel('bar number')\n",
    "plt.ylabel('bar height')\n",
    "plt.title('Ghép 2 biểu đồ')\n",
    "plt.show()"
   ]
  },
  {
   "cell_type": "markdown",
   "metadata": {
    "id": "i2JaiofHBSBr"
   },
   "source": [
    "###Biểu đồ bánh (pie chart)"
   ]
  },
  {
   "cell_type": "code",
   "execution_count": null,
   "metadata": {
    "colab": {
     "base_uri": "https://localhost:8080/",
     "height": 408
    },
    "executionInfo": {
     "elapsed": 254,
     "status": "ok",
     "timestamp": 1758118369758,
     "user": {
      "displayName": "quang hoàng",
      "userId": "14537424633428942085"
     },
     "user_tz": -420
    },
    "id": "9_HCStAEBU9I",
    "outputId": "f569fa7b-44bf-4645-fe4a-c8b39052bc9c"
   },
   "outputs": [
    {
     "data": {
      "image/png": "[encoded data removed]",
      "text/plain": [
       "<Figure size 640x480 with 1 Axes>"
      ]
     },
     "metadata": {},
     "output_type": "display_data"
    }
   ],
   "source": [
    "import matplotlib.pyplot as plt\n",
    "D = { 'Dược học': 3000,\n",
    "'KT-NH': 900,\n",
    "'QTKD': 2000,\n",
    "'CNTT': 1200,\n",
    "'CK-Oto': 1500,\n",
    "'NN': 500 }\n",
    "plt.pie(D.values(),\n",
    "labels=D.keys(), autopct='%1.1f%%')\n",
    "plt.axis('equal') # trục x = trục y\n",
    "plt.show()"
   ]
  },
  {
   "cell_type": "markdown",
   "metadata": {
    "id": "KbpvB97eBbRa"
   },
   "source": [
    "###Một số chức năng hữu ích"
   ]
  },
  {
   "cell_type": "markdown",
   "metadata": {
    "id": "hA_ycrfxBiVF"
   },
   "source": [
    "####Chia thành các biểu đồ con"
   ]
  },
  {
   "cell_type": "code",
   "execution_count": null,
   "metadata": {
    "colab": {
     "base_uri": "https://localhost:8080/",
     "height": 452
    },
    "executionInfo": {
     "elapsed": 868,
     "status": "ok",
     "timestamp": 1758118441642,
     "user": {
      "displayName": "quang hoàng",
      "userId": "14537424633428942085"
     },
     "user_tz": -420
    },
    "id": "b7bh_JrPBVch",
    "outputId": "4f21c32c-37ca-4fa3-db79-141b0ab19f9f"
   },
   "outputs": [
    {
     "data": {
      "image/png": "[encoded data removed]",
      "text/plain": [
       "<Figure size 640x480 with 2 Axes>"
      ]
     },
     "metadata": {},
     "output_type": "display_data"
    }
   ],
   "source": [
    "import numpy as np\n",
    "import matplotlib.pyplot as plt\n",
    "x = np.arange(0, 3 * np.pi, 0.1)\n",
    "y_sin = np.sin(x)\n",
    "y_cos = np.cos(x)\n",
    "plt.subplot(2, 1, 1) # biểu đồ 1\n",
    "plt.plot(x, y_sin)\n",
    "plt.title('SIN(x)')\n",
    "plt.subplot(2, 1, 2) # biểu đồ 2\n",
    "plt.plot(x, y_cos)\n",
    "plt.title('COS(x)')\n",
    "plt.show()"
   ]
  },
  {
   "cell_type": "code",
   "execution_count": null,
   "metadata": {
    "colab": {
     "base_uri": "https://localhost:8080/",
     "height": 447
    },
    "executionInfo": {
     "elapsed": 308,
     "status": "ok",
     "timestamp": 1758118471016,
     "user": {
      "displayName": "quang hoàng",
      "userId": "14537424633428942085"
     },
     "user_tz": -420
    },
    "id": "Rch6M4FZBm0K",
    "outputId": "469a9903-0c75-4c4d-dd3f-4a56b2a5645c"
   },
   "outputs": [
    {
     "data": {
      "text/plain": [
       "[<matplotlib.lines.Line2D at 0x7f9ac0dfdd00>]"
      ]
     },
     "execution_count": 27,
     "metadata": {},
     "output_type": "execute_result"
    },
    {
     "data": {
      "image/png": "[encoded data removed]",
      "text/plain": [
       "<Figure size 640x480 with 2 Axes>"
      ]
     },
     "metadata": {},
     "output_type": "display_data"
    }
   ],
   "source": [
    "import numpy as np\n",
    "import matplotlib.pyplot as plt\n",
    "\n",
    "x1 = np.linspace(0.0, 5.0)\n",
    "x2 = np.linspace(0.0, 2.0)\n",
    "y1 = np.cos(2 * np.pi * x1) * np.exp(-x1)\n",
    "y2 = np.cos(2 * np.pi * x2)\n",
    "plt.subplot(2, 1, 1)\n",
    "plt.plot(x1, y1, 'o-')\n",
    "plt.subplot(2, 1, 2)\n",
    "plt.plot(x2, y2,)"
   ]
  },
  {
   "cell_type": "markdown",
   "metadata": {
    "id": "4hoKXR4bB0-w"
   },
   "source": [
    "####Nạp ảnh (png_jpg)"
   ]
  },
  {
   "cell_type": "code",
   "execution_count": null,
   "metadata": {
    "colab": {
     "base_uri": "https://localhost:8080/",
     "height": 451
    },
    "executionInfo": {
     "elapsed": 846,
     "status": "ok",
     "timestamp": 1758118691973,
     "user": {
      "displayName": "quang hoàng",
      "userId": "14537424633428942085"
     },
     "user_tz": -420
    },
    "id": "dmunR0mQBpT2",
    "outputId": "6abd17ca-b7cf-457e-9da6-7f33959b95ab"
   },
   "outputs": [
    {
     "data": {
      "image/png": "[encoded data removed]",
      "text/plain": [
       "<Figure size 500x500 with 4 Axes>"
      ]
     },
     "metadata": {},
     "output_type": "display_data"
    }
   ],
   "source": [
    "import matplotlib.pyplot as plt\n",
    "import matplotlib.image as mpimg\n",
    "\n",
    "image = mpimg.imread(\"hoahong.jpg\")\n",
    "fig, axs = plt.subplots(2, 2, figsize=(5, 5))\n",
    "axs[0, 0].imshow(image)\n",
    "axs[1, 0].imshow(image)\n",
    "axs[0, 1].imshow(image)\n",
    "axs[1, 1].imshow(image)\n",
    "\n",
    "plt.show()"
   ]
  },
  {
   "cell_type": "markdown",
   "metadata": {
    "id": "MppIwTKACpHz"
   },
   "source": [
    "####Lưu biểu đồ ra file"
   ]
  },
  {
   "cell_type": "code",
   "execution_count": null,
   "metadata": {
    "colab": {
     "base_uri": "https://localhost:8080/",
     "height": 451
    },
    "executionInfo": {
     "elapsed": 2158,
     "status": "ok",
     "timestamp": 1758118794820,
     "user": {
      "displayName": "quang hoàng",
      "userId": "14537424633428942085"
     },
     "user_tz": -420
    },
    "id": "YpiWLLkpCqIf",
    "outputId": "b50a993a-d88c-42a9-e89e-2283e3f02d65"
   },
   "outputs": [
    {
     "data": {
      "image/png": "[encoded data removed]",
      "text/plain": [
       "<Figure size 500x500 with 4 Axes>"
      ]
     },
     "metadata": {},
     "output_type": "display_data"
    }
   ],
   "source": [
    "import matplotlib.pyplot as plt\n",
    "import matplotlib.image as mpimg\n",
    "\n",
    "image = mpimg.imread(\"hoahong.jpg\")\n",
    "fig, axs = plt.subplots(2, 2, figsize=(5, 5))\n",
    "axs[0, 0].imshow(image)\n",
    "axs[1, 0].imshow(image)\n",
    "axs[0, 1].imshow(image)\n",
    "axs[1, 1].imshow(image)\n",
    "\n",
    "plt.savefig('1.jpg')\n",
    "plt.savefig('1.pdf')"
   ]
  },
  {
   "cell_type": "code",
   "execution_count": null,
   "metadata": {
    "id": "USUPFeZrCuCM"
   },
   "outputs": [],
   "source": []
  },
  {
   "cell_type": "markdown",
   "metadata": {
    "id": "I9oTVMDvDOiU"
   },
   "source": [
    "#Panda"
   ]
  },
  {
   "cell_type": "markdown",
   "metadata": {
    "id": "8MGuvYKFDhm1"
   },
   "source": [
    "##Giới thiệu và cài đặt pandas"
   ]
  },
  {
   "cell_type": "code",
   "execution_count": null,
   "metadata": {
    "id": "pEMtFoKLDPvC"
   },
   "outputs": [],
   "source": [
    "# “pandas” là thư viện mở rộng từ numpy, chuyên để xử lý dữ\n",
    "# liệu cấu trúc dạng bảng\n",
    "# Tên “pandas” là dạng số nhiều của “panel data”\n",
    "##Đặc điểm nổi bật của pandas\n",
    "# - Đọc dữ liệu từ nhiều định dạng\n",
    "# - Liên kết dữ liệu và tích hợp xử lý dữ liệu bị thiếu\n",
    "# - Xoay và chuyển đổi chiều của dữ liệu dễ dàng\n",
    "# - Tách, đánh chỉ mục và chia nhỏ các tập dữ liệu lớn dựa trên\n",
    "# nhãn\n",
    "# - Có thể nhóm dữ liệu cho các mục đích hợp nhất và chuyển\n",
    "# đổi\n",
    "# dữ liệu và thực hiện query trên dữ liệu\n",
    "# - Xử lý dữ liệu chuỗi thời gian và lấy mẫu"
   ]
  },
  {
   "cell_type": "markdown",
   "metadata": {
    "id": "XehFzsJuEYDm"
   },
   "source": [
    "##Cấu trúc dữ liệu trong pandas"
   ]
  },
  {
   "cell_type": "code",
   "execution_count": null,
   "metadata": {
    "id": "9B-HggraEdSy"
   },
   "outputs": [],
   "source": [
    "# ▪ Dữ liệu của pandas có 3 cấu trúc chính:\n",
    "# ✓ Series (loạt): cấu trúc 1 chiều, mảng dữ liệu đồng nhất\n",
    "# ✓ Dataframe (khung): cấu trúc 2 chiều, dữ liệu trên các cột\n",
    "# là đồng nhất (có phần giống như table trong SQL, nhưng\n",
    "# với các dòng được đặt tên)\n",
    "# ✓ Panel (bảng): cấu trúc 3 chiều, có thể xem như một tập\n",
    "# các dataframe với thông tin bổ sung\n",
    "\n",
    "# ▪ Dữ liệu series gần giống kiểu array trong numpy,\n",
    "# nhưng có 2 điểm khác biệt quan trọng:\n",
    "# ✓ Chấp nhận dữ liệu thiếu (NaN – không xác định)\n",
    "# ✓ Hệ thống chỉ mục phong phú (giống dictionary?)"
   ]
  },
  {
   "cell_type": "markdown",
   "metadata": {
    "id": "Ix_g3V8GEmO3"
   },
   "source": [
    "##Làm việc với series"
   ]
  },
  {
   "cell_type": "markdown",
   "metadata": {
    "id": "6pwWdzqOEqXI"
   },
   "source": [
    "###Tạo dữ liệu series (1)"
   ]
  },
  {
   "cell_type": "code",
   "execution_count": null,
   "metadata": {
    "colab": {
     "base_uri": "https://localhost:8080/"
    },
    "executionInfo": {
     "elapsed": 601,
     "status": "ok",
     "timestamp": 1758119254796,
     "user": {
      "displayName": "quang hoàng",
      "userId": "14537424633428942085"
     },
     "user_tz": -420
    },
    "id": "AGfT09xkEnL3",
    "outputId": "15b9c343-6179-40d5-8eba-183fbc8b3c6c"
   },
   "outputs": [
    {
     "name": "stdout",
     "output_type": "stream",
     "text": [
      "0    57\n",
      "1    10\n",
      "2    98\n",
      "3    24\n",
      "dtype: int64\n",
      "RangeIndex(start=0, stop=4, step=1)\n",
      "[57 10 98 24]\n"
     ]
    }
   ],
   "source": [
    "import pandas as pd\n",
    "import numpy as np\n",
    "\n",
    "S = pd.Series(np.random.randint(100, size = 4))\n",
    "print(S)\n",
    "print(S.index)\n",
    "print(S.values)"
   ]
  },
  {
   "cell_type": "markdown",
   "metadata": {
    "id": "1tM-jqS4EwKc"
   },
   "source": [
    "###Tạo dữ liệu series (2)"
   ]
  },
  {
   "cell_type": "code",
   "execution_count": null,
   "metadata": {
    "colab": {
     "base_uri": "https://localhost:8080/"
    },
    "executionInfo": {
     "elapsed": 142,
     "status": "ok",
     "timestamp": 1758119278640,
     "user": {
      "displayName": "quang hoàng",
      "userId": "14537424633428942085"
     },
     "user_tz": -420
    },
    "id": "gt59X0VjEta5",
    "outputId": "bc4852ef-ab7a-4ef9-f64e-3ca40408c692"
   },
   "outputs": [
    {
     "name": "stdout",
     "output_type": "stream",
     "text": [
      "Ke toan    310\n",
      "KT         360\n",
      "CNTT       580\n",
      "Co khi     340\n",
      "dtype: int64\n",
      "Index(['Ke toan', 'KT', 'CNTT', 'Co khi'], dtype='object')\n",
      "[310 360 580 340]\n"
     ]
    }
   ],
   "source": [
    "import pandas as pd\n",
    "import numpy as np\n",
    "\n",
    "chi_so = [\"Ke toan\", \"KT\", \"CNTT\", \"Co khi\"]\n",
    "gia_tri = [310, 360, 580, 340]\n",
    "S = pd.Series(gia_tri, index=chi_so)\n",
    "print(S)\n",
    "print(S.index)\n",
    "print(S.values)"
   ]
  },
  {
   "cell_type": "markdown",
   "metadata": {
    "id": "yy7Vvq7kE1uF"
   },
   "source": [
    "###Tạo dữ liệu series (3)"
   ]
  },
  {
   "cell_type": "code",
   "execution_count": null,
   "metadata": {
    "colab": {
     "base_uri": "https://localhost:8080/"
    },
    "executionInfo": {
     "elapsed": 17,
     "status": "ok",
     "timestamp": 1758119340649,
     "user": {
      "displayName": "quang hoàng",
      "userId": "14537424633428942085"
     },
     "user_tz": -420
    },
    "id": "m0WkBCaDEzT3",
    "outputId": "8535822f-864c-4dfd-af11-c017241490b9"
   },
   "outputs": [
    {
     "name": "stdout",
     "output_type": "stream",
     "text": [
      "KT        310\n",
      "KT        360\n",
      "CNTT      580\n",
      "Co khi    340\n",
      "dtype: int64\n",
      "Index(['KT', 'KT', 'CNTT', 'Co khi'], dtype='object')\n",
      "[310 360 580 340]\n"
     ]
    }
   ],
   "source": [
    "import pandas as pd\n",
    "import numpy as np\n",
    "\n",
    "chi_so = [\"KT\", \"KT\", \"CNTT\", \"Co khi\"] # trùng nhau\n",
    "gia_tri = [310, 360, 580, 340]\n",
    "S = pd.Series(gia_tri, index=chi_so)\n",
    "print(S)\n",
    "print(S.index)\n",
    "print(S.values)"
   ]
  },
  {
   "cell_type": "markdown",
   "metadata": {
    "id": "rDkS-3ZnE62H"
   },
   "source": [
    "###Truy vấn dữ liệu thông qua chỉ số"
   ]
  },
  {
   "cell_type": "code",
   "execution_count": null,
   "metadata": {
    "colab": {
     "base_uri": "https://localhost:8080/"
    },
    "executionInfo": {
     "elapsed": 99,
     "status": "ok",
     "timestamp": 1758119363749,
     "user": {
      "displayName": "quang hoàng",
      "userId": "14537424633428942085"
     },
     "user_tz": -420
    },
    "id": "ll5_RS9bFHh1",
    "outputId": "ea0d5910-3c2a-4ee2-8717-9fe3b67d3295"
   },
   "outputs": [
    {
     "name": "stdout",
     "output_type": "stream",
     "text": [
      "340\n",
      "KT    310\n",
      "KT    360\n",
      "dtype: int64\n",
      "580\n"
     ]
    }
   ],
   "source": [
    "import pandas as pd\n",
    "import numpy as np\n",
    "\n",
    "chi_so = [\"KT\", \"KT\", \"CNTT\", \"Co khi\"] # trùng nhau\n",
    "gia_tri = [310, 360, 580, 340]\n",
    "S = pd.Series(gia_tri, index=chi_so)\n",
    "print(S['Co khi'])\n",
    "print(S['KT'])\n",
    "print(S.CNTT)"
   ]
  },
  {
   "cell_type": "markdown",
   "metadata": {
    "id": "k3OuREG5FYIN"
   },
   "source": [
    "###Phép toán trên series"
   ]
  },
  {
   "cell_type": "code",
   "execution_count": null,
   "metadata": {
    "colab": {
     "base_uri": "https://localhost:8080/"
    },
    "executionInfo": {
     "elapsed": 13,
     "status": "ok",
     "timestamp": 1758119508152,
     "user": {
      "displayName": "quang hoàng",
      "userId": "14537424633428942085"
     },
     "user_tz": -420
    },
    "id": "OkFAG6VYFbAL",
    "outputId": "de9835d1-a610-4064-92ae-df0d865147a8"
   },
   "outputs": [
    {
     "name": "stdout",
     "output_type": "stream",
     "text": [
      "CNTT       680.0\n",
      "Co khi       NaN\n",
      "KT           NaN\n",
      "Ke toan      NaN\n",
      "PM           NaN\n",
      "dtype: float64\n"
     ]
    }
   ],
   "source": [
    "import pandas as pd\n",
    "import numpy as np\n",
    "\n",
    "chi_so = [\"Ke toan\", \"KT\", \"CNTT\", \"Co khi\"] # chỉ số giống nhau thì tính gộp, nếu không thì NaN\n",
    "gia_tri = [310, 360, 580, 340]\n",
    "S = pd.Series(gia_tri, index=chi_so)\n",
    "P = pd.Series([100, 100], ['CNTT','PM'])\n",
    "Y = S + P\n",
    "print(Y)"
   ]
  },
  {
   "cell_type": "markdown",
   "metadata": {
    "id": "JnmZ8kLoFsbc"
   },
   "source": [
    "###Một số phương thức hữu ích"
   ]
  },
  {
   "cell_type": "markdown",
   "metadata": {
    "id": "R4TaWXleFyHh"
   },
   "source": [
    "▪ S.axes: trả về danh sách các chỉ mục của S\n",
    "\n",
    "▪ S.dtype: trả về kiểu dữ liệu các phần tử của S\n",
    "\n",
    "▪ S.empty: trả về True nếu S rỗng\n",
    "\n",
    "▪ S.ndim: trả về số chiều của S (1)\n",
    "\n",
    "▪ S.size: trả về số phần tử của S\n",
    "\n",
    "▪ S.values: trả về list các phần tử của S\n",
    "\n",
    "▪ S.head(n): trả về n phần tử đầu tiên của S\n",
    "\n",
    "▪ S.tail(n): trả về n phần tử cuối cùng của S"
   ]
  },
  {
   "cell_type": "markdown",
   "metadata": {
    "id": "3KFLr4QbF-J9"
   },
   "source": [
    "###apply() một hàm khác trên series"
   ]
  },
  {
   "cell_type": "code",
   "execution_count": null,
   "metadata": {
    "colab": {
     "base_uri": "https://localhost:8080/"
    },
    "executionInfo": {
     "elapsed": 14,
     "status": "ok",
     "timestamp": 1758119616176,
     "user": {
      "displayName": "quang hoàng",
      "userId": "14537424633428942085"
     },
     "user_tz": -420
    },
    "id": "EMm6K7wGFvkD",
    "outputId": "7395f0d1-ea53-4618-d781-f30281b78bff"
   },
   "outputs": [
    {
     "name": "stdout",
     "output_type": "stream",
     "text": [
      "Ke toan    1310\n",
      "KT         1360\n",
      "CNTT        580\n",
      "Co khi     1340\n",
      "dtype: int64\n"
     ]
    }
   ],
   "source": [
    "import pandas as pd\n",
    "import numpy as np\n",
    "\n",
    "def Tang(x):\n",
    " return x if x > 500 else x + 1000\n",
    "\n",
    "chi_so = [\"Ke toan\", \"KT\", \"CNTT\", \"Co khi\"]\n",
    "gia_tri = [310, 360, 580, 340]\n",
    "S = pd.Series(gia_tri, chi_so)\n",
    "# áp dụng Tang trên S (không thay đổi S)\n",
    "print(S.apply(Tang))"
   ]
  },
  {
   "cell_type": "markdown",
   "metadata": {
    "id": "kZ_WtZOXGKDJ"
   },
   "source": [
    "##Làm việc với dataframe"
   ]
  },
  {
   "cell_type": "markdown",
   "metadata": {
    "id": "YavxKQ89GPTg"
   },
   "source": [
    "###Tạo dataframe từ list"
   ]
  },
  {
   "cell_type": "code",
   "execution_count": null,
   "metadata": {
    "colab": {
     "base_uri": "https://localhost:8080/"
    },
    "executionInfo": {
     "elapsed": 15,
     "status": "ok",
     "timestamp": 1758119667375,
     "user": {
      "displayName": "quang hoàng",
      "userId": "14537424633428942085"
     },
     "user_tz": -420
    },
    "id": "nNM8wklVGLbd",
    "outputId": "884e5253-3d48-4efb-b421-122939392ec8"
   },
   "outputs": [
    {
     "name": "stdout",
     "output_type": "stream",
     "text": [
      "   Year  Population    Total  Violent\n",
      "0  1960   179323175  3384200   288460\n",
      "1  1961   182992000  3488000   289390\n",
      "2  1962   185771000  3752200   301510\n",
      "3  1963   188483000  4109500   316970\n",
      "4  1964   191141000  4564600   364220\n"
     ]
    }
   ],
   "source": [
    "crimes_rates = {\n",
    "\"Year\":[1960,1961,1962,1963,1964],\n",
    "\"Population\":[179323175,182992000,185771000,188483000,\n",
    "191141000],\n",
    "\"Total\":[3384200,3488000,3752200,4109500,4564600],\n",
    "\"Violent\":[288460,289390,301510,316970,364220]\n",
    "}\n",
    "crimes_dataframe = pd.DataFrame(crimes_rates)\n",
    "print(crimes_dataframe)"
   ]
  },
  {
   "cell_type": "markdown",
   "metadata": {
    "id": "D-F89NljGUjg"
   },
   "source": [
    "###Tạo dataframe từ list các dictionary"
   ]
  },
  {
   "cell_type": "code",
   "execution_count": null,
   "metadata": {
    "colab": {
     "base_uri": "https://localhost:8080/"
    },
    "executionInfo": {
     "elapsed": 10,
     "status": "ok",
     "timestamp": 1758119699457,
     "user": {
      "displayName": "quang hoàng",
      "userId": "14537424633428942085"
     },
     "user_tz": -420
    },
    "id": "u1gDBv9iGSR_",
    "outputId": "67c212a7-84ee-4d42-f11a-55c8bf9e409c"
   },
   "outputs": [
    {
     "name": "stdout",
     "output_type": "stream",
     "text": [
      "                MIT  Stanford   DHTL\n",
      "NumOfStudents  5000      4500  15000\n",
      "ranking           1         2    200\n",
      "int64\n"
     ]
    }
   ],
   "source": [
    "data = [\n",
    "{'MIT': 5000, 'Stanford': 4500, \"DHTL\":15000},\n",
    "{'MIT': 1, 'Stanford': 2, \"DHTL\":200}\n",
    "]\n",
    "df = pd.DataFrame(data, index=['NumOfStudents', \"ranking\"])\n",
    "print(df)\n",
    "print(df.DHTL.dtype)"
   ]
  },
  {
   "cell_type": "markdown",
   "metadata": {
    "id": "83aQCSbEGZXL"
   },
   "source": [
    "###Tạo dataframe từ dictionary serias"
   ]
  },
  {
   "cell_type": "code",
   "execution_count": null,
   "metadata": {
    "colab": {
     "base_uri": "https://localhost:8080/"
    },
    "executionInfo": {
     "elapsed": 75,
     "status": "ok",
     "timestamp": 1758119723950,
     "user": {
      "displayName": "quang hoàng",
      "userId": "14537424633428942085"
     },
     "user_tz": -420
    },
    "id": "VG4E2I8jGc-6",
    "outputId": "60866103-2546-4a79-9ffd-a735527b6c3a"
   },
   "outputs": [
    {
     "name": "stdout",
     "output_type": "stream",
     "text": [
      "    one   two\n",
      "1   1.0  1000\n",
      "2  23.0  2400\n",
      "3  45.0  1132\n",
      "4   NaN  3434\n"
     ]
    }
   ],
   "source": [
    "data = {\n",
    "\"one\": pd.Series([1,23,45], index = [1,2,3]),\n",
    "\"two\": pd.Series([1000,2400,1132,3434], index =\n",
    "[1,2,3,4])\n",
    "}\n",
    "df = pd.DataFrame(data)\n",
    "print(df)"
   ]
  },
  {
   "cell_type": "markdown",
   "metadata": {
    "id": "O0oeph3SGjyB"
   },
   "source": [
    "###Đọc dữ liệu từ file .csv"
   ]
  },
  {
   "cell_type": "code",
   "execution_count": null,
   "metadata": {
    "colab": {
     "base_uri": "https://localhost:8080/"
    },
    "executionInfo": {
     "elapsed": 15,
     "status": "ok",
     "timestamp": 1758120399671,
     "user": {
      "displayName": "quang hoàng",
      "userId": "14537424633428942085"
     },
     "user_tz": -420
    },
    "id": "98b0fb8e",
    "outputId": "7a6658ff-7a87-41fa-9019-772ab9e1ba53"
   },
   "outputs": [
    {
     "name": "stdout",
     "output_type": "stream",
     "text": [
      "Overwriting brics.csv\n"
     ]
    }
   ],
   "source": [
    "%%writefile brics.csv\n",
    "country,population,area,capital\n",
    "BR,Brazil,200,8515767,Brasilia\n",
    "RU,Russia,144,17098242,Moscow\n",
    "IN,India,1252,3287590,New Delhi\n",
    "CH,China,1357,9596961,Beijing\n",
    "SA,South Africa,55,1221037,Pretoria"
   ]
  },
  {
   "cell_type": "code",
   "execution_count": null,
   "metadata": {
    "colab": {
     "base_uri": "https://localhost:8080/"
    },
    "executionInfo": {
     "elapsed": 11,
     "status": "ok",
     "timestamp": 1758120402188,
     "user": {
      "displayName": "quang hoàng",
      "userId": "14537424633428942085"
     },
     "user_tz": -420
    },
    "id": "kW8PRCTnGoBz",
    "outputId": "d5ce4c34-51c1-4d9a-a402-66ce5612cf87"
   },
   "outputs": [
    {
     "name": "stdout",
     "output_type": "stream",
     "text": [
      "         country  population      area    capital\n",
      "BR        Brazil         200   8515767   Brasilia\n",
      "RU        Russia         144  17098242     Moscow\n",
      "IN         India        1252   3287590  New Delhi\n",
      "CH         China        1357   9596961    Beijing\n",
      "SA  South Africa          55   1221037   Pretoria\n"
     ]
    }
   ],
   "source": [
    "import pandas as pd\n",
    "\n",
    "d = pd.read_csv(\"brics.csv\")\n",
    "print(d)"
   ]
  },
  {
   "cell_type": "code",
   "execution_count": null,
   "metadata": {
    "colab": {
     "base_uri": "https://localhost:8080/"
    },
    "executionInfo": {
     "elapsed": 13,
     "status": "ok",
     "timestamp": 1758120404433,
     "user": {
      "displayName": "quang hoàng",
      "userId": "14537424633428942085"
     },
     "user_tz": -420
    },
    "id": "eapJlelaG_AK",
    "outputId": "53cc24e9-d54f-4b06-d059-5fb927659390"
   },
   "outputs": [
    {
     "name": "stdout",
     "output_type": "stream",
     "text": [
      "         country  population      area    capital\n",
      "BR        Brazil         200   8515767   Brasilia\n",
      "RU        Russia         144  17098242     Moscow\n",
      "IN         India        1252   3287590  New Delhi\n",
      "CH         China        1357   9596961    Beijing\n",
      "SA  South Africa          55   1221037   Pretoria\n"
     ]
    }
   ],
   "source": [
    "import pandas as pd\n",
    "\n",
    "# đọc dữ liệu và quy định cột 0 dùng làm chỉ số dòng\n",
    "d = pd.read_csv(\"brics.csv\", index_col = 0)\n",
    "print(d)"
   ]
  },
  {
   "cell_type": "markdown",
   "metadata": {
    "id": "rlEDlKXXHV8j"
   },
   "source": [
    "###Truy cập theo từng cột"
   ]
  },
  {
   "cell_type": "code",
   "execution_count": null,
   "metadata": {
    "colab": {
     "base_uri": "https://localhost:8080/"
    },
    "executionInfo": {
     "elapsed": 12,
     "status": "ok",
     "timestamp": 1758120408097,
     "user": {
      "displayName": "quang hoàng",
      "userId": "14537424633428942085"
     },
     "user_tz": -420
    },
    "id": "e82c28be",
    "outputId": "80dff2e7-525e-4442-ba94-b1d3da12ff1e"
   },
   "outputs": [
    {
     "name": "stdout",
     "output_type": "stream",
     "text": [
      "BR          Brazil\n",
      "RU          Russia\n",
      "IN           India\n",
      "CH           China\n",
      "SA    South Africa\n",
      "Name: country, dtype: object\n"
     ]
    }
   ],
   "source": [
    "print(d['country'])"
   ]
  },
  {
   "cell_type": "markdown",
   "metadata": {
    "id": "anVX2AkfH9kA"
   },
   "source": [
    "###Thêm một cột (1)"
   ]
  },
  {
   "cell_type": "code",
   "execution_count": null,
   "metadata": {
    "colab": {
     "base_uri": "https://localhost:8080/"
    },
    "executionInfo": {
     "elapsed": 24,
     "status": "ok",
     "timestamp": 1758120410816,
     "user": {
      "displayName": "quang hoàng",
      "userId": "14537424633428942085"
     },
     "user_tz": -420
    },
    "id": "b8e5f395",
    "outputId": "d9edbf92-55ae-45a2-b749-2500473f2902"
   },
   "outputs": [
    {
     "name": "stdout",
     "output_type": "stream",
     "text": [
      "         country  population      area    capital  on_earth\n",
      "BR        Brazil         200   8515767   Brasilia      True\n",
      "RU        Russia         144  17098242     Moscow      True\n",
      "IN         India        1252   3287590  New Delhi      True\n",
      "CH         China        1357   9596961    Beijing      True\n",
      "SA  South Africa          55   1221037   Pretoria      True\n"
     ]
    }
   ],
   "source": [
    "d['on_earth'] = True\n",
    "print(d)"
   ]
  },
  {
   "cell_type": "markdown",
   "metadata": {
    "id": "sSh79F5UIXfU"
   },
   "source": [
    "###Thêm một cột (2)"
   ]
  },
  {
   "cell_type": "code",
   "execution_count": null,
   "metadata": {
    "colab": {
     "base_uri": "https://localhost:8080/"
    },
    "executionInfo": {
     "elapsed": 18,
     "status": "ok",
     "timestamp": 1758120414762,
     "user": {
      "displayName": "quang hoàng",
      "userId": "14537424633428942085"
     },
     "user_tz": -420
    },
    "id": "08MIDp6fIRv4",
    "outputId": "4ad7da1b-face-4bb1-8b2b-0fb14d428627"
   },
   "outputs": [
    {
     "name": "stdout",
     "output_type": "stream",
     "text": [
      "         country  population      area    capital  on_earth     density\n",
      "BR        Brazil         200   8515767   Brasilia      True   23.485847\n",
      "RU        Russia         144  17098242     Moscow      True    8.421918\n",
      "IN         India        1252   3287590  New Delhi      True  380.826076\n",
      "CH         China        1357   9596961    Beijing      True  141.398928\n",
      "SA  South Africa          55   1221037   Pretoria      True   45.043680\n"
     ]
    }
   ],
   "source": [
    "d[\"density\"] = d[\"population\"] / d[\"area\"] * 1000000\n",
    "print(d)"
   ]
  },
  {
   "cell_type": "markdown",
   "metadata": {
    "id": "nDs1r_OJIpgh"
   },
   "source": [
    "###Tính tổng và tổng tích lũy"
   ]
  },
  {
   "cell_type": "code",
   "execution_count": null,
   "metadata": {
    "colab": {
     "base_uri": "https://localhost:8080/"
    },
    "executionInfo": {
     "elapsed": 16,
     "status": "ok",
     "timestamp": 1758120417923,
     "user": {
      "displayName": "quang hoàng",
      "userId": "14537424633428942085"
     },
     "user_tz": -420
    },
    "id": "SPkeERBfIqUC",
    "outputId": "d8c4cb7e-ecaa-4421-a2c6-8085c941ae27"
   },
   "outputs": [
    {
     "name": "stdout",
     "output_type": "stream",
     "text": [
      "3008\n",
      "BR     200\n",
      "RU     344\n",
      "IN    1596\n",
      "CH    2953\n",
      "SA    3008\n",
      "Name: population, dtype: int64\n"
     ]
    }
   ],
   "source": [
    "# tính tổng của cột population, trả về tổng\n",
    "print(d.population.sum())\n",
    "# tính tổng của cột population, trả về các tổng trong quá trình cộng\n",
    "print(d.population.cumsum())"
   ]
  },
  {
   "cell_type": "markdown",
   "metadata": {
    "id": "daFHJlCyI_Dn"
   },
   "source": []
  },
  {
   "cell_type": "markdown",
   "metadata": {
    "id": "g2xoAsu9IfWZ"
   },
   "source": [
    "###Xóa dòng hoặc cột bằng drop"
   ]
  },
  {
   "cell_type": "code",
   "execution_count": null,
   "metadata": {
    "colab": {
     "base_uri": "https://localhost:8080/"
    },
    "executionInfo": {
     "elapsed": 223,
     "status": "ok",
     "timestamp": 1758120258137,
     "user": {
      "displayName": "quang hoàng",
      "userId": "14537424633428942085"
     },
     "user_tz": -420
    },
    "id": "Ucl6nw_jIgGo",
    "outputId": "4bca89f9-4132-43ea-d8b9-cbb87729ebfd"
   },
   "outputs": [
    {
     "name": "stdout",
     "output_type": "stream",
     "text": [
      "         country    capital  on_earth     density\n",
      "BR        Brazil   Brasilia      True   23.485847\n",
      "RU        Russia     Moscow      True    8.421918\n",
      "IN         India  New Delhi      True  380.826076\n",
      "CH         China    Beijing      True  141.398928\n",
      "SA  South Africa   Pretoria      True   45.043680\n",
      "         country    capital  on_earth     density\n",
      "BR        Brazil   Brasilia      True   23.485847\n",
      "RU        Russia     Moscow      True    8.421918\n",
      "IN         India  New Delhi      True  380.826076\n",
      "CH         China    Beijing      True  141.398928\n",
      "SA  South Africa   Pretoria      True   45.043680\n"
     ]
    }
   ],
   "source": [
    "# tạo ra dataframe mới bằng cách xóa 2 cột\n",
    "print(d.drop([\"area\", \"population\"], axis=1))\n",
    "# trường hợp muốn xóa trên d, thêm tham số inplace=True\n",
    "d.drop([\"area\", \"population\"], axis=1, inplace=True)\n",
    "print(d)"
   ]
  },
  {
   "cell_type": "markdown",
   "metadata": {
    "id": "g-qQMSObJS1s"
   },
   "source": [
    "###Kết hợp giữa pandas và matplotlib"
   ]
  },
  {
   "cell_type": "code",
   "execution_count": null,
   "metadata": {
    "colab": {
     "base_uri": "https://localhost:8080/",
     "height": 451
    },
    "executionInfo": {
     "elapsed": 116,
     "status": "ok",
     "timestamp": 1758120466922,
     "user": {
      "displayName": "quang hoàng",
      "userId": "14537424633428942085"
     },
     "user_tz": -420
    },
    "id": "L8feVmenJTru",
    "outputId": "e287118e-33a8-494f-99c0-59a208c2e8c4"
   },
   "outputs": [
    {
     "data": {
      "image/png": "[encoded data removed]",
      "text/plain": [
       "<Figure size 640x480 with 1 Axes>"
      ]
     },
     "metadata": {},
     "output_type": "display_data"
    }
   ],
   "source": [
    "import pandas as pd\n",
    "import matplotlib.pyplot as plt\n",
    "d = pd.read_csv(\"brics.csv\", index_col = 0)\n",
    "d.area.plot(kind='bar')\n",
    "plt.show()"
   ]
  },
  {
   "cell_type": "markdown",
   "metadata": {
    "id": "4iftAsWbJlgV"
   },
   "source": [
    "##Làm việc với panel"
   ]
  },
  {
   "cell_type": "markdown",
   "metadata": {
    "id": "iPp5Q7YFJyjG"
   },
   "source": [
    "###Tạo panel"
   ]
  },
  {
   "cell_type": "code",
   "execution_count": null,
   "metadata": {
    "colab": {
     "base_uri": "https://localhost:8080/"
    },
    "executionInfo": {
     "elapsed": 158,
     "status": "ok",
     "timestamp": 1758120696260,
     "user": {
      "displayName": "quang hoàng",
      "userId": "14537424633428942085"
     },
     "user_tz": -420
    },
    "id": "FNvmrskvJtX5",
    "outputId": "eb73d81a-40a2-487c-84d2-09c313fc56e2"
   },
   "outputs": [
    {
     "name": "stdout",
     "output_type": "stream",
     "text": [
      "                          col_0     col_1     col_2     col_3\n",
      "dimension1 dimension2                                        \n",
      "A          C           0.085285  0.609077  0.568797  0.565430\n",
      "           D           0.850304  0.563223  0.990531  0.255454\n",
      "           E           0.860642  0.964759  0.044012  0.582620\n",
      "B          C           0.897051  0.186468  0.302110  0.529959\n",
      "           D           0.592535  0.706673  0.417180  0.314231\n",
      "           E           0.742008  0.506984  0.445117  0.106786\n"
     ]
    }
   ],
   "source": [
    "import pandas as pd\n",
    "import numpy as np\n",
    "\n",
    "data = np.random.rand(2,3,4)\n",
    "# p = pd.Panel(data) # Panel is deprecated\n",
    "# print(p)\n",
    "\n",
    "# Using MultiIndex DataFrame instead of Panel\n",
    "# Create a MultiIndex\n",
    "index = pd.MultiIndex.from_product([['A', 'B'], ['C', 'D', 'E']], names=['dimension1', 'dimension2'])\n",
    "columns = [f'col_{i}' for i in range(data.shape[2])]\n",
    "\n",
    "# Reshape the data to 2D\n",
    "data_2d = data.reshape(-1, data.shape[2])\n",
    "\n",
    "# Create the DataFrame with MultiIndex\n",
    "df_multiindex = pd.DataFrame(data_2d, index=index, columns=columns)\n",
    "print(df_multiindex)"
   ]
  },
  {
   "cell_type": "markdown",
   "metadata": {
    "id": "czbjDv6WKVWs"
   },
   "source": [
    "##Chọn và nhóm phần tử"
   ]
  },
  {
   "cell_type": "code",
   "execution_count": null,
   "metadata": {
    "colab": {
     "base_uri": "https://localhost:8080/",
     "height": 143
    },
    "executionInfo": {
     "elapsed": 16,
     "status": "ok",
     "timestamp": 1758120867137,
     "user": {
      "displayName": "quang hoàng",
      "userId": "14537424633428942085"
     },
     "user_tz": -420
    },
    "id": "Z0DcJuagKjvX",
    "outputId": "6946aa28-7c26-4a32-80d5-6cf962e17e9e"
   },
   "outputs": [
    {
     "data": {
      "application/vnd.google.colaboratory.intrinsic+json": {
       "summary": "{\n  \"name\": \"df2\",\n  \"rows\": 2,\n  \"fields\": [\n    {\n      \"column\": \"X\",\n      \"properties\": {\n        \"dtype\": \"string\",\n        \"num_unique_values\": 2,\n        \"samples\": [\n          \"B\",\n          \"A\"\n        ],\n        \"semantic_type\": \"\",\n        \"description\": \"\"\n      }\n    },\n    {\n      \"column\": \"Y\",\n      \"properties\": {\n        \"dtype\": \"number\",\n        \"std\": 2,\n        \"min\": 3,\n        \"max\": 7,\n        \"num_unique_values\": 2,\n        \"samples\": [\n          3,\n          7\n        ],\n        \"semantic_type\": \"\",\n        \"description\": \"\"\n      }\n    }\n  ]\n}",
       "type": "dataframe"
      },
      "text/html": [
       "\n",
       "  <div id=\"df-3436c60c-11e7-4e58-b7b5-9e49674e931e\" class=\"colab-df-container\">\n",
       "    <div>\n",
       "<style scoped>\n",
       "    .dataframe tbody tr th:only-of-type {\n",
       "        vertical-align: middle;\n",
       "    }\n",
       "\n",
       "    .dataframe tbody tr th {\n",
       "        vertical-align: top;\n",
       "    }\n",
       "\n",
       "    .dataframe thead th {\n",
       "        text-align: right;\n",
       "    }\n",
       "</style>\n",
       "<table border=\"1\" class=\"dataframe\">\n",
       "  <thead>\n",
       "    <tr style=\"text-align: right;\">\n",
       "      <th></th>\n",
       "      <th>Y</th>\n",
       "    </tr>\n",
       "    <tr>\n",
       "      <th>X</th>\n",
       "      <th></th>\n",
       "    </tr>\n",
       "  </thead>\n",
       "  <tbody>\n",
       "    <tr>\n",
       "      <th>A</th>\n",
       "      <td>7</td>\n",
       "    </tr>\n",
       "    <tr>\n",
       "      <th>B</th>\n",
       "      <td>3</td>\n",
       "    </tr>\n",
       "  </tbody>\n",
       "</table>\n",
       "</div>\n",
       "    <div class=\"colab-df-buttons\">\n",
       "\n",
       "  <div class=\"colab-df-container\">\n",
       "    <button class=\"colab-df-convert\" onclick=\"convertToInteractive('df-3436c60c-11e7-4e58-b7b5-9e49674e931e')\"\n",
       "            title=\"Convert this dataframe to an interactive table.\"\n",
       "            style=\"display:none;\">\n",
       "\n",
       "  <svg xmlns=\"http://www.w3.org/2000/svg\" height=\"24px\" viewBox=\"0 -960 960 960\">\n",
       "    <path d=\"M120-120v-720h720v720H120Zm60-500h600v-160H180v160Zm220 220h160v-160H400v160Zm0 220h160v-160H400v160ZM180-400h160v-160H180v160Zm440 0h160v-160H620v160ZM180-180h160v-160H180v160Zm440 0h160v-160H620v160Z\"/>\n",
       "  </svg>\n",
       "    </button>\n",
       "\n",
       "  <style>\n",
       "    .colab-df-container {\n",
       "      display:flex;\n",
       "      gap: 12px;\n",
       "    }\n",
       "\n",
       "    .colab-df-convert {\n",
       "      background-color: #E8F0FE;\n",
       "      border: none;\n",
       "      border-radius: 50%;\n",
       "      cursor: pointer;\n",
       "      display: none;\n",
       "      fill: #1967D2;\n",
       "      height: 32px;\n",
       "      padding: 0 0 0 0;\n",
       "      width: 32px;\n",
       "    }\n",
       "\n",
       "    .colab-df-convert:hover {\n",
       "      background-color: #E2EBFA;\n",
       "      box-shadow: 0px 1px 2px rgba(60, 64, 67, 0.3), 0px 1px 3px 1px rgba(60, 64, 67, 0.15);\n",
       "      fill: #174EA6;\n",
       "    }\n",
       "\n",
       "    .colab-df-buttons div {\n",
       "      margin-bottom: 4px;\n",
       "    }\n",
       "\n",
       "    [theme=dark] .colab-df-convert {\n",
       "      background-color: #3B4455;\n",
       "      fill: #D2E3FC;\n",
       "    }\n",
       "\n",
       "    [theme=dark] .colab-df-convert:hover {\n",
       "      background-color: #434B5C;\n",
       "      box-shadow: 0px 1px 3px 1px rgba(0, 0, 0, 0.15);\n",
       "      filter: drop-shadow(0px 1px 2px rgba(0, 0, 0, 0.3));\n",
       "      fill: #FFFFFF;\n",
       "    }\n",
       "  </style>\n",
       "\n",
       "    <script>\n",
       "      const buttonEl =\n",
       "        document.querySelector('#df-3436c60c-11e7-4e58-b7b5-9e49674e931e button.colab-df-convert');\n",
       "      buttonEl.style.display =\n",
       "        google.colab.kernel.accessAllowed ? 'block' : 'none';\n",
       "\n",
       "      async function convertToInteractive(key) {\n",
       "        const element = document.querySelector('#df-3436c60c-11e7-4e58-b7b5-9e49674e931e');\n",
       "        const dataTable =\n",
       "          await google.colab.kernel.invokeFunction('convertToInteractive',\n",
       "                                                    [key], {});\n",
       "        if (!dataTable) return;\n",
       "\n",
       "        const docLinkHtml = 'Like what you see? Visit the ' +\n",
       "          '<a target=\"_blank\" href=https://colab.research.google.com/notebooks/data_table.ipynb>data table notebook</a>'\n",
       "          + ' to learn more about interactive tables.';\n",
       "        element.innerHTML = '';\n",
       "        dataTable['output_type'] = 'display_data';\n",
       "        await google.colab.output.renderOutput(dataTable, element);\n",
       "        const docLink = document.createElement('div');\n",
       "        docLink.innerHTML = docLinkHtml;\n",
       "        element.appendChild(docLink);\n",
       "      }\n",
       "    </script>\n",
       "  </div>\n",
       "\n",
       "\n",
       "    <div id=\"df-ba3f1bf5-d692-4c63-9e26-22ec95414a29\">\n",
       "      <button class=\"colab-df-quickchart\" onclick=\"quickchart('df-ba3f1bf5-d692-4c63-9e26-22ec95414a29')\"\n",
       "                title=\"Suggest charts\"\n",
       "                style=\"display:none;\">\n",
       "\n",
       "<svg xmlns=\"http://www.w3.org/2000/svg\" height=\"24px\"viewBox=\"0 0 24 24\"\n",
       "     width=\"24px\">\n",
       "    <g>\n",
       "        <path d=\"M19 3H5c-1.1 0-2 .9-2 2v14c0 1.1.9 2 2 2h14c1.1 0 2-.9 2-2V5c0-1.1-.9-2-2-2zM9 17H7v-7h2v7zm4 0h-2V7h2v10zm4 0h-2v-4h2v4z\"/>\n",
       "    </g>\n",
       "</svg>\n",
       "      </button>\n",
       "\n",
       "<style>\n",
       "  .colab-df-quickchart {\n",
       "      --bg-color: #E8F0FE;\n",
       "      --fill-color: #1967D2;\n",
       "      --hover-bg-color: #E2EBFA;\n",
       "      --hover-fill-color: #174EA6;\n",
       "      --disabled-fill-color: #AAA;\n",
       "      --disabled-bg-color: #DDD;\n",
       "  }\n",
       "\n",
       "  [theme=dark] .colab-df-quickchart {\n",
       "      --bg-color: #3B4455;\n",
       "      --fill-color: #D2E3FC;\n",
       "      --hover-bg-color: #434B5C;\n",
       "      --hover-fill-color: #FFFFFF;\n",
       "      --disabled-bg-color: #3B4455;\n",
       "      --disabled-fill-color: #666;\n",
       "  }\n",
       "\n",
       "  .colab-df-quickchart {\n",
       "    background-color: var(--bg-color);\n",
       "    border: none;\n",
       "    border-radius: 50%;\n",
       "    cursor: pointer;\n",
       "    display: none;\n",
       "    fill: var(--fill-color);\n",
       "    height: 32px;\n",
       "    padding: 0;\n",
       "    width: 32px;\n",
       "  }\n",
       "\n",
       "  .colab-df-quickchart:hover {\n",
       "    background-color: var(--hover-bg-color);\n",
       "    box-shadow: 0 1px 2px rgba(60, 64, 67, 0.3), 0 1px 3px 1px rgba(60, 64, 67, 0.15);\n",
       "    fill: var(--button-hover-fill-color);\n",
       "  }\n",
       "\n",
       "  .colab-df-quickchart-complete:disabled,\n",
       "  .colab-df-quickchart-complete:disabled:hover {\n",
       "    background-color: var(--disabled-bg-color);\n",
       "    fill: var(--disabled-fill-color);\n",
       "    box-shadow: none;\n",
       "  }\n",
       "\n",
       "  .colab-df-spinner {\n",
       "    border: 2px solid var(--fill-color);\n",
       "    border-color: transparent;\n",
       "    border-bottom-color: var(--fill-color);\n",
       "    animation:\n",
       "      spin 1s steps(1) infinite;\n",
       "  }\n",
       "\n",
       "  @keyframes spin {\n",
       "    0% {\n",
       "      border-color: transparent;\n",
       "      border-bottom-color: var(--fill-color);\n",
       "      border-left-color: var(--fill-color);\n",
       "    }\n",
       "    20% {\n",
       "      border-color: transparent;\n",
       "      border-left-color: var(--fill-color);\n",
       "      border-top-color: var(--fill-color);\n",
       "    }\n",
       "    30% {\n",
       "      border-color: transparent;\n",
       "      border-left-color: var(--fill-color);\n",
       "      border-top-color: var(--fill-color);\n",
       "      border-right-color: var(--fill-color);\n",
       "    }\n",
       "    40% {\n",
       "      border-color: transparent;\n",
       "      border-right-color: var(--fill-color);\n",
       "      border-top-color: var(--fill-color);\n",
       "    }\n",
       "    60% {\n",
       "      border-color: transparent;\n",
       "      border-right-color: var(--fill-color);\n",
       "    }\n",
       "    80% {\n",
       "      border-color: transparent;\n",
       "      border-right-color: var(--fill-color);\n",
       "      border-bottom-color: var(--fill-color);\n",
       "    }\n",
       "    90% {\n",
       "      border-color: transparent;\n",
       "      border-bottom-color: var(--fill-color);\n",
       "    }\n",
       "  }\n",
       "</style>\n",
       "\n",
       "      <script>\n",
       "        async function quickchart(key) {\n",
       "          const quickchartButtonEl =\n",
       "            document.querySelector('#' + key + ' button');\n",
       "          quickchartButtonEl.disabled = true;  // To prevent multiple clicks.\n",
       "          quickchartButtonEl.classList.add('colab-df-spinner');\n",
       "          try {\n",
       "            const charts = await google.colab.kernel.invokeFunction(\n",
       "                'suggestCharts', [key], {});\n",
       "          } catch (error) {\n",
       "            console.error('Error during call to suggestCharts:', error);\n",
       "          }\n",
       "          quickchartButtonEl.classList.remove('colab-df-spinner');\n",
       "          quickchartButtonEl.classList.add('colab-df-quickchart-complete');\n",
       "        }\n",
       "        (() => {\n",
       "          let quickchartButtonEl =\n",
       "            document.querySelector('#df-ba3f1bf5-d692-4c63-9e26-22ec95414a29 button');\n",
       "          quickchartButtonEl.style.display =\n",
       "            google.colab.kernel.accessAllowed ? 'block' : 'none';\n",
       "        })();\n",
       "      </script>\n",
       "    </div>\n",
       "\n",
       "    </div>\n",
       "  </div>\n"
      ],
      "text/plain": [
       "   Y\n",
       "X   \n",
       "A  7\n",
       "B  3"
      ]
     },
     "execution_count": 74,
     "metadata": {},
     "output_type": "execute_result"
    }
   ],
   "source": [
    "df2 = pd.DataFrame({'X' : ['B', 'B', 'A', 'A'], 'Y' : [1, 2, 3, 4]})\n",
    "df2.groupby(['X']).sum()\n"
   ]
  },
  {
   "cell_type": "code",
   "execution_count": null,
   "metadata": {
    "colab": {
     "base_uri": "https://localhost:8080/",
     "height": 143
    },
    "executionInfo": {
     "elapsed": 13,
     "status": "ok",
     "timestamp": 1758120861641,
     "user": {
      "displayName": "quang hoàng",
      "userId": "14537424633428942085"
     },
     "user_tz": -420
    },
    "id": "lM8MPeasK1I-",
    "outputId": "751cc25f-d96e-416d-e933-36d3a1f46544"
   },
   "outputs": [
    {
     "data": {
      "application/vnd.google.colaboratory.intrinsic+json": {
       "summary": "{\n  \"name\": \"df2\",\n  \"rows\": 2,\n  \"fields\": [\n    {\n      \"column\": \"X\",\n      \"properties\": {\n        \"dtype\": \"string\",\n        \"num_unique_values\": 2,\n        \"samples\": [\n          \"A\",\n          \"B\"\n        ],\n        \"semantic_type\": \"\",\n        \"description\": \"\"\n      }\n    },\n    {\n      \"column\": \"Y\",\n      \"properties\": {\n        \"dtype\": \"number\",\n        \"std\": 2,\n        \"min\": 3,\n        \"max\": 7,\n        \"num_unique_values\": 2,\n        \"samples\": [\n          7,\n          3\n        ],\n        \"semantic_type\": \"\",\n        \"description\": \"\"\n      }\n    }\n  ]\n}",
       "type": "dataframe"
      },
      "text/html": [
       "\n",
       "  <div id=\"df-ea52f8fb-9d4d-43eb-8084-a51d8c5d4de4\" class=\"colab-df-container\">\n",
       "    <div>\n",
       "<style scoped>\n",
       "    .dataframe tbody tr th:only-of-type {\n",
       "        vertical-align: middle;\n",
       "    }\n",
       "\n",
       "    .dataframe tbody tr th {\n",
       "        vertical-align: top;\n",
       "    }\n",
       "\n",
       "    .dataframe thead th {\n",
       "        text-align: right;\n",
       "    }\n",
       "</style>\n",
       "<table border=\"1\" class=\"dataframe\">\n",
       "  <thead>\n",
       "    <tr style=\"text-align: right;\">\n",
       "      <th></th>\n",
       "      <th>Y</th>\n",
       "    </tr>\n",
       "    <tr>\n",
       "      <th>X</th>\n",
       "      <th></th>\n",
       "    </tr>\n",
       "  </thead>\n",
       "  <tbody>\n",
       "    <tr>\n",
       "      <th>B</th>\n",
       "      <td>3</td>\n",
       "    </tr>\n",
       "    <tr>\n",
       "      <th>A</th>\n",
       "      <td>7</td>\n",
       "    </tr>\n",
       "  </tbody>\n",
       "</table>\n",
       "</div>\n",
       "    <div class=\"colab-df-buttons\">\n",
       "\n",
       "  <div class=\"colab-df-container\">\n",
       "    <button class=\"colab-df-convert\" onclick=\"convertToInteractive('df-ea52f8fb-9d4d-43eb-8084-a51d8c5d4de4')\"\n",
       "            title=\"Convert this dataframe to an interactive table.\"\n",
       "            style=\"display:none;\">\n",
       "\n",
       "  <svg xmlns=\"http://www.w3.org/2000/svg\" height=\"24px\" viewBox=\"0 -960 960 960\">\n",
       "    <path d=\"M120-120v-720h720v720H120Zm60-500h600v-160H180v160Zm220 220h160v-160H400v160Zm0 220h160v-160H400v160ZM180-400h160v-160H180v160Zm440 0h160v-160H620v160ZM180-180h160v-160H180v160Zm440 0h160v-160H620v160Z\"/>\n",
       "  </svg>\n",
       "    </button>\n",
       "\n",
       "  <style>\n",
       "    .colab-df-container {\n",
       "      display:flex;\n",
       "      gap: 12px;\n",
       "    }\n",
       "\n",
       "    .colab-df-convert {\n",
       "      background-color: #E8F0FE;\n",
       "      border: none;\n",
       "      border-radius: 50%;\n",
       "      cursor: pointer;\n",
       "      display: none;\n",
       "      fill: #1967D2;\n",
       "      height: 32px;\n",
       "      padding: 0 0 0 0;\n",
       "      width: 32px;\n",
       "    }\n",
       "\n",
       "    .colab-df-convert:hover {\n",
       "      background-color: #E2EBFA;\n",
       "      box-shadow: 0px 1px 2px rgba(60, 64, 67, 0.3), 0px 1px 3px 1px rgba(60, 64, 67, 0.15);\n",
       "      fill: #174EA6;\n",
       "    }\n",
       "\n",
       "    .colab-df-buttons div {\n",
       "      margin-bottom: 4px;\n",
       "    }\n",
       "\n",
       "    [theme=dark] .colab-df-convert {\n",
       "      background-color: #3B4455;\n",
       "      fill: #D2E3FC;\n",
       "    }\n",
       "\n",
       "    [theme=dark] .colab-df-convert:hover {\n",
       "      background-color: #434B5C;\n",
       "      box-shadow: 0px 1px 3px 1px rgba(0, 0, 0, 0.15);\n",
       "      filter: drop-shadow(0px 1px 2px rgba(0, 0, 0, 0.3));\n",
       "      fill: #FFFFFF;\n",
       "    }\n",
       "  </style>\n",
       "\n",
       "    <script>\n",
       "      const buttonEl =\n",
       "        document.querySelector('#df-ea52f8fb-9d4d-43eb-8084-a51d8c5d4de4 button.colab-df-convert');\n",
       "      buttonEl.style.display =\n",
       "        google.colab.kernel.accessAllowed ? 'block' : 'none';\n",
       "\n",
       "      async function convertToInteractive(key) {\n",
       "        const element = document.querySelector('#df-ea52f8fb-9d4d-43eb-8084-a51d8c5d4de4');\n",
       "        const dataTable =\n",
       "          await google.colab.kernel.invokeFunction('convertToInteractive',\n",
       "                                                    [key], {});\n",
       "        if (!dataTable) return;\n",
       "\n",
       "        const docLinkHtml = 'Like what you see? Visit the ' +\n",
       "          '<a target=\"_blank\" href=https://colab.research.google.com/notebooks/data_table.ipynb>data table notebook</a>'\n",
       "          + ' to learn more about interactive tables.';\n",
       "        element.innerHTML = '';\n",
       "        dataTable['output_type'] = 'display_data';\n",
       "        await google.colab.output.renderOutput(dataTable, element);\n",
       "        const docLink = document.createElement('div');\n",
       "        docLink.innerHTML = docLinkHtml;\n",
       "        element.appendChild(docLink);\n",
       "      }\n",
       "    </script>\n",
       "  </div>\n",
       "\n",
       "\n",
       "    <div id=\"df-6d51902f-917d-47f6-ad52-fa6c83a8519c\">\n",
       "      <button class=\"colab-df-quickchart\" onclick=\"quickchart('df-6d51902f-917d-47f6-ad52-fa6c83a8519c')\"\n",
       "                title=\"Suggest charts\"\n",
       "                style=\"display:none;\">\n",
       "\n",
       "<svg xmlns=\"http://www.w3.org/2000/svg\" height=\"24px\"viewBox=\"0 0 24 24\"\n",
       "     width=\"24px\">\n",
       "    <g>\n",
       "        <path d=\"M19 3H5c-1.1 0-2 .9-2 2v14c0 1.1.9 2 2 2h14c1.1 0 2-.9 2-2V5c0-1.1-.9-2-2-2zM9 17H7v-7h2v7zm4 0h-2V7h2v10zm4 0h-2v-4h2v4z\"/>\n",
       "    </g>\n",
       "</svg>\n",
       "      </button>\n",
       "\n",
       "<style>\n",
       "  .colab-df-quickchart {\n",
       "      --bg-color: #E8F0FE;\n",
       "      --fill-color: #1967D2;\n",
       "      --hover-bg-color: #E2EBFA;\n",
       "      --hover-fill-color: #174EA6;\n",
       "      --disabled-fill-color: #AAA;\n",
       "      --disabled-bg-color: #DDD;\n",
       "  }\n",
       "\n",
       "  [theme=dark] .colab-df-quickchart {\n",
       "      --bg-color: #3B4455;\n",
       "      --fill-color: #D2E3FC;\n",
       "      --hover-bg-color: #434B5C;\n",
       "      --hover-fill-color: #FFFFFF;\n",
       "      --disabled-bg-color: #3B4455;\n",
       "      --disabled-fill-color: #666;\n",
       "  }\n",
       "\n",
       "  .colab-df-quickchart {\n",
       "    background-color: var(--bg-color);\n",
       "    border: none;\n",
       "    border-radius: 50%;\n",
       "    cursor: pointer;\n",
       "    display: none;\n",
       "    fill: var(--fill-color);\n",
       "    height: 32px;\n",
       "    padding: 0;\n",
       "    width: 32px;\n",
       "  }\n",
       "\n",
       "  .colab-df-quickchart:hover {\n",
       "    background-color: var(--hover-bg-color);\n",
       "    box-shadow: 0 1px 2px rgba(60, 64, 67, 0.3), 0 1px 3px 1px rgba(60, 64, 67, 0.15);\n",
       "    fill: var(--button-hover-fill-color);\n",
       "  }\n",
       "\n",
       "  .colab-df-quickchart-complete:disabled,\n",
       "  .colab-df-quickchart-complete:disabled:hover {\n",
       "    background-color: var(--disabled-bg-color);\n",
       "    fill: var(--disabled-fill-color);\n",
       "    box-shadow: none;\n",
       "  }\n",
       "\n",
       "  .colab-df-spinner {\n",
       "    border: 2px solid var(--fill-color);\n",
       "    border-color: transparent;\n",
       "    border-bottom-color: var(--fill-color);\n",
       "    animation:\n",
       "      spin 1s steps(1) infinite;\n",
       "  }\n",
       "\n",
       "  @keyframes spin {\n",
       "    0% {\n",
       "      border-color: transparent;\n",
       "      border-bottom-color: var(--fill-color);\n",
       "      border-left-color: var(--fill-color);\n",
       "    }\n",
       "    20% {\n",
       "      border-color: transparent;\n",
       "      border-left-color: var(--fill-color);\n",
       "      border-top-color: var(--fill-color);\n",
       "    }\n",
       "    30% {\n",
       "      border-color: transparent;\n",
       "      border-left-color: var(--fill-color);\n",
       "      border-top-color: var(--fill-color);\n",
       "      border-right-color: var(--fill-color);\n",
       "    }\n",
       "    40% {\n",
       "      border-color: transparent;\n",
       "      border-right-color: var(--fill-color);\n",
       "      border-top-color: var(--fill-color);\n",
       "    }\n",
       "    60% {\n",
       "      border-color: transparent;\n",
       "      border-right-color: var(--fill-color);\n",
       "    }\n",
       "    80% {\n",
       "      border-color: transparent;\n",
       "      border-right-color: var(--fill-color);\n",
       "      border-bottom-color: var(--fill-color);\n",
       "    }\n",
       "    90% {\n",
       "      border-color: transparent;\n",
       "      border-bottom-color: var(--fill-color);\n",
       "    }\n",
       "  }\n",
       "</style>\n",
       "\n",
       "      <script>\n",
       "        async function quickchart(key) {\n",
       "          const quickchartButtonEl =\n",
       "            document.querySelector('#' + key + ' button');\n",
       "          quickchartButtonEl.disabled = true;  // To prevent multiple clicks.\n",
       "          quickchartButtonEl.classList.add('colab-df-spinner');\n",
       "          try {\n",
       "            const charts = await google.colab.kernel.invokeFunction(\n",
       "                'suggestCharts', [key], {});\n",
       "          } catch (error) {\n",
       "            console.error('Error during call to suggestCharts:', error);\n",
       "          }\n",
       "          quickchartButtonEl.classList.remove('colab-df-spinner');\n",
       "          quickchartButtonEl.classList.add('colab-df-quickchart-complete');\n",
       "        }\n",
       "        (() => {\n",
       "          let quickchartButtonEl =\n",
       "            document.querySelector('#df-6d51902f-917d-47f6-ad52-fa6c83a8519c button');\n",
       "          quickchartButtonEl.style.display =\n",
       "            google.colab.kernel.accessAllowed ? 'block' : 'none';\n",
       "        })();\n",
       "      </script>\n",
       "    </div>\n",
       "\n",
       "    </div>\n",
       "  </div>\n"
      ],
      "text/plain": [
       "   Y\n",
       "X   \n",
       "B  3\n",
       "A  7"
      ]
     },
     "execution_count": 73,
     "metadata": {},
     "output_type": "execute_result"
    }
   ],
   "source": [
    "df2.groupby(['X'], sort=False).sum()"
   ]
  },
  {
   "cell_type": "code",
   "execution_count": null,
   "metadata": {
    "colab": {
     "base_uri": "https://localhost:8080/",
     "height": 167
    },
    "executionInfo": {
     "elapsed": 41,
     "status": "ok",
     "timestamp": 1758120829522,
     "user": {
      "displayName": "quang hoàng",
      "userId": "14537424633428942085"
     },
     "user_tz": -420
    },
    "id": "efyp03TWKtgB",
    "outputId": "bc3caf84-452f-42d6-ebdc-037024f5f272"
   },
   "outputs": [
    {
     "name": "stderr",
     "output_type": "stream",
     "text": [
      "/tmp/ipython-input-1036314070.py:3: FutureWarning: When grouping with a length-1 list-like, you will need to pass a length-1 tuple to get_group in a future version of pandas. Pass `(name,)` instead of `name` to silence this warning.\n",
      "  df3.groupby(['X']).get_group('A')\n"
     ]
    },
    {
     "data": {
      "application/vnd.google.colaboratory.intrinsic+json": {
       "summary": "{\n  \"name\": \"df3\",\n  \"rows\": 2,\n  \"fields\": [\n    {\n      \"column\": \"X\",\n      \"properties\": {\n        \"dtype\": \"string\",\n        \"num_unique_values\": 1,\n        \"samples\": [\n          \"A\"\n        ],\n        \"semantic_type\": \"\",\n        \"description\": \"\"\n      }\n    },\n    {\n      \"column\": \"Y\",\n      \"properties\": {\n        \"dtype\": \"number\",\n        \"std\": 1,\n        \"min\": 1,\n        \"max\": 3,\n        \"num_unique_values\": 2,\n        \"samples\": [\n          3\n        ],\n        \"semantic_type\": \"\",\n        \"description\": \"\"\n      }\n    }\n  ]\n}",
       "type": "dataframe"
      },
      "text/html": [
       "\n",
       "  <div id=\"df-4cee2e5c-a4cf-4f2a-91e7-e32c98ccaf9a\" class=\"colab-df-container\">\n",
       "    <div>\n",
       "<style scoped>\n",
       "    .dataframe tbody tr th:only-of-type {\n",
       "        vertical-align: middle;\n",
       "    }\n",
       "\n",
       "    .dataframe tbody tr th {\n",
       "        vertical-align: top;\n",
       "    }\n",
       "\n",
       "    .dataframe thead th {\n",
       "        text-align: right;\n",
       "    }\n",
       "</style>\n",
       "<table border=\"1\" class=\"dataframe\">\n",
       "  <thead>\n",
       "    <tr style=\"text-align: right;\">\n",
       "      <th></th>\n",
       "      <th>X</th>\n",
       "      <th>Y</th>\n",
       "    </tr>\n",
       "  </thead>\n",
       "  <tbody>\n",
       "    <tr>\n",
       "      <th>0</th>\n",
       "      <td>A</td>\n",
       "      <td>1</td>\n",
       "    </tr>\n",
       "    <tr>\n",
       "      <th>2</th>\n",
       "      <td>A</td>\n",
       "      <td>3</td>\n",
       "    </tr>\n",
       "  </tbody>\n",
       "</table>\n",
       "</div>\n",
       "    <div class=\"colab-df-buttons\">\n",
       "\n",
       "  <div class=\"colab-df-container\">\n",
       "    <button class=\"colab-df-convert\" onclick=\"convertToInteractive('df-4cee2e5c-a4cf-4f2a-91e7-e32c98ccaf9a')\"\n",
       "            title=\"Convert this dataframe to an interactive table.\"\n",
       "            style=\"display:none;\">\n",
       "\n",
       "  <svg xmlns=\"http://www.w3.org/2000/svg\" height=\"24px\" viewBox=\"0 -960 960 960\">\n",
       "    <path d=\"M120-120v-720h720v720H120Zm60-500h600v-160H180v160Zm220 220h160v-160H400v160Zm0 220h160v-160H400v160ZM180-400h160v-160H180v160Zm440 0h160v-160H620v160ZM180-180h160v-160H180v160Zm440 0h160v-160H620v160Z\"/>\n",
       "  </svg>\n",
       "    </button>\n",
       "\n",
       "  <style>\n",
       "    .colab-df-container {\n",
       "      display:flex;\n",
       "      gap: 12px;\n",
       "    }\n",
       "\n",
       "    .colab-df-convert {\n",
       "      background-color: #E8F0FE;\n",
       "      border: none;\n",
       "      border-radius: 50%;\n",
       "      cursor: pointer;\n",
       "      display: none;\n",
       "      fill: #1967D2;\n",
       "      height: 32px;\n",
       "      padding: 0 0 0 0;\n",
       "      width: 32px;\n",
       "    }\n",
       "\n",
       "    .colab-df-convert:hover {\n",
       "      background-color: #E2EBFA;\n",
       "      box-shadow: 0px 1px 2px rgba(60, 64, 67, 0.3), 0px 1px 3px 1px rgba(60, 64, 67, 0.15);\n",
       "      fill: #174EA6;\n",
       "    }\n",
       "\n",
       "    .colab-df-buttons div {\n",
       "      margin-bottom: 4px;\n",
       "    }\n",
       "\n",
       "    [theme=dark] .colab-df-convert {\n",
       "      background-color: #3B4455;\n",
       "      fill: #D2E3FC;\n",
       "    }\n",
       "\n",
       "    [theme=dark] .colab-df-convert:hover {\n",
       "      background-color: #434B5C;\n",
       "      box-shadow: 0px 1px 3px 1px rgba(0, 0, 0, 0.15);\n",
       "      filter: drop-shadow(0px 1px 2px rgba(0, 0, 0, 0.3));\n",
       "      fill: #FFFFFF;\n",
       "    }\n",
       "  </style>\n",
       "\n",
       "    <script>\n",
       "      const buttonEl =\n",
       "        document.querySelector('#df-4cee2e5c-a4cf-4f2a-91e7-e32c98ccaf9a button.colab-df-convert');\n",
       "      buttonEl.style.display =\n",
       "        google.colab.kernel.accessAllowed ? 'block' : 'none';\n",
       "\n",
       "      async function convertToInteractive(key) {\n",
       "        const element = document.querySelector('#df-4cee2e5c-a4cf-4f2a-91e7-e32c98ccaf9a');\n",
       "        const dataTable =\n",
       "          await google.colab.kernel.invokeFunction('convertToInteractive',\n",
       "                                                    [key], {});\n",
       "        if (!dataTable) return;\n",
       "\n",
       "        const docLinkHtml = 'Like what you see? Visit the ' +\n",
       "          '<a target=\"_blank\" href=https://colab.research.google.com/notebooks/data_table.ipynb>data table notebook</a>'\n",
       "          + ' to learn more about interactive tables.';\n",
       "        element.innerHTML = '';\n",
       "        dataTable['output_type'] = 'display_data';\n",
       "        await google.colab.output.renderOutput(dataTable, element);\n",
       "        const docLink = document.createElement('div');\n",
       "        docLink.innerHTML = docLinkHtml;\n",
       "        element.appendChild(docLink);\n",
       "      }\n",
       "    </script>\n",
       "  </div>\n",
       "\n",
       "\n",
       "    <div id=\"df-0ab8fd01-3f39-479a-86a4-a0430979b073\">\n",
       "      <button class=\"colab-df-quickchart\" onclick=\"quickchart('df-0ab8fd01-3f39-479a-86a4-a0430979b073')\"\n",
       "                title=\"Suggest charts\"\n",
       "                style=\"display:none;\">\n",
       "\n",
       "<svg xmlns=\"http://www.w3.org/2000/svg\" height=\"24px\"viewBox=\"0 0 24 24\"\n",
       "     width=\"24px\">\n",
       "    <g>\n",
       "        <path d=\"M19 3H5c-1.1 0-2 .9-2 2v14c0 1.1.9 2 2 2h14c1.1 0 2-.9 2-2V5c0-1.1-.9-2-2-2zM9 17H7v-7h2v7zm4 0h-2V7h2v10zm4 0h-2v-4h2v4z\"/>\n",
       "    </g>\n",
       "</svg>\n",
       "      </button>\n",
       "\n",
       "<style>\n",
       "  .colab-df-quickchart {\n",
       "      --bg-color: #E8F0FE;\n",
       "      --fill-color: #1967D2;\n",
       "      --hover-bg-color: #E2EBFA;\n",
       "      --hover-fill-color: #174EA6;\n",
       "      --disabled-fill-color: #AAA;\n",
       "      --disabled-bg-color: #DDD;\n",
       "  }\n",
       "\n",
       "  [theme=dark] .colab-df-quickchart {\n",
       "      --bg-color: #3B4455;\n",
       "      --fill-color: #D2E3FC;\n",
       "      --hover-bg-color: #434B5C;\n",
       "      --hover-fill-color: #FFFFFF;\n",
       "      --disabled-bg-color: #3B4455;\n",
       "      --disabled-fill-color: #666;\n",
       "  }\n",
       "\n",
       "  .colab-df-quickchart {\n",
       "    background-color: var(--bg-color);\n",
       "    border: none;\n",
       "    border-radius: 50%;\n",
       "    cursor: pointer;\n",
       "    display: none;\n",
       "    fill: var(--fill-color);\n",
       "    height: 32px;\n",
       "    padding: 0;\n",
       "    width: 32px;\n",
       "  }\n",
       "\n",
       "  .colab-df-quickchart:hover {\n",
       "    background-color: var(--hover-bg-color);\n",
       "    box-shadow: 0 1px 2px rgba(60, 64, 67, 0.3), 0 1px 3px 1px rgba(60, 64, 67, 0.15);\n",
       "    fill: var(--button-hover-fill-color);\n",
       "  }\n",
       "\n",
       "  .colab-df-quickchart-complete:disabled,\n",
       "  .colab-df-quickchart-complete:disabled:hover {\n",
       "    background-color: var(--disabled-bg-color);\n",
       "    fill: var(--disabled-fill-color);\n",
       "    box-shadow: none;\n",
       "  }\n",
       "\n",
       "  .colab-df-spinner {\n",
       "    border: 2px solid var(--fill-color);\n",
       "    border-color: transparent;\n",
       "    border-bottom-color: var(--fill-color);\n",
       "    animation:\n",
       "      spin 1s steps(1) infinite;\n",
       "  }\n",
       "\n",
       "  @keyframes spin {\n",
       "    0% {\n",
       "      border-color: transparent;\n",
       "      border-bottom-color: var(--fill-color);\n",
       "      border-left-color: var(--fill-color);\n",
       "    }\n",
       "    20% {\n",
       "      border-color: transparent;\n",
       "      border-left-color: var(--fill-color);\n",
       "      border-top-color: var(--fill-color);\n",
       "    }\n",
       "    30% {\n",
       "      border-color: transparent;\n",
       "      border-left-color: var(--fill-color);\n",
       "      border-top-color: var(--fill-color);\n",
       "      border-right-color: var(--fill-color);\n",
       "    }\n",
       "    40% {\n",
       "      border-color: transparent;\n",
       "      border-right-color: var(--fill-color);\n",
       "      border-top-color: var(--fill-color);\n",
       "    }\n",
       "    60% {\n",
       "      border-color: transparent;\n",
       "      border-right-color: var(--fill-color);\n",
       "    }\n",
       "    80% {\n",
       "      border-color: transparent;\n",
       "      border-right-color: var(--fill-color);\n",
       "      border-bottom-color: var(--fill-color);\n",
       "    }\n",
       "    90% {\n",
       "      border-color: transparent;\n",
       "      border-bottom-color: var(--fill-color);\n",
       "    }\n",
       "  }\n",
       "</style>\n",
       "\n",
       "      <script>\n",
       "        async function quickchart(key) {\n",
       "          const quickchartButtonEl =\n",
       "            document.querySelector('#' + key + ' button');\n",
       "          quickchartButtonEl.disabled = true;  // To prevent multiple clicks.\n",
       "          quickchartButtonEl.classList.add('colab-df-spinner');\n",
       "          try {\n",
       "            const charts = await google.colab.kernel.invokeFunction(\n",
       "                'suggestCharts', [key], {});\n",
       "          } catch (error) {\n",
       "            console.error('Error during call to suggestCharts:', error);\n",
       "          }\n",
       "          quickchartButtonEl.classList.remove('colab-df-spinner');\n",
       "          quickchartButtonEl.classList.add('colab-df-quickchart-complete');\n",
       "        }\n",
       "        (() => {\n",
       "          let quickchartButtonEl =\n",
       "            document.querySelector('#df-0ab8fd01-3f39-479a-86a4-a0430979b073 button');\n",
       "          quickchartButtonEl.style.display =\n",
       "            google.colab.kernel.accessAllowed ? 'block' : 'none';\n",
       "        })();\n",
       "      </script>\n",
       "    </div>\n",
       "\n",
       "    </div>\n",
       "  </div>\n"
      ],
      "text/plain": [
       "   X  Y\n",
       "0  A  1\n",
       "2  A  3"
      ]
     },
     "execution_count": 71,
     "metadata": {},
     "output_type": "execute_result"
    }
   ],
   "source": [
    "df3 = pd.DataFrame({'X' : ['A', 'B', 'A', 'B'], 'Y' :\n",
    "[1, 4, 3, 2]})\n",
    "df3.groupby(['X']).get_group('A')"
   ]
  },
  {
   "cell_type": "code",
   "execution_count": null,
   "metadata": {
    "colab": {
     "base_uri": "https://localhost:8080/",
     "height": 167
    },
    "executionInfo": {
     "elapsed": 71,
     "status": "ok",
     "timestamp": 1758120848099,
     "user": {
      "displayName": "quang hoàng",
      "userId": "14537424633428942085"
     },
     "user_tz": -420
    },
    "id": "jd7dIiF5Kx_2",
    "outputId": "3bcebbd9-6c0f-4d4b-fb16-c01c15778db7"
   },
   "outputs": [
    {
     "name": "stderr",
     "output_type": "stream",
     "text": [
      "/tmp/ipython-input-1694778141.py:1: FutureWarning: When grouping with a length-1 list-like, you will need to pass a length-1 tuple to get_group in a future version of pandas. Pass `(name,)` instead of `name` to silence this warning.\n",
      "  df3.groupby(['X']).get_group('B')\n"
     ]
    },
    {
     "data": {
      "application/vnd.google.colaboratory.intrinsic+json": {
       "summary": "{\n  \"name\": \"df3\",\n  \"rows\": 2,\n  \"fields\": [\n    {\n      \"column\": \"X\",\n      \"properties\": {\n        \"dtype\": \"string\",\n        \"num_unique_values\": 1,\n        \"samples\": [\n          \"B\"\n        ],\n        \"semantic_type\": \"\",\n        \"description\": \"\"\n      }\n    },\n    {\n      \"column\": \"Y\",\n      \"properties\": {\n        \"dtype\": \"number\",\n        \"std\": 1,\n        \"min\": 2,\n        \"max\": 4,\n        \"num_unique_values\": 2,\n        \"samples\": [\n          2\n        ],\n        \"semantic_type\": \"\",\n        \"description\": \"\"\n      }\n    }\n  ]\n}",
       "type": "dataframe"
      },
      "text/html": [
       "\n",
       "  <div id=\"df-d9217b2d-aead-44d1-9210-0f77eb83a538\" class=\"colab-df-container\">\n",
       "    <div>\n",
       "<style scoped>\n",
       "    .dataframe tbody tr th:only-of-type {\n",
       "        vertical-align: middle;\n",
       "    }\n",
       "\n",
       "    .dataframe tbody tr th {\n",
       "        vertical-align: top;\n",
       "    }\n",
       "\n",
       "    .dataframe thead th {\n",
       "        text-align: right;\n",
       "    }\n",
       "</style>\n",
       "<table border=\"1\" class=\"dataframe\">\n",
       "  <thead>\n",
       "    <tr style=\"text-align: right;\">\n",
       "      <th></th>\n",
       "      <th>X</th>\n",
       "      <th>Y</th>\n",
       "    </tr>\n",
       "  </thead>\n",
       "  <tbody>\n",
       "    <tr>\n",
       "      <th>1</th>\n",
       "      <td>B</td>\n",
       "      <td>4</td>\n",
       "    </tr>\n",
       "    <tr>\n",
       "      <th>3</th>\n",
       "      <td>B</td>\n",
       "      <td>2</td>\n",
       "    </tr>\n",
       "  </tbody>\n",
       "</table>\n",
       "</div>\n",
       "    <div class=\"colab-df-buttons\">\n",
       "\n",
       "  <div class=\"colab-df-container\">\n",
       "    <button class=\"colab-df-convert\" onclick=\"convertToInteractive('df-d9217b2d-aead-44d1-9210-0f77eb83a538')\"\n",
       "            title=\"Convert this dataframe to an interactive table.\"\n",
       "            style=\"display:none;\">\n",
       "\n",
       "  <svg xmlns=\"http://www.w3.org/2000/svg\" height=\"24px\" viewBox=\"0 -960 960 960\">\n",
       "    <path d=\"M120-120v-720h720v720H120Zm60-500h600v-160H180v160Zm220 220h160v-160H400v160Zm0 220h160v-160H400v160ZM180-400h160v-160H180v160Zm440 0h160v-160H620v160ZM180-180h160v-160H180v160Zm440 0h160v-160H620v160Z\"/>\n",
       "  </svg>\n",
       "    </button>\n",
       "\n",
       "  <style>\n",
       "    .colab-df-container {\n",
       "      display:flex;\n",
       "      gap: 12px;\n",
       "    }\n",
       "\n",
       "    .colab-df-convert {\n",
       "      background-color: #E8F0FE;\n",
       "      border: none;\n",
       "      border-radius: 50%;\n",
       "      cursor: pointer;\n",
       "      display: none;\n",
       "      fill: #1967D2;\n",
       "      height: 32px;\n",
       "      padding: 0 0 0 0;\n",
       "      width: 32px;\n",
       "    }\n",
       "\n",
       "    .colab-df-convert:hover {\n",
       "      background-color: #E2EBFA;\n",
       "      box-shadow: 0px 1px 2px rgba(60, 64, 67, 0.3), 0px 1px 3px 1px rgba(60, 64, 67, 0.15);\n",
       "      fill: #174EA6;\n",
       "    }\n",
       "\n",
       "    .colab-df-buttons div {\n",
       "      margin-bottom: 4px;\n",
       "    }\n",
       "\n",
       "    [theme=dark] .colab-df-convert {\n",
       "      background-color: #3B4455;\n",
       "      fill: #D2E3FC;\n",
       "    }\n",
       "\n",
       "    [theme=dark] .colab-df-convert:hover {\n",
       "      background-color: #434B5C;\n",
       "      box-shadow: 0px 1px 3px 1px rgba(0, 0, 0, 0.15);\n",
       "      filter: drop-shadow(0px 1px 2px rgba(0, 0, 0, 0.3));\n",
       "      fill: #FFFFFF;\n",
       "    }\n",
       "  </style>\n",
       "\n",
       "    <script>\n",
       "      const buttonEl =\n",
       "        document.querySelector('#df-d9217b2d-aead-44d1-9210-0f77eb83a538 button.colab-df-convert');\n",
       "      buttonEl.style.display =\n",
       "        google.colab.kernel.accessAllowed ? 'block' : 'none';\n",
       "\n",
       "      async function convertToInteractive(key) {\n",
       "        const element = document.querySelector('#df-d9217b2d-aead-44d1-9210-0f77eb83a538');\n",
       "        const dataTable =\n",
       "          await google.colab.kernel.invokeFunction('convertToInteractive',\n",
       "                                                    [key], {});\n",
       "        if (!dataTable) return;\n",
       "\n",
       "        const docLinkHtml = 'Like what you see? Visit the ' +\n",
       "          '<a target=\"_blank\" href=https://colab.research.google.com/notebooks/data_table.ipynb>data table notebook</a>'\n",
       "          + ' to learn more about interactive tables.';\n",
       "        element.innerHTML = '';\n",
       "        dataTable['output_type'] = 'display_data';\n",
       "        await google.colab.output.renderOutput(dataTable, element);\n",
       "        const docLink = document.createElement('div');\n",
       "        docLink.innerHTML = docLinkHtml;\n",
       "        element.appendChild(docLink);\n",
       "      }\n",
       "    </script>\n",
       "  </div>\n",
       "\n",
       "\n",
       "    <div id=\"df-3a076e8c-6d2a-43c3-85c5-1b63dbbb84b3\">\n",
       "      <button class=\"colab-df-quickchart\" onclick=\"quickchart('df-3a076e8c-6d2a-43c3-85c5-1b63dbbb84b3')\"\n",
       "                title=\"Suggest charts\"\n",
       "                style=\"display:none;\">\n",
       "\n",
       "<svg xmlns=\"http://www.w3.org/2000/svg\" height=\"24px\"viewBox=\"0 0 24 24\"\n",
       "     width=\"24px\">\n",
       "    <g>\n",
       "        <path d=\"M19 3H5c-1.1 0-2 .9-2 2v14c0 1.1.9 2 2 2h14c1.1 0 2-.9 2-2V5c0-1.1-.9-2-2-2zM9 17H7v-7h2v7zm4 0h-2V7h2v10zm4 0h-2v-4h2v4z\"/>\n",
       "    </g>\n",
       "</svg>\n",
       "      </button>\n",
       "\n",
       "<style>\n",
       "  .colab-df-quickchart {\n",
       "      --bg-color: #E8F0FE;\n",
       "      --fill-color: #1967D2;\n",
       "      --hover-bg-color: #E2EBFA;\n",
       "      --hover-fill-color: #174EA6;\n",
       "      --disabled-fill-color: #AAA;\n",
       "      --disabled-bg-color: #DDD;\n",
       "  }\n",
       "\n",
       "  [theme=dark] .colab-df-quickchart {\n",
       "      --bg-color: #3B4455;\n",
       "      --fill-color: #D2E3FC;\n",
       "      --hover-bg-color: #434B5C;\n",
       "      --hover-fill-color: #FFFFFF;\n",
       "      --disabled-bg-color: #3B4455;\n",
       "      --disabled-fill-color: #666;\n",
       "  }\n",
       "\n",
       "  .colab-df-quickchart {\n",
       "    background-color: var(--bg-color);\n",
       "    border: none;\n",
       "    border-radius: 50%;\n",
       "    cursor: pointer;\n",
       "    display: none;\n",
       "    fill: var(--fill-color);\n",
       "    height: 32px;\n",
       "    padding: 0;\n",
       "    width: 32px;\n",
       "  }\n",
       "\n",
       "  .colab-df-quickchart:hover {\n",
       "    background-color: var(--hover-bg-color);\n",
       "    box-shadow: 0 1px 2px rgba(60, 64, 67, 0.3), 0 1px 3px 1px rgba(60, 64, 67, 0.15);\n",
       "    fill: var(--button-hover-fill-color);\n",
       "  }\n",
       "\n",
       "  .colab-df-quickchart-complete:disabled,\n",
       "  .colab-df-quickchart-complete:disabled:hover {\n",
       "    background-color: var(--disabled-bg-color);\n",
       "    fill: var(--disabled-fill-color);\n",
       "    box-shadow: none;\n",
       "  }\n",
       "\n",
       "  .colab-df-spinner {\n",
       "    border: 2px solid var(--fill-color);\n",
       "    border-color: transparent;\n",
       "    border-bottom-color: var(--fill-color);\n",
       "    animation:\n",
       "      spin 1s steps(1) infinite;\n",
       "  }\n",
       "\n",
       "  @keyframes spin {\n",
       "    0% {\n",
       "      border-color: transparent;\n",
       "      border-bottom-color: var(--fill-color);\n",
       "      border-left-color: var(--fill-color);\n",
       "    }\n",
       "    20% {\n",
       "      border-color: transparent;\n",
       "      border-left-color: var(--fill-color);\n",
       "      border-top-color: var(--fill-color);\n",
       "    }\n",
       "    30% {\n",
       "      border-color: transparent;\n",
       "      border-left-color: var(--fill-color);\n",
       "      border-top-color: var(--fill-color);\n",
       "      border-right-color: var(--fill-color);\n",
       "    }\n",
       "    40% {\n",
       "      border-color: transparent;\n",
       "      border-right-color: var(--fill-color);\n",
       "      border-top-color: var(--fill-color);\n",
       "    }\n",
       "    60% {\n",
       "      border-color: transparent;\n",
       "      border-right-color: var(--fill-color);\n",
       "    }\n",
       "    80% {\n",
       "      border-color: transparent;\n",
       "      border-right-color: var(--fill-color);\n",
       "      border-bottom-color: var(--fill-color);\n",
       "    }\n",
       "    90% {\n",
       "      border-color: transparent;\n",
       "      border-bottom-color: var(--fill-color);\n",
       "    }\n",
       "  }\n",
       "</style>\n",
       "\n",
       "      <script>\n",
       "        async function quickchart(key) {\n",
       "          const quickchartButtonEl =\n",
       "            document.querySelector('#' + key + ' button');\n",
       "          quickchartButtonEl.disabled = true;  // To prevent multiple clicks.\n",
       "          quickchartButtonEl.classList.add('colab-df-spinner');\n",
       "          try {\n",
       "            const charts = await google.colab.kernel.invokeFunction(\n",
       "                'suggestCharts', [key], {});\n",
       "          } catch (error) {\n",
       "            console.error('Error during call to suggestCharts:', error);\n",
       "          }\n",
       "          quickchartButtonEl.classList.remove('colab-df-spinner');\n",
       "          quickchartButtonEl.classList.add('colab-df-quickchart-complete');\n",
       "        }\n",
       "        (() => {\n",
       "          let quickchartButtonEl =\n",
       "            document.querySelector('#df-3a076e8c-6d2a-43c3-85c5-1b63dbbb84b3 button');\n",
       "          quickchartButtonEl.style.display =\n",
       "            google.colab.kernel.accessAllowed ? 'block' : 'none';\n",
       "        })();\n",
       "      </script>\n",
       "    </div>\n",
       "\n",
       "    </div>\n",
       "  </div>\n"
      ],
      "text/plain": [
       "   X  Y\n",
       "1  B  4\n",
       "3  B  2"
      ]
     },
     "execution_count": 72,
     "metadata": {},
     "output_type": "execute_result"
    }
   ],
   "source": [
    "df3.groupby(['X']).get_group('B')"
   ]
  },
  {
   "cell_type": "markdown",
   "metadata": {
    "id": "04ijYBxgWIrT"
   },
   "source": [
    "#Thư viện scikit-learn"
   ]
  },
  {
   "cell_type": "markdown",
   "metadata": {
    "id": "azoAx8VfWN9C"
   },
   "source": [
    "##Mối quan hệ giữa Khoa học Dữ liệu và Học máy"
   ]
  },
  {
   "cell_type": "markdown",
   "metadata": {
    "id": "d64b3435"
   },
   "source": [
    "Khoa học dữ liệu là gì?\n",
    "▪ Hầu hết các ngành khoa học từ xưa đến nay đều giải quyết vấn đề dựa trên lập luận và tri thức\n",
    "✓ Ngành toán: dựa trên các mệnh đề, công thức, lập luận... để chứng minh bài toán\n",
    "✓ Ngành vật lý: dựa trên các quan sát, thực nghiệm, tính toán,... kiểm chứng các giả thiết\n",
    "✓ Ngành hóa học:...\n",
    "✓ ...\n",
    "✓ Ta gọi các ngành khoa học này là “knowledge-driven” (dẫn dắt bởi tri thức)\n",
    "\n",
    "▪ Có ngành có chút ngoại lệ, ví dụ: ngành xác suất\n",
    "▪ Với quan điểm như vậy, tất cả những quan sát mà không được chứng minh chặt chẽ thường được cho là “không khoa học”\n",
    "✓ Chẳng hạn: chuồn chuồn bay thấp thì mưa\n",
    "▪ Khoa học dữ liệu ≠ Khoa học thông thường ở quan điểm: tìm tri thức từ dữ liệu (dẫn dắt bởi dữ liệu – “data-driven”)\n",
    "✓ Chúng ta rút ra tri thức bằng việc tìm tòi từ dữ liệu chứ không nhất thiết phải chứng minh nó\n",
    "✓ Tất nhiên tri thức tìm ra phải có tính ổn định (luôn có cùng kết quả nếu sử dụng cùng một phương pháp)\n",
    "▪ Không có sơ đồ nào minh họa đầy đủ mối quan hệ giữa hai khái niệm này.\n",
    "▪ Nhiều người (chẳng hạn như Nate Silver) cho rằng ngành khoa học dữ liệu chỉ là một dạng thống kê.\n",
    "\n",
    "Học máy là gì?\n",
    "▪ Học máy (Machine Learning - ML) là một tập hợp con của Trí tuệ Nhân tạo (Artificial Intelligence - AI) cho phép máy tính \"học\" từ dữ liệu mà không cần được lập trình rõ ràng.\n",
    "▪ Học máy sử dụng các thuật toán để phân tích dữ liệu, học hỏi từ dữ liệu và đưa ra dự đoán hoặc quyết định dựa trên những gì đã học.\n",
    "\n",
    "Mối quan hệ giữa Khoa học Dữ liệu và Học máy:\n",
    "▪ Học máy là một **lĩnh vực con** của Khoa học Dữ liệu. Các nhà khoa học dữ liệu sử dụng các thuật toán học máy để xây dựng mô hình, phân tích dữ liệu phức tạp, đưa ra dự đoán và khám phá những hiểu biết sâu sắc từ dữ liệu.\n",
    "▪ Khoa học Dữ liệu là một lĩnh vực rộng lớn hơn bao gồm nhiều khía cạnh khác ngoài học máy, chẳng hạn như thu thập dữ liệu, làm sạch dữ liệu, trực quan hóa dữ liệu, thống kê và diễn giải kết quả.\n",
    "▪ Có thể hình dung Khoa học Dữ liệu là một \"ô\" lớn, và Học máy là một \"công cụ\" mạnh mẽ bên trong ô đó."
   ]
  },
  {
   "cell_type": "markdown",
   "metadata": {
    "id": "C1g_s-JlWUEC"
   },
   "source": [
    "Khoa học dữ liệu là gì?\n",
    "▪ Hầu hết các ngành khoa học từ xưa đến nay đều giải\n",
    "quyết vấn đề dựa trên lập luận và tri thức\n",
    "✓ Ngành toán: dựa trên các mệnh đề, công thức, lập luận...\n",
    "để chứng minh bài toán\n",
    "✓ Ngành vật lý: dựa trên các quan sát, thực nghiệm, tính\n",
    "toán,... kiểm chứng các giả thiết\n",
    "✓ Ngành hóa học:...\n",
    "✓ ...\n",
    "✓ Ta gọi các ngành khoa học này là “knowledge-driven” (dẫn\n",
    "dắt bởi tri thức)\n",
    "\n",
    "▪ Có ngành có chút ngoại lệ, ví dụ: ngành xác suất\n",
    "▪ Với quan điểm như vậy, tất cả những quan sát mà\n",
    "không được chứng minh chặt chẽ thường được cho là\n",
    "“không khoa học”\n",
    "✓ Chẳng hạn: chuồn chuồn bay thấp thì mưa\n",
    "▪ Khoa học dữ liệu ≠ Khoa học thông thường ở quan\n",
    "điểm: tìm tri thức từ dữ liệu (dẫn dắt bởi dữ liệu –\n",
    "“data-driven”)\n",
    "✓ Chúng ta rút ra tri thức bằng việc tìm tòi từ dữ liệu chứ\n",
    "không nhất thiết phải chứng minh nó\n",
    "✓ Tất nhiên tri thức tìm ra phải có tính ổn định (luôn có cùng\n",
    "kết quả nếu sử dụng cùng một phương pháp)\n",
    "▪ Không có sơ đồ nào minh họa\n",
    "đầy đủ mối quan hệ giữa hai\n",
    "khái niệm này\n",
    "▪ Nhiều người (chẳng hạn nhưNate Silver) cho rằng ngành khoa học dữ liệu chỉ là một dạng thống kê"
   ]
  },
  {
   "cell_type": "markdown",
   "metadata": {
    "id": "oCSG_aywXeSG"
   },
   "source": [
    "##Một số loại bài toán học máy"
   ]
  },
  {
   "cell_type": "markdown",
   "metadata": {
    "id": "-9pjr-iVXvLG"
   },
   "source": [
    "▪ Hệ thống phân loại email\n",
    "▪ Nhận dạng chữ viết từ ảnh\n",
    "▪ Ước lượng giá cả của sản phẩm\n",
    "▪ Dự báo thời tiết\n",
    "▪ Đánh giá trạng thái của người qua ảnh/video\n",
    "▪ Trả lời tự động (chat bot)\n",
    "▪ Gợi ý sản phẩm phù hợp với nhu cầu khách hàng\n",
    "▪ Tự động chơi trò chơi\n",
    "▪ Mô phỏng giọng nói của một người nào đó\n",
    "▪ Học có giám sát (supervised learning): học cách tiên đoán\n",
    "đầu ra theo mẫu cho trước\n",
    "✓ Tập mẫu cho trước, cho cả đầu bài và kết quả\n",
    "❖ Cho email, chỉ rõ trước đâu là spam, đâu không phải spam\n",
    "✓ Mô hình được huấn luyện trên tập mẫu\n",
    "✓ Thử nghiệm bằng cách cho đầu bài, mô hình tiên đoán kết quả,\n",
    "mô hình đoán càng chính xác càng tốt\n",
    "❖ Cho một email mới, máy tính đoán xem có phải spam không?\n",
    "✓ Có 2 loại cơ bản:\n",
    "❖ Hồi quy (regression): đầu ra là số hoặc vector\n",
    "❖ Phân lớp (classification): đầu ra thường là xác suất dự báo\n",
    "▪ Học không giám sát (unsupervised learning): tự khai\n",
    "phá các đặc trưng nội tại hợp lý của đầu vào\n",
    "✓ Chỉ cho mẫu vào, không cho biết đầu ra\n",
    "❖ Cho tập băng ghi âm lời nói của một người\n",
    "✓ Hệ thống tự học trên các mẫu mà không có định hướng\n",
    "❖ Tạo ra một đoạn phát âm theo ngữ điệu của người đã cho\n",
    "✓ Một vài chiến lược cơ bản:\n",
    "❖ Biến đổi dữ liệu đầu vào có số chiều cao thành dữ liệu có số chiều\n",
    "thấp hơn\n",
    "❖ Dữ liệu có số chiều cao nhưng các đặc trưng thành phần có tính\n",
    "“kinh tế” (economical) hơn\n",
    "❖ Gom cụm dữ liệu đầu vào\n",
    "Học tăng cường (reinforcement learning): hiệu chỉnh các\n",
    "siêu tham số (hyperparameter) để cực đại hóa lợi ích trong\n",
    "tương lai\n",
    "▪ Cho bối cảnh và các quy tắc\n",
    "❖ Bàn cờ Vây và các quy tắc của trò chơi cờ Vây\n",
    "▪ Ứng với mỗi hành động (hoặc chuỗi hành động), có một\n",
    "phần thưởng tương ứng\n",
    "❖ Đặt một quân sẽ bị mất điểm, không được hoặc được điểm\n",
    "▪ Hệ thống tự điều chỉnh chuỗi hành động sao cho được phẩn\n",
    "thưởng lớn nhất\n",
    "❖ Hệ thống học cách chơi để thắng người chơi giỏi nhất\n",
    "\n",
    "\n"
   ]
  },
  {
   "cell_type": "markdown",
   "metadata": {
    "id": "21db9085"
   },
   "source": [
    "▪ Hệ thống phân loại email\n",
    "▪ Nhận dạng chữ viết từ ảnh\n",
    "▪ Ước lượng giá cả của sản phẩm\n",
    "▪ Dự báo thời tiết\n",
    "▪ Đánh giá trạng thái của người qua ảnh/video\n",
    "▪ Trả lời tự động (chat bot)\n",
    "▪ Gợi ý sản phẩm phù hợp với nhu cầu khách hàng\n",
    "▪ Tự động chơi trò chơi\n",
    "▪ Mô phỏng giọng nói của một người nào đó\n",
    "▪ Học có giám sát (supervised learning): học cách tiên đoán đầu ra theo mẫu cho trước\n",
    "✓ Tập mẫu cho trước, cho cả đầu bài và kết quả\n",
    "❖ Cho email, chỉ rõ trước đâu là spam, đâu không phải spam\n",
    "✓ Mô hình được huấn luyện trên tập mẫu\n",
    "✓ Thử nghiệm bằng cách cho đầu bài, mô hình tiên đoán kết quả, mô hình đoán càng chính xác càng tốt\n",
    "❖ Cho một email mới, máy tính đoán xem có phải spam không?\n",
    "✓ Có 2 loại cơ bản:\n",
    "❖ Hồi quy (regression): đầu ra là số hoặc vector\n",
    "❖ Phân lớp (classification): đầu ra thường là xác suất dự báo\n",
    "▪ Học không giám sát (unsupervised learning): tự khai phá các đặc trưng nội tại hợp lý của đầu vào\n",
    "✓ Chỉ cho mẫu vào, không cho biết đầu ra\n",
    "❖ Cho tập băng ghi âm lời nói của một người\n",
    "✓ Hệ thống tự học trên các mẫu mà không có định hướng\n",
    "❖ Tạo ra một đoạn phát âm theo ngữ điệu của người đã cho\n",
    "✓ Một vài chiến lược cơ bản:\n",
    "❖ Biến đổi dữ liệu đầu vào có số chiều cao thành dữ liệu có số chiều thấp hơn\n",
    "❖ Dữ liệu có số chiều cao nhưng các đặc trưng thành phần có tính “kinh tế” (economical) hơn\n",
    "❖ Gom cụm dữ liệu đầu vào\n",
    "▪ Học tăng cường (reinforcement learning): hiệu chỉnh các siêu tham số (hyperparameter) để cực đại hóa lợi ích trong tương lai\n",
    "▪ Cho bối cảnh và các quy tắc\n",
    "❖ Bàn cờ Vây và các quy tắc của trò chơi cờ Vây\n",
    "▪ Ứng với mỗi hành động (hoặc chuỗi hành động), có một phần thưởng tương ứng\n",
    "❖ Đặt một quân sẽ bị mất điểm, không được hoặc được điểm\n",
    "▪ Hệ thống tự điều chỉnh chuỗi hành động sao cho được phẩn thưởng lớn nhất\n",
    "❖ Hệ thống học cách chơi để thắng người chơi giỏi nhất"
   ]
  },
  {
   "cell_type": "markdown",
   "metadata": {
    "id": "x15yJ6Z_YXfu"
   },
   "source": [
    "##Thư viện học máy scikit-learn"
   ]
  },
  {
   "cell_type": "markdown",
   "metadata": {
    "id": "rYP7t3I8Yhgh"
   },
   "source": [
    "###Ví dụ: dự báo cân nặng của người"
   ]
  },
  {
   "cell_type": "code",
   "execution_count": 78,
   "metadata": {
    "colab": {
     "base_uri": "https://localhost:8080/"
    },
    "executionInfo": {
     "elapsed": 24,
     "status": "ok",
     "timestamp": 1758124588054,
     "user": {
      "displayName": "quang hoàng",
      "userId": "14537424633428942085"
     },
     "user_tz": -420
    },
    "id": "dUjIVxDkX44F",
    "outputId": "2db32659-5d1b-49dd-e3b4-8de9af7aea98"
   },
   "outputs": [
    {
     "name": "stdout",
     "output_type": "stream",
     "text": [
      "File nguoi.csv đã được tạo thành công!\n"
     ]
    }
   ],
   "source": [
    "import csv\n",
    "\n",
    "def tao_file_nguoi():\n",
    "    du_lieu = [\n",
    "        [\"Ten\", \"Cao\", \"Nang\"],\n",
    "        [\"A\", 147, 49],\n",
    "        [\"B\", 150, 50],\n",
    "        [\"C\", 153, 51],\n",
    "        [\"D\", 155, 51],\n",
    "        [\"E\", 168, 60],\n",
    "        [\"F\", 170, 62],\n",
    "        [\"G\", 173, 68],\n",
    "        [\"H\", 175, 65],\n",
    "        [\"I\", 178, 66],\n",
    "        [\"J\", 180, 71],\n",
    "        [\"K\", 183, 68],\n",
    "        [\"L\", 165, 59],\n",
    "        [\"M\", 163, 58],\n",
    "        [\"N\", 160, 56],\n",
    "        [\"O\", 158, 54],\n",
    "        [\"P\", 169, 62],\n",
    "        [\"Q\", 172, 63],\n",
    "        [\"S\", 170, 62],\n",
    "        [\"T\", 176, 62],\n",
    "        [\"U\", 180, 69]\n",
    "    ]\n",
    "\n",
    "    with open('nguoi.csv', 'w', newline='', encoding='utf-8') as file:\n",
    "        writer = csv.writer(file)\n",
    "        writer.writerows(du_lieu)\n",
    "\n",
    "    print(\"File nguoi.csv đã được tạo thành công!\")\n",
    "\n",
    "# Gọi hàm để tạo file\n",
    "tao_file_nguoi()"
   ]
  },
  {
   "cell_type": "markdown",
   "metadata": {
    "id": "P7Q1TAkjZL_G"
   },
   "source": [
    "###Dự báo sử dụng hồi quy tuyến tính"
   ]
  },
  {
   "cell_type": "code",
   "execution_count": 99,
   "metadata": {
    "colab": {
     "base_uri": "https://localhost:8080/",
     "height": 831
    },
    "executionInfo": {
     "elapsed": 196,
     "status": "ok",
     "timestamp": 1758125771199,
     "user": {
      "displayName": "quang hoàng",
      "userId": "14537424633428942085"
     },
     "user_tz": -420
    },
    "id": "NLjbSuAwZOR7",
    "outputId": "f511633e-dd5e-4c6a-c198-5a2d53c5501b"
   },
   "outputs": [
    {
     "name": "stdout",
     "output_type": "stream",
     "text": [
      "     Cao  Nang\n",
      "Ten           \n",
      "A    147    49\n",
      "B    150    50\n",
      "C    153    51\n",
      "D    155    51\n",
      "E    168    60\n",
      "F    170    62\n",
      "G    173    68\n",
      "H    175    65\n",
      "I    178    66\n",
      "J    180    71\n",
      "K    183    68\n",
      "L    165    59\n",
      "M    163    58\n",
      "N    160    56\n",
      "O    158    54\n",
      "P    169    62\n",
      "Q    172    63\n",
      "S    170    62\n",
      "T    176    62\n",
      "U    180    69\n"
     ]
    },
    {
     "data": {
      "image/png": "[encoded data removed]",
      "text/plain": [
       "<Figure size 640x480 with 1 Axes>"
      ]
     },
     "metadata": {},
     "output_type": "display_data"
    }
   ],
   "source": [
    "import matplotlib.pyplot as plt\n",
    "import pandas as pd\n",
    "import numpy as np\n",
    "from sklearn import linear_model, metrics\n",
    "\n",
    "# đọc dữ liệu từ file csv\n",
    "df = pd.read_csv(\"nguoi.csv\", index_col = 0)\n",
    "\n",
    "print(df)\n",
    "# vẽ biểu đồ minh họa dataset\n",
    "plt.plot(df.Cao, df.Nang, 'ro')\n",
    "plt.xlabel('Chiều cao (cm)')\n",
    "plt.ylabel('Cân nặng (kg)')\n",
    "plt.show()"
   ]
  },
  {
   "cell_type": "code",
   "execution_count": 81,
   "metadata": {
    "colab": {
     "base_uri": "https://localhost:8080/"
    },
    "executionInfo": {
     "elapsed": 160,
     "status": "ok",
     "timestamp": 1758124701176,
     "user": {
      "displayName": "quang hoàng",
      "userId": "14537424633428942085"
     },
     "user_tz": -420
    },
    "id": "Bph3XS74Zba2",
    "outputId": "3789ff10-e1b2-468f-d879-292d37413d73"
   },
   "outputs": [
    {
     "name": "stdout",
     "output_type": "stream",
     "text": [
      "Tổng bình phương sai số trên tập mẫu: 2.546685519029107\n",
      "Hệ số hồi quy: [0.61529398]\n",
      "Sai số: -42.607917992223435\n",
      "Công thức: [Nặng] = [0.61529398] x [Cao] + -42.607917992223435\n"
     ]
    }
   ],
   "source": [
    "# sử dụng hồi quy tuyến tính\n",
    "X = df.loc[:, ['Cao']].values\n",
    "y = df.Nang.values\n",
    "\n",
    "# X là dữ liệu đầu vào\n",
    "# y là dữ liệu đầu ra\n",
    "# loại mô hình\n",
    "# tập huấn trên dữ liệu\n",
    "\n",
    "model = linear_model.LinearRegression()\n",
    "model.fit(X, y)\n",
    "# in một số thông tin về mô hình\n",
    "mse = metrics.mean_squared_error(model.predict(X), y)\n",
    "print(\"Tổng bình phương sai số trên tập mẫu:\", mse)\n",
    "print(\"Hệ số hồi quy:\", model.coef_)\n",
    "print(\"Sai số:\", model.intercept_)\n",
    "print(f\"Công thức: [Nặng] = {model.coef_} x [Cao] + {model.intercept_}\")"
   ]
  },
  {
   "cell_type": "code",
   "execution_count": 102,
   "metadata": {
    "colab": {
     "base_uri": "https://localhost:8080/",
     "height": 509
    },
    "executionInfo": {
     "elapsed": 21914,
     "status": "ok",
     "timestamp": 1758125856922,
     "user": {
      "displayName": "quang hoàng",
      "userId": "14537424633428942085"
     },
     "user_tz": -420
    },
    "id": "q-Vvg8yaZjxG",
    "outputId": "5d2a86ee-74c1-4f11-8bb7-dd1c72040b8f"
   },
   "outputs": [
    {
     "data": {
      "image/png": "[encoded data removed]",
      "text/plain": [
       "<Figure size 640x480 with 1 Axes>"
      ]
     },
     "metadata": {},
     "output_type": "display_data"
    },
    {
     "name": "stdout",
     "output_type": "stream",
     "text": [
      "Nhập chiều cao để dự báo cân nặng: 152\n",
      "Người cao 152.0 cm, dự báo cân nặng [51.41250473]\n"
     ]
    }
   ],
   "source": [
    "# vẽ lại sơ đồ\n",
    "plt.scatter(df['Cao'], df['Nang'], c='b')\n",
    "plt.plot(df['Cao'], model.predict(X))\n",
    "plt.xlabel('Chiều cao (cm)')\n",
    "plt.ylabel('Cân nặng (kg)')\n",
    "plt.title('Biểu đồ dự báo cân nặng theo chiều cao')\n",
    "plt.show()\n",
    "\n",
    "# dự báo một số tình huống\n",
    "x = float(input(\"Nhập chiều cao để dự báo cân nặng: \"))\n",
    "print(\"Người cao\", x, \"cm, dự báo cân nặng\", model.predict([[x, 0]])) # Assuming 0 for male for prediction example"
   ]
  },
  {
   "cell_type": "markdown",
   "metadata": {
    "id": "KTHfRiA4bDps"
   },
   "source": [
    "###Mở rộng: thêm cột giới tính"
   ]
  },
  {
   "cell_type": "code",
   "execution_count": 89,
   "metadata": {
    "colab": {
     "base_uri": "https://localhost:8080/"
    },
    "executionInfo": {
     "elapsed": 43,
     "status": "ok",
     "timestamp": 1758125294629,
     "user": {
      "displayName": "quang hoàng",
      "userId": "14537424633428942085"
     },
     "user_tz": -420
    },
    "id": "56de784d",
    "outputId": "6692a56d-4557-4a83-99c7-e68a7b6b1888"
   },
   "outputs": [
    {
     "name": "stdout",
     "output_type": "stream",
     "text": [
      "     Cao  Nang Gioitinh\n",
      "Ten                    \n",
      "A    147    49       Nu\n",
      "B    150    50       Nu\n",
      "C    153    51       Nu\n",
      "D    155    51       Nu\n",
      "E    168    60      Nam\n",
      "F    170    62       Nu\n",
      "G    173    68      Nam\n",
      "H    175    65      Nam\n",
      "I    178    66      Nam\n",
      "J    180    71      Nam\n",
      "K    183    68      Nam\n",
      "L    165    59       Nu\n",
      "M    163    58       Nu\n",
      "N    160    56       Nu\n",
      "O    158    54       Nu\n",
      "P    169    62      Nam\n",
      "Q    172    63      Nam\n",
      "S    170    62       Nu\n",
      "T    176    62      Nam\n",
      "U    180    69      Nam\n"
     ]
    }
   ],
   "source": [
    "# Thêm cột Gioitinh với dữ liệu cố định\n",
    "df['Gioitinh'] = [\"Nu\", \"Nu\", \"Nu\", \"Nu\", \"Nam\", \"Nu\", \"Nam\", \"Nam\", \"Nam\", \"Nam\", \"Nam\", \"Nu\", \"Nu\", \"Nu\", \"Nu\", \"Nam\", \"Nam\", \"Nu\", \"Nam\", \"Nam\"]\n",
    "\n",
    "print(df)"
   ]
  },
  {
   "cell_type": "markdown",
   "metadata": {
    "id": "kudTy9yYcK-8"
   },
   "source": [
    "###Dự báo sử dụng hồi quy tuyến tính"
   ]
  },
  {
   "cell_type": "code",
   "execution_count": 94,
   "metadata": {
    "colab": {
     "base_uri": "https://localhost:8080/"
    },
    "executionInfo": {
     "elapsed": 6,
     "status": "ok",
     "timestamp": 1758125518952,
     "user": {
      "displayName": "quang hoàng",
      "userId": "14537424633428942085"
     },
     "user_tz": -420
    },
    "id": "uLiOQ6becMTC",
    "outputId": "0a0b9138-3dc2-41dd-cab6-4c8f108d8529"
   },
   "outputs": [
    {
     "name": "stdout",
     "output_type": "stream",
     "text": [
      "Tổng bình phương sai số trên tập mẫu: 2.5272003025337124\n",
      "Hệ số hồi quy: [ 0.59775621 -0.45657381]\n",
      "Sai số: -39.4464389260053\n",
      "Công thức: [Nặng] = 0.5977562082440439 x [Cao] + -0.45657380562208466 x [Gioitinh_Nu] + -39.4464389260053\n"
     ]
    }
   ],
   "source": [
    "import pandas as pd\n",
    "import numpy as np\n",
    "from sklearn import linear_model, metrics\n",
    "\n",
    "# sử dụng hồi quy tuyến tính\n",
    "# Chuyển đổi cột 'Gioitinh' sang dạng số bằng one-hot encoding\n",
    "df_encoded = pd.get_dummies(df, columns=['Gioitinh'], drop_first=True)\n",
    "\n",
    "X = df_encoded.loc[:, ['Cao', 'Gioitinh_Nu']].values  # Sử dụng cột 'Gioitinh_Nu' sau encoding\n",
    "y = df_encoded.Nang.values\n",
    "\n",
    "# X là dữ liệu đầu vào\n",
    "# y là dữ liệu đầu ra\n",
    "model = linear_model.LinearRegression() # loại mô hình\n",
    "model.fit(X, y) # tập huấn trên dữ liệu\n",
    "\n",
    "# in một số thông tin về mô hình\n",
    "mse = metrics.mean_squared_error(model.predict(X), y)\n",
    "print(\"Tổng bình phương sai số trên tập mẫu:\", mse)\n",
    "print(\"Hệ số hồi quy:\", model.coef_)\n",
    "print(\"Sai số:\", model.intercept_)\n",
    "print(f\"Công thức: [Nặng] = {model.coef_[0]} x [Cao] + {model.coef_[1]} x [Gioitinh_Nu] + {model.intercept_}\")"
   ]
  },
  {
   "cell_type": "code",
   "execution_count": 103,
   "metadata": {
    "colab": {
     "base_uri": "https://localhost:8080/"
    },
    "executionInfo": {
     "elapsed": 21913,
     "status": "ok",
     "timestamp": 1758125911520,
     "user": {
      "displayName": "quang hoàng",
      "userId": "14537424633428942085"
     },
     "user_tz": -420
    },
    "id": "WmtIAzLrcQkS",
    "outputId": "cbda25ee-8f92-435e-d832-5856e28dbf03"
   },
   "outputs": [
    {
     "name": "stdout",
     "output_type": "stream",
     "text": [
      "Nhập chiều cao (nhập 0 để dừng): 152\n",
      "Nam giới cao 152.0 cm, dự báo cân nặng [51.41250473]\n",
      "Nữ giới cao 152.0 cm, dự báo cân nặng [50.95593092]\n",
      "Nhập chiều cao (nhập 0 để dừng): 0\n"
     ]
    }
   ],
   "source": [
    "# dự báo một số tình huống\n",
    "while True:\n",
    "    x = float(input(\"Nhập chiều cao (nhập 0 để dừng): \"))\n",
    "    if x <= 0:\n",
    "        break\n",
    "    print(\"Nam giới cao\", x, \"cm, dự báo cân nặng\", model.predict([[x, 0]]))\n",
    "    print(\"Nữ giới cao\", x, \"cm, dự báo cân nặng\", model.predict([[x, 1]]))"
   ]
  }
 ],
 "metadata": {
  "colab": {
   "authorship_tag": "ABX9TyP6A3hHkb7QlXkwaKoIYgT2",
   "collapsed_sections": [
    "_xLjeDpFebZK",
    "yJQJWKJRWKEk",
    "t1PtMuFEeple",
    "YOVv4MuabN8S",
    "lCsxh-RsgCS6",
    "V65TIPP0gI6e",
    "Ltn2DGxwrCpc",
    "Ddrs2Bd5rMLb",
    "qTYdr2HzrRIz",
    "i_idRbI-rWrj",
    "efoDfaGUrcuB",
    "MDhKZdcmr0zj",
    "DWTmZo5SsA4t",
    "NvgaT21OsGha",
    "ZK3bWTeYswwk",
    "Vr7KKXTgtAyL",
    "c5itVlYLu7Qv",
    "8MGuvYKFDhm1",
    "XehFzsJuEYDm",
    "Ix_g3V8GEmO3"
   ],
   "provenance": []
  },
  "kernelspec": {
   "display_name": "Python 3 (ipykernel)",
   "language": "python",
   "name": "python3"
  },
  "language_info": {
   "codemirror_mode": {
    "name": "ipython",
    "version": 3
   },
   "file_extension": ".py",
   "mimetype": "text/x-python",
   "name": "python",
   "nbconvert_exporter": "python",
   "pygments_lexer": "ipython3",
   "version": "3.13.5"
  }
 },
 "nbformat": 4,
 "nbformat_minor": 4
}
